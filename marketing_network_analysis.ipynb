{
  "cells": [
    {
      "cell_type": "markdown",
      "metadata": {
        "id": "view-in-github",
        "colab_type": "text"
      },
      "source": [
        "<a href=\"https://colab.research.google.com/github/TOM-BOHN/MsDS-marketing-network-analysis/blob/main/marketing_network_analysis.ipynb\" target=\"_parent\"><img src=\"https://colab.research.google.com/assets/colab-badge.svg\" alt=\"Open In Colab\"/></a>"
      ]
    },
    {
      "cell_type": "markdown",
      "metadata": {
        "id": "vea2LnX4oFBA"
      },
      "source": [
        "# Marketing Network Analysis\n",
        "**Thomas Bohn**   --   **2023-10-11**\n",
        "\n",
        "A report focused on Network Analysis using [nltk](https://www.nltk.org/) to process text from twitter and [NetworkX](https://networkx.org/) to analyze the network. The network analysis will focus 2 types of networks, a user relationship network, and a semantic network. The user relationship network will focus on understanding users central to the brands and user influential in the product category, focusing on the analysis of twitter mention as a graph data structure. The semantic network anlysis will focus on better understanding the conversation around each brand, what makes the brand unique, and what makes each brand different.\n",
        "\n",
        "--  [Main Report](https://github.com/TOM-BOHN/MsDS-marketing-network-analysis/blob/main/marketing_network_analysis.ipynb)  --  [Github Repo](https://github.com/TOM-BOHN/MsDS-marketing-network-analysis)  --  [Presentation Slides](https://docs.google.com/presentation/d/19MQawtFQv2sK_VZn0lhSueZuIDgawSz26zmG6LZdNik/edit?usp=sharing)  --  [Presentation Video](https://drive.google.com/file/d/1lKyO63ezfLaTzwn4Df_4qph36Zh4RvOY/view?usp=sharing) --"
      ]
    },
    {
      "cell_type": "markdown",
      "metadata": {
        "id": "Qv1t50XHoFKe"
      },
      "source": [
        "# 1.&nbsp;Introduction"
      ]
    },
    {
      "cell_type": "markdown",
      "metadata": {
        "id": "a2lQwh4pszOe"
      },
      "source": [
        "**Context**\n",
        "Network Analysis is applicable to any dataset where the relationships between elements are importnant. One source of rich network (or graph) data is through Twitter or other social networks, where people post, share, and mentions other.In the case of network analysis, we can use tweets that are created and mention brands of interest to understand the conversation around a specific topic or category.\n",
        "\n",
        "**Background**\n",
        "This notebook focuses on an analysis of how consumers talk about three competing brands: **Nike**, **Adidas**, and **Lululemon**. This will take the form of network analysis and semantic network analysis, using a graph data representation of the dataset to look for trends and patterns.\n",
        "\n",
        "The goal is to understand the chatter around each brand better, what makes each brand unique, and what makes each brand different. Network analysis will also be used to identify users that are most central to the brand and users that are hyper interested in the product category of athletic wear.\n",
        "\n",
        "**Data Source**\n",
        "The dataset is sourced from the Twitter API, specifically the [Search Endpoint](https://developer.twitter.com/en/docs/twitter-api/v1/tweets/search/api-reference/get-search-tweets) to retrieve Tweets that mention the three brands of interest. The following describes the scope of the data:\n",
        "- Tweets were retrieved over the last 93 days\n",
        "- About ~150k tweets are included in the dataset\n",
        "- Tweets are “at Mentions” (@nike, @lululemon, @adidas)\n",
        "- Tweets were sent from the US and are in English\n",
        "\n",
        "The raw data sources for the project can be accessed with the following links:\n",
        "- [Tweet Data](http://128.138.93.164/nikelululemonadidas_tweets.jsonl.gz)\n",
        "\n",
        "**Overview of Observations**\n",
        "\n",
        "Twitter API data is utilized in this project. The structure of the [Tweet object model](https://developer.twitter.com/en/docs/twitter-api/v1/data-dictionary/object-model/tweet) can be as a data dictionary provided by Twitter as part of the Twitter Developer Platform.\n",
        "\n",
        "**Objective**\n",
        "The objective is to build a unsupervize network analysis to explore and analyze the dataset for 3 athletic wear brands: **Nike**, **Adidas**, and **Lululemon**. The analysis wil follow 3 worksteams:\n",
        "1. **Twitter Mentions Graph** - A valued, directed network graph of Twitter mentions. Will show Twitter users that are most centrally related to the brand (e.g., they regularly mention the brand). This graph will also illustrate who mentions who on Twitter, and in what way those mentions flow. One mention graph will be created with mentions for all three brands.\n",
        "2. **Semantic Network Graph** - A semantic network analysis graph of words used in Tweets. This graph will reveal what words are most commonly associated with each other, for each brand. One semantic graph will be created, with data for all three brands.\n",
        "3. **Using the Graph Data for Analysis:** Using the dataset and graphs, analyze specific questions related to the brands to help the brands understand the conversation and who is involved in the conversation.\n",
        "\n",
        "**Report Overview**\n",
        "The project will cover 5 key phases:\n",
        "1. Data Source: Extracting, filtering, and focusing the data on the Nike brand\n",
        "2. Preprocessing: Extracting Features from Tweets\n",
        "3. Mention Network: Analysis of @mentions in the Tweet corpus\n",
        "4. Semantic Network: Analysis of the words used in the Tweet corpus\n",
        "5. Graph with Pyvis: Analysis of graph data using pyvis\n",
        "6. Data Analysis and Exploration: Answer specific questions about the graph network datasets"
      ]
    },
    {
      "cell_type": "markdown",
      "metadata": {
        "id": "u5twBZEioFNU"
      },
      "source": [
        "## Import Python Libraries\n",
        "\n",
        "The following python libraries are used in this notebook."
      ]
    },
    {
      "cell_type": "code",
      "execution_count": 3,
      "metadata": {
        "colab": {
          "base_uri": "https://localhost:8080/"
        },
        "id": "s9VoR3Frq144",
        "outputId": "74a4e53d-65aa-47b2-a37b-9328d29365b1"
      },
      "outputs": [
        {
          "output_type": "stream",
          "name": "stdout",
          "text": [
            "[-] Importing packages...\n"
          ]
        }
      ],
      "source": [
        "print('[-] Importing packages...')\n",
        "# File Connection and File Manipulation\n",
        "import os\n",
        "import pickle\n",
        "import gzip\n",
        "import json\n",
        "# Basic Data Science Toolkits\n",
        "import pandas as pd\n",
        "import numpy as np\n",
        "import math\n",
        "import random\n",
        "import time\n",
        "import re\n",
        "import itertools\n",
        "import datetime\n",
        "# Basic Data Vizualization\n",
        "import seaborn as sns\n",
        "import matplotlib.pyplot as plt\n",
        "import networkx as nx\n",
        "# Text Preprocessing(other)\n",
        "import string\n",
        "import nltk"
      ]
    },
    {
      "cell_type": "code",
      "source": [
        "print('[-] Importing packages...')\n",
        "try:\n",
        "  import pyvis\n",
        "  from pyvis.network import Network\n",
        "except:\n",
        "  !pip install pyvis\n",
        "  import pyvis\n",
        "  from pyvis.network import Network"
      ],
      "metadata": {
        "colab": {
          "base_uri": "https://localhost:8080/"
        },
        "id": "3PvI6p6cvPIq",
        "outputId": "928d09b0-f37b-4e32-8b58-7915cfc9f0f6"
      },
      "execution_count": 4,
      "outputs": [
        {
          "output_type": "stream",
          "name": "stdout",
          "text": [
            "[-] Importing packages...\n",
            "Collecting pyvis\n",
            "  Downloading pyvis-0.3.2-py3-none-any.whl (756 kB)\n",
            "\u001b[2K     \u001b[90m━━━━━━━━━━━━━━━━━━━━━━━━━━━━━━━━━━━━━━━\u001b[0m \u001b[32m756.0/756.0 kB\u001b[0m \u001b[31m9.4 MB/s\u001b[0m eta \u001b[36m0:00:00\u001b[0m\n",
            "\u001b[?25hRequirement already satisfied: ipython>=5.3.0 in /usr/local/lib/python3.10/dist-packages (from pyvis) (7.34.0)\n",
            "Requirement already satisfied: jinja2>=2.9.6 in /usr/local/lib/python3.10/dist-packages (from pyvis) (3.1.2)\n",
            "Requirement already satisfied: jsonpickle>=1.4.1 in /usr/local/lib/python3.10/dist-packages (from pyvis) (3.0.2)\n",
            "Requirement already satisfied: networkx>=1.11 in /usr/local/lib/python3.10/dist-packages (from pyvis) (3.1)\n",
            "Requirement already satisfied: setuptools>=18.5 in /usr/local/lib/python3.10/dist-packages (from ipython>=5.3.0->pyvis) (67.7.2)\n",
            "Collecting jedi>=0.16 (from ipython>=5.3.0->pyvis)\n",
            "  Downloading jedi-0.19.1-py2.py3-none-any.whl (1.6 MB)\n",
            "\u001b[2K     \u001b[90m━━━━━━━━━━━━━━━━━━━━━━━━━━━━━━━━━━━━━━━━\u001b[0m \u001b[32m1.6/1.6 MB\u001b[0m \u001b[31m43.0 MB/s\u001b[0m eta \u001b[36m0:00:00\u001b[0m\n",
            "\u001b[?25hRequirement already satisfied: decorator in /usr/local/lib/python3.10/dist-packages (from ipython>=5.3.0->pyvis) (4.4.2)\n",
            "Requirement already satisfied: pickleshare in /usr/local/lib/python3.10/dist-packages (from ipython>=5.3.0->pyvis) (0.7.5)\n",
            "Requirement already satisfied: traitlets>=4.2 in /usr/local/lib/python3.10/dist-packages (from ipython>=5.3.0->pyvis) (5.7.1)\n",
            "Requirement already satisfied: prompt-toolkit!=3.0.0,!=3.0.1,<3.1.0,>=2.0.0 in /usr/local/lib/python3.10/dist-packages (from ipython>=5.3.0->pyvis) (3.0.39)\n",
            "Requirement already satisfied: pygments in /usr/local/lib/python3.10/dist-packages (from ipython>=5.3.0->pyvis) (2.16.1)\n",
            "Requirement already satisfied: backcall in /usr/local/lib/python3.10/dist-packages (from ipython>=5.3.0->pyvis) (0.2.0)\n",
            "Requirement already satisfied: matplotlib-inline in /usr/local/lib/python3.10/dist-packages (from ipython>=5.3.0->pyvis) (0.1.6)\n",
            "Requirement already satisfied: pexpect>4.3 in /usr/local/lib/python3.10/dist-packages (from ipython>=5.3.0->pyvis) (4.8.0)\n",
            "Requirement already satisfied: MarkupSafe>=2.0 in /usr/local/lib/python3.10/dist-packages (from jinja2>=2.9.6->pyvis) (2.1.3)\n",
            "Requirement already satisfied: parso<0.9.0,>=0.8.3 in /usr/local/lib/python3.10/dist-packages (from jedi>=0.16->ipython>=5.3.0->pyvis) (0.8.3)\n",
            "Requirement already satisfied: ptyprocess>=0.5 in /usr/local/lib/python3.10/dist-packages (from pexpect>4.3->ipython>=5.3.0->pyvis) (0.7.0)\n",
            "Requirement already satisfied: wcwidth in /usr/local/lib/python3.10/dist-packages (from prompt-toolkit!=3.0.0,!=3.0.1,<3.1.0,>=2.0.0->ipython>=5.3.0->pyvis) (0.2.8)\n",
            "Installing collected packages: jedi, pyvis\n",
            "Successfully installed jedi-0.19.1 pyvis-0.3.2\n"
          ]
        }
      ]
    },
    {
      "cell_type": "markdown",
      "metadata": {
        "id": "F64I9WoBrmRB"
      },
      "source": [
        "Using the `punkt`, `stopwords` and `wordnet` datasets from nltk in our analysis. Downloaded here for use in our notebook."
      ]
    },
    {
      "cell_type": "code",
      "execution_count": 5,
      "metadata": {
        "colab": {
          "base_uri": "https://localhost:8080/"
        },
        "id": "8B8x-0C1rmZF",
        "outputId": "0ea40d4b-302f-4981-8f28-869b0b974273"
      },
      "outputs": [
        {
          "output_type": "stream",
          "name": "stderr",
          "text": [
            "[nltk_data] Downloading package punkt to /root/nltk_data...\n",
            "[nltk_data]   Unzipping tokenizers/punkt.zip.\n",
            "[nltk_data] Downloading package stopwords to /root/nltk_data...\n",
            "[nltk_data]   Unzipping corpora/stopwords.zip.\n",
            "[nltk_data] Downloading package wordnet to /root/nltk_data...\n",
            "[nltk_data] Downloading package averaged_perceptron_tagger to\n",
            "[nltk_data]     /root/nltk_data...\n",
            "[nltk_data]   Unzipping taggers/averaged_perceptron_tagger.zip.\n"
          ]
        },
        {
          "output_type": "execute_result",
          "data": {
            "text/plain": [
              "True"
            ]
          },
          "metadata": {},
          "execution_count": 5
        }
      ],
      "source": [
        "#Download required corpus based data to nltk package\n",
        "nltk.download(\"punkt\")\n",
        "nltk.download(\"stopwords\")\n",
        "nltk.download(\"wordnet\")\n",
        "nltk.download(\"averaged_perceptron_tagger\")"
      ]
    },
    {
      "cell_type": "markdown",
      "metadata": {
        "id": "VSOI9ZX_oFQe"
      },
      "source": [
        "## Set Global Variables"
      ]
    },
    {
      "cell_type": "code",
      "execution_count": 6,
      "metadata": {
        "id": "AAnzeFftq1iU"
      },
      "outputs": [],
      "source": [
        "gDEBUG = True"
      ]
    },
    {
      "cell_type": "markdown",
      "metadata": {
        "id": "1BYH3I3DoFTN"
      },
      "source": [
        "## Verify GPU Runtime"
      ]
    },
    {
      "cell_type": "code",
      "execution_count": 7,
      "metadata": {
        "colab": {
          "base_uri": "https://localhost:8080/"
        },
        "id": "Gj7g2YkGqetW",
        "outputId": "0b78bf16-b6ed-4fd5-e193-9c74abdab522"
      },
      "outputs": [
        {
          "output_type": "stream",
          "name": "stdout",
          "text": [
            "/bin/bash: line 1: nvidia-smi: command not found\n"
          ]
        }
      ],
      "source": [
        "#see the GPU assigned\n",
        "gpu_info = !nvidia-smi\n",
        "gpu_info = '\\n'.join(gpu_info)\n",
        "if gpu_info.find('failed') >= 0:\n",
        "  print('Not connected to a GPU')\n",
        "else:\n",
        "  print(gpu_info)"
      ]
    },
    {
      "cell_type": "code",
      "execution_count": 8,
      "metadata": {
        "colab": {
          "base_uri": "https://localhost:8080/"
        },
        "id": "uk9sN070qe0i",
        "outputId": "3e2544e8-833d-4ddf-b932-e18ff76cd03c"
      },
      "outputs": [
        {
          "output_type": "stream",
          "name": "stdout",
          "text": [
            "  [.] Your runtime has 54.8 gigabytes of available RAM\n",
            "  [.] You are using a high-RAM runtime!\n"
          ]
        }
      ],
      "source": [
        "#See the virtual memory assigned\n",
        "from psutil import virtual_memory\n",
        "ram_gb = virtual_memory().total / 1e9\n",
        "print('  [.] Your runtime has {:.1f} gigabytes of available RAM'.format(ram_gb))\n",
        "\n",
        "if ram_gb < 20:\n",
        "  print('  [.] Not using a high-RAM runtime')\n",
        "else:\n",
        "  print('  [.] You are using a high-RAM runtime!')"
      ]
    },
    {
      "cell_type": "markdown",
      "metadata": {
        "id": "EoXy4dDOqhzE"
      },
      "source": [
        "## Mount Google Drive"
      ]
    },
    {
      "cell_type": "code",
      "execution_count": 9,
      "metadata": {
        "colab": {
          "base_uri": "https://localhost:8080/"
        },
        "id": "P6a82wN0qh6_",
        "outputId": "f983a585-1630-470d-c887-b00a6e087b5f"
      },
      "outputs": [
        {
          "output_type": "stream",
          "name": "stdout",
          "text": [
            "Mounted at /content/drive\n"
          ]
        }
      ],
      "source": [
        "## Mount Google Drive\n",
        "from google.colab import drive\n",
        "drive.mount('/content/drive')"
      ]
    },
    {
      "cell_type": "markdown",
      "metadata": {
        "id": "e6rPLY7Iqmfn"
      },
      "source": [
        "## Setup Directories"
      ]
    },
    {
      "cell_type": "code",
      "execution_count": 10,
      "metadata": {
        "id": "pdvmS9gXqm6D"
      },
      "outputs": [],
      "source": [
        "#Setup Directories\n",
        "ROOT_DIR = \"/content/drive/MyDrive/MSDS_marketing_text_analytics/master_files/3_network_analysis\"\n",
        "DATA_DIR = \"%s/data\" % ROOT_DIR\n",
        "EVAL_DIR = \"%s/evaluation\" % ROOT_DIR\n",
        "MODEL_DIR = \"%s/models\" % ROOT_DIR\n",
        "\n",
        "#Create missing directories, if they don't exist\n",
        "if not os.path.exists(DATA_DIR):\n",
        "  # Create a new directory because it does not exist\n",
        "  os.makedirs(DATA_DIR)\n",
        "  print(\"The data directory is created!\")\n",
        "if not os.path.exists(EVAL_DIR):\n",
        "  # Create a new directory because it does not exist\n",
        "  os.makedirs(EVAL_DIR)\n",
        "  print(\"The evaluation directory is created!\")\n",
        "if not os.path.exists(MODEL_DIR):\n",
        "  # Create a new directory because it does not exist\n",
        "  os.makedirs(MODEL_DIR)\n",
        "  print(\"The model directory is created!\")"
      ]
    },
    {
      "cell_type": "markdown",
      "metadata": {
        "id": "a1BMdG-sst3Z"
      },
      "source": [
        "# 2.&nbsp;Data Source\n",
        "\n",
        "Import and process the Twitter data."
      ]
    },
    {
      "cell_type": "markdown",
      "metadata": {
        "id": "H_1s3y--JSQ6"
      },
      "source": [
        "## Copy Data From Source"
      ]
    },
    {
      "cell_type": "code",
      "execution_count": null,
      "metadata": {
        "colab": {
          "base_uri": "https://localhost:8080/"
        },
        "id": "cAGcm2gxJRQ4",
        "outputId": "9bd0972d-c372-4fe5-dbae-025aef285945"
      },
      "outputs": [
        {
          "output_type": "stream",
          "name": "stdout",
          "text": [
            "--2023-10-10 18:30:53--  https://docs.google.com/uc?export=download&id=12sq73UTafhP6M8iUuP62yr4uRthFEp_-&confirm=t\n",
            "Resolving docs.google.com (docs.google.com)... 142.251.167.100, 142.251.167.101, 142.251.167.138, ...\n",
            "Connecting to docs.google.com (docs.google.com)|142.251.167.100|:443... connected.\n",
            "HTTP request sent, awaiting response... 303 See Other\n",
            "Location: https://doc-0o-58-docs.googleusercontent.com/docs/securesc/ha0ro937gcuc7l7deffksulhg5h7mbp1/q1tu7o7u37oa0sgvgkhf3mb823n146cm/1696962600000/15741694635513001712/*/12sq73UTafhP6M8iUuP62yr4uRthFEp_-?e=download&uuid=4813233d-a485-4496-a70d-399fb5f3e828 [following]\n",
            "Warning: wildcards not supported in HTTP.\n",
            "--2023-10-10 18:30:53--  https://doc-0o-58-docs.googleusercontent.com/docs/securesc/ha0ro937gcuc7l7deffksulhg5h7mbp1/q1tu7o7u37oa0sgvgkhf3mb823n146cm/1696962600000/15741694635513001712/*/12sq73UTafhP6M8iUuP62yr4uRthFEp_-?e=download&uuid=4813233d-a485-4496-a70d-399fb5f3e828\n",
            "Resolving doc-0o-58-docs.googleusercontent.com (doc-0o-58-docs.googleusercontent.com)... 172.253.63.132, 2607:f8b0:4004:c08::84\n",
            "Connecting to doc-0o-58-docs.googleusercontent.com (doc-0o-58-docs.googleusercontent.com)|172.253.63.132|:443... connected.\n",
            "HTTP request sent, awaiting response... 200 OK\n",
            "Length: 101247175 (97M) [application/x-gzip]\n",
            "Saving to: ‘/content/drive/MyDrive/MSDS_marketing_text_analytics/master_files/3_network_analysis/data/nikelululemonadidas_tweets.jsonl.gz’\n",
            "\n",
            "/content/drive/MyDr 100%[===================>]  96.56M  58.2MB/s    in 1.7s    \n",
            "\n",
            "2023-10-10 18:30:55 (58.2 MB/s) - ‘/content/drive/MyDrive/MSDS_marketing_text_analytics/master_files/3_network_analysis/data/nikelululemonadidas_tweets.jsonl.gz’ saved [101247175/101247175]\n",
            "\n"
          ]
        }
      ],
      "source": [
        "#Copy Data From Source\n",
        "#!wget <URL> -P <COLAB PATH>\n",
        "#source_url = 'http://128.138.93.164/nikelululemonadidas_tweets.jsonl.gz' # true source, need better link\n",
        "source_url = 'https://docs.google.com/uc?export=download&id=12sq73UTafhP6M8iUuP62yr4uRthFEp_-&confirm=t' # local source, working for testing\n",
        "dest_path = '%s/nikelululemonadidas_tweets.jsonl.gz' % DATA_DIR\n",
        "!wget \"$source_url\" -O \"$dest_path\""
      ]
    },
    {
      "cell_type": "code",
      "execution_count": null,
      "metadata": {
        "id": "RH_M-2d5KQmb"
      },
      "outputs": [],
      "source": [
        "#tweet_file_path = '%s/nikelululemonadidas_tweets.jsonl.gz' % DATA_DIR\n",
        "#!gzip -d \"$tweet_file_path\""
      ]
    },
    {
      "cell_type": "markdown",
      "metadata": {
        "id": "berzG_GDKyGt"
      },
      "source": [
        "## Inspect Some of the Data"
      ]
    },
    {
      "cell_type": "code",
      "execution_count": null,
      "metadata": {
        "colab": {
          "base_uri": "https://localhost:8080/"
        },
        "id": "oJ2AtGYZKvjX",
        "outputId": "00687191-9a9a-467c-dcd1-ef7e6e819dfd"
      },
      "outputs": [
        {
          "output_type": "stream",
          "name": "stdout",
          "text": [
            "tweet 0 : #ad The Nike Women's Air More Uptempo 96 'White/Opti Yellow' is now available via @footlocker! |$160| #SneakerScouts @Nike https://t.co/5lAq7b2ffU https://t.co/wmjxIcsheP \n",
            "\n",
            "tweet 2 : Proof @LaserShip is stealing. I work from home and have a ring doorbell. @wsoctv @Nike @wcnc @wbtv @bbb_us https://t.co/9o3stezjgs \n",
            "\n",
            "tweet 3 : RT @pyleaks: *LEAK ALERT*: The next Supreme x @Nike collab for Spring 2022 will feature the Nike Shox Ride 2.\n",
            "The duo will be dropping 3 co… \n",
            "\n",
            "tweet 4 : RT @SneakerScouts: #ad The Space Jam x Nike LeBron 18 Low 'Sylvester vs. Tweety' is now available via @snipes_usa! |$160| #SneakerScouts @K… \n",
            "\n"
          ]
        }
      ],
      "source": [
        "LIMIT = 5\n",
        "tweet_file_path = '%s/nikelululemonadidas_tweets.jsonl' % DATA_DIR\n",
        "\n",
        "# Inspect LIMIT number of Tweets that mention Nike\n",
        "with open(tweet_file_path) as data_file:\n",
        "    for i, line in enumerate(data_file):\n",
        "        if i >= LIMIT:\n",
        "            break\n",
        "        tweet = json.loads(line)\n",
        "        text = tweet.get(\"full_text\") or tweet.get(\"text\")\n",
        "        if \"nike\" in text.lower():\n",
        "            print('tweet', i,':', text, '\\n')"
      ]
    },
    {
      "cell_type": "code",
      "execution_count": null,
      "metadata": {
        "colab": {
          "base_uri": "https://localhost:8080/"
        },
        "id": "ILNHCwPpDarX",
        "outputId": "96540135-8c58-4bee-bb79-296010fed3cd"
      },
      "outputs": [
        {
          "output_type": "execute_result",
          "data": {
            "text/plain": [
              "{'created_at': 'Fri Oct 01 06:22:08 +0000 2021',\n",
              " 'id': 1443823529296867300,\n",
              " 'id_str': '1443823529296867350',\n",
              " 'full_text': \"RT @SneakerScouts: #ad The Space Jam x Nike LeBron 18 Low 'Sylvester vs. Tweety' is now available via @snipes_usa! |$160| #SneakerScouts @K…\",\n",
              " 'truncated': False,\n",
              " 'display_text_range': [0, 140],\n",
              " 'entities': {'hashtags': [{'text': 'ad', 'indices': [19, 22]},\n",
              "   {'text': 'SneakerScouts', 'indices': [122, 136]}],\n",
              "  'symbols': [],\n",
              "  'user_mentions': [{'screen_name': 'SneakerScouts',\n",
              "    'name': '#SneakerScouts',\n",
              "    'id': 792182745942233100,\n",
              "    'id_str': '792182745942233089',\n",
              "    'indices': [3, 17]},\n",
              "   {'screen_name': 'snipes_usa',\n",
              "    'name': 'SNIPES_USA',\n",
              "    'id': 83606701,\n",
              "    'id_str': '83606701',\n",
              "    'indices': [102, 113]}],\n",
              "  'urls': []},\n",
              " 'source': '<a href=\"https://mobile.twitter.com\" rel=\"nofollow\">Twitter Web App</a>',\n",
              " 'in_reply_to_status_id': None,\n",
              " 'in_reply_to_status_id_str': None,\n",
              " 'in_reply_to_user_id': None,\n",
              " 'in_reply_to_user_id_str': None,\n",
              " 'in_reply_to_screen_name': None,\n",
              " 'user': {'id': 792182745942233100,\n",
              "  'id_str': '792182745942233089',\n",
              "  'name': '#SneakerScouts',\n",
              "  'screen_name': 'SneakerScouts',\n",
              "  'location': '',\n",
              "  'description': 'The #1 source for sneaker news, release dates, sales, and general information! info@SneakerScouts.com  #SneakerScouts',\n",
              "  'url': 'https://t.co/YBERhCCwh7',\n",
              "  'entities': {'url': {'urls': [{'url': 'https://t.co/YBERhCCwh7',\n",
              "      'expanded_url': 'http://www.SneakerScouts.com',\n",
              "      'display_url': 'SneakerScouts.com',\n",
              "      'indices': [0, 23]}]},\n",
              "   'description': {'urls': []}},\n",
              "  'protected': False,\n",
              "  'followers_count': 18262,\n",
              "  'friends_count': 6397,\n",
              "  'listed_count': 82,\n",
              "  'created_at': 'Sat Oct 29 01:54:19 +0000 2016',\n",
              "  'favourites_count': 169294,\n",
              "  'utc_offset': None,\n",
              "  'time_zone': None,\n",
              "  'geo_enabled': False,\n",
              "  'verified': False,\n",
              "  'statuses_count': 301804,\n",
              "  'lang': None,\n",
              "  'contributors_enabled': False,\n",
              "  'is_translator': False,\n",
              "  'is_translation_enabled': False,\n",
              "  'profile_background_color': '000000',\n",
              "  'profile_background_image_url': 'http://abs.twimg.com/images/themes/theme1/bg.png',\n",
              "  'profile_background_image_url_https': 'https://abs.twimg.com/images/themes/theme1/bg.png',\n",
              "  'profile_background_tile': False,\n",
              "  'profile_image_url': 'http://pbs.twimg.com/profile_images/971422898886868992/K3R78VcP_normal.jpg',\n",
              "  'profile_image_url_https': 'https://pbs.twimg.com/profile_images/971422898886868992/K3R78VcP_normal.jpg',\n",
              "  'profile_banner_url': 'https://pbs.twimg.com/profile_banners/792182745942233089/1540175194',\n",
              "  'profile_link_color': '000000',\n",
              "  'profile_sidebar_border_color': '000000',\n",
              "  'profile_sidebar_fill_color': '000000',\n",
              "  'profile_text_color': '000000',\n",
              "  'profile_use_background_image': False,\n",
              "  'has_extended_profile': False,\n",
              "  'default_profile': False,\n",
              "  'default_profile_image': False,\n",
              "  'following': False,\n",
              "  'follow_request_sent': False,\n",
              "  'notifications': False,\n",
              "  'translator_type': 'none',\n",
              "  'withheld_in_countries': []},\n",
              " 'geo': None,\n",
              " 'coordinates': None,\n",
              " 'place': None,\n",
              " 'contributors': None,\n",
              " 'retweeted_status': {'created_at': 'Thu Sep 30 16:10:08 +0000 2021',\n",
              "  'id': 1443609113901080600,\n",
              "  'id_str': '1443609113901080576',\n",
              "  'full_text': \"#ad The Space Jam x Nike LeBron 18 Low 'Sylvester vs. Tweety' is now available via @snipes_usa! |$160| #SneakerScouts @KingJames @Nike https://t.co/JmXLCWSQB0 https://t.co/qt9BezGxQA\",\n",
              "  'truncated': False,\n",
              "  'display_text_range': [0, 158],\n",
              "  'entities': {'hashtags': [{'text': 'ad', 'indices': [0, 3]},\n",
              "    {'text': 'SneakerScouts', 'indices': [103, 117]}],\n",
              "   'symbols': [],\n",
              "   'user_mentions': [{'screen_name': 'snipes_usa',\n",
              "     'name': 'SNIPES_USA',\n",
              "     'id': 83606701,\n",
              "     'id_str': '83606701',\n",
              "     'indices': [83, 94]},\n",
              "    {'screen_name': 'KingJames',\n",
              "     'name': 'LeBron James',\n",
              "     'id': 23083404,\n",
              "     'id_str': '23083404',\n",
              "     'indices': [118, 128]},\n",
              "    {'screen_name': 'Nike',\n",
              "     'name': 'Nike',\n",
              "     'id': 415859364,\n",
              "     'id_str': '415859364',\n",
              "     'indices': [129, 134]}],\n",
              "   'urls': [{'url': 'https://t.co/JmXLCWSQB0',\n",
              "     'expanded_url': 'https://www.snipesusa.com/lebron-18-low--sylvester-vs-tweety--nike-usa-multi-cv7562-103-1000093902.html?ranMID=39800&ranEAID=zAJE4hSbGa4&ranSiteID=zAJE4hSbGa4-7XC2P.2wCMbckrmfYXeCMQ&utm_source=linkshare&utm_medium=affiliate&utm_campaign=zAJE4hSbGa4&utm_term=10&utm_content=1&siteID=zAJE4hSbGa4-7XC2P.2wCMbckrmfYXeCMQ&utm_campaign=%23SneakerScouts',\n",
              "     'display_url': 'snipesusa.com/lebron-18-low-…',\n",
              "     'indices': [135, 158]}],\n",
              "   'media': [{'id': 1443609112017784800,\n",
              "     'id_str': '1443609112017784836',\n",
              "     'indices': [159, 182],\n",
              "     'media_url': 'http://pbs.twimg.com/media/FAi61rxWUAQ_mE6.png',\n",
              "     'media_url_https': 'https://pbs.twimg.com/media/FAi61rxWUAQ_mE6.png',\n",
              "     'url': 'https://t.co/qt9BezGxQA',\n",
              "     'display_url': 'pic.twitter.com/qt9BezGxQA',\n",
              "     'expanded_url': 'https://twitter.com/SneakerScouts/status/1443609113901080576/photo/1',\n",
              "     'type': 'photo',\n",
              "     'sizes': {'small': {'w': 604, 'h': 680, 'resize': 'fit'},\n",
              "      'large': {'w': 640, 'h': 720, 'resize': 'fit'},\n",
              "      'medium': {'w': 640, 'h': 720, 'resize': 'fit'},\n",
              "      'thumb': {'w': 150, 'h': 150, 'resize': 'crop'}}}]},\n",
              "  'extended_entities': {'media': [{'id': 1443609112017784800,\n",
              "     'id_str': '1443609112017784836',\n",
              "     'indices': [159, 182],\n",
              "     'media_url': 'http://pbs.twimg.com/media/FAi61rxWUAQ_mE6.png',\n",
              "     'media_url_https': 'https://pbs.twimg.com/media/FAi61rxWUAQ_mE6.png',\n",
              "     'url': 'https://t.co/qt9BezGxQA',\n",
              "     'display_url': 'pic.twitter.com/qt9BezGxQA',\n",
              "     'expanded_url': 'https://twitter.com/SneakerScouts/status/1443609113901080576/photo/1',\n",
              "     'type': 'photo',\n",
              "     'sizes': {'small': {'w': 604, 'h': 680, 'resize': 'fit'},\n",
              "      'large': {'w': 640, 'h': 720, 'resize': 'fit'},\n",
              "      'medium': {'w': 640, 'h': 720, 'resize': 'fit'},\n",
              "      'thumb': {'w': 150, 'h': 150, 'resize': 'crop'}}},\n",
              "    {'id': 1443609112055632000,\n",
              "     'id_str': '1443609112055631874',\n",
              "     'indices': [159, 182],\n",
              "     'media_url': 'http://pbs.twimg.com/media/FAi61r6X0AIFRSV.png',\n",
              "     'media_url_https': 'https://pbs.twimg.com/media/FAi61r6X0AIFRSV.png',\n",
              "     'url': 'https://t.co/qt9BezGxQA',\n",
              "     'display_url': 'pic.twitter.com/qt9BezGxQA',\n",
              "     'expanded_url': 'https://twitter.com/SneakerScouts/status/1443609113901080576/photo/1',\n",
              "     'type': 'photo',\n",
              "     'sizes': {'medium': {'w': 640, 'h': 720, 'resize': 'fit'},\n",
              "      'thumb': {'w': 150, 'h': 150, 'resize': 'crop'},\n",
              "      'small': {'w': 604, 'h': 680, 'resize': 'fit'},\n",
              "      'large': {'w': 640, 'h': 720, 'resize': 'fit'}}},\n",
              "    {'id': 1443609112084992000,\n",
              "     'id_str': '1443609112084992009',\n",
              "     'indices': [159, 182],\n",
              "     'media_url': 'http://pbs.twimg.com/media/FAi61sBX0Aksqg1.png',\n",
              "     'media_url_https': 'https://pbs.twimg.com/media/FAi61sBX0Aksqg1.png',\n",
              "     'url': 'https://t.co/qt9BezGxQA',\n",
              "     'display_url': 'pic.twitter.com/qt9BezGxQA',\n",
              "     'expanded_url': 'https://twitter.com/SneakerScouts/status/1443609113901080576/photo/1',\n",
              "     'type': 'photo',\n",
              "     'sizes': {'medium': {'w': 640, 'h': 720, 'resize': 'fit'},\n",
              "      'small': {'w': 604, 'h': 680, 'resize': 'fit'},\n",
              "      'thumb': {'w': 150, 'h': 150, 'resize': 'crop'},\n",
              "      'large': {'w': 640, 'h': 720, 'resize': 'fit'}}},\n",
              "    {'id': 1443609111485206500,\n",
              "     'id_str': '1443609111485206535',\n",
              "     'indices': [159, 182],\n",
              "     'media_url': 'http://pbs.twimg.com/media/FAi61pyX0AcihlU.png',\n",
              "     'media_url_https': 'https://pbs.twimg.com/media/FAi61pyX0AcihlU.png',\n",
              "     'url': 'https://t.co/qt9BezGxQA',\n",
              "     'display_url': 'pic.twitter.com/qt9BezGxQA',\n",
              "     'expanded_url': 'https://twitter.com/SneakerScouts/status/1443609113901080576/photo/1',\n",
              "     'type': 'photo',\n",
              "     'sizes': {'small': {'w': 604, 'h': 680, 'resize': 'fit'},\n",
              "      'large': {'w': 640, 'h': 720, 'resize': 'fit'},\n",
              "      'medium': {'w': 640, 'h': 720, 'resize': 'fit'},\n",
              "      'thumb': {'w': 150, 'h': 150, 'resize': 'crop'}}}]},\n",
              "  'source': '<a href=\"https://www.hootsuite.com\" rel=\"nofollow\">Hootsuite Inc.</a>',\n",
              "  'in_reply_to_status_id': None,\n",
              "  'in_reply_to_status_id_str': None,\n",
              "  'in_reply_to_user_id': None,\n",
              "  'in_reply_to_user_id_str': None,\n",
              "  'in_reply_to_screen_name': None,\n",
              "  'user': {'id': 792182745942233100,\n",
              "   'id_str': '792182745942233089',\n",
              "   'name': '#SneakerScouts',\n",
              "   'screen_name': 'SneakerScouts',\n",
              "   'location': '',\n",
              "   'description': 'The #1 source for sneaker news, release dates, sales, and general information! info@SneakerScouts.com  #SneakerScouts',\n",
              "   'url': 'https://t.co/YBERhCCwh7',\n",
              "   'entities': {'url': {'urls': [{'url': 'https://t.co/YBERhCCwh7',\n",
              "       'expanded_url': 'http://www.SneakerScouts.com',\n",
              "       'display_url': 'SneakerScouts.com',\n",
              "       'indices': [0, 23]}]},\n",
              "    'description': {'urls': []}},\n",
              "   'protected': False,\n",
              "   'followers_count': 18262,\n",
              "   'friends_count': 6397,\n",
              "   'listed_count': 82,\n",
              "   'created_at': 'Sat Oct 29 01:54:19 +0000 2016',\n",
              "   'favourites_count': 169294,\n",
              "   'utc_offset': None,\n",
              "   'time_zone': None,\n",
              "   'geo_enabled': False,\n",
              "   'verified': False,\n",
              "   'statuses_count': 301804,\n",
              "   'lang': None,\n",
              "   'contributors_enabled': False,\n",
              "   'is_translator': False,\n",
              "   'is_translation_enabled': False,\n",
              "   'profile_background_color': '000000',\n",
              "   'profile_background_image_url': 'http://abs.twimg.com/images/themes/theme1/bg.png',\n",
              "   'profile_background_image_url_https': 'https://abs.twimg.com/images/themes/theme1/bg.png',\n",
              "   'profile_background_tile': False,\n",
              "   'profile_image_url': 'http://pbs.twimg.com/profile_images/971422898886868992/K3R78VcP_normal.jpg',\n",
              "   'profile_image_url_https': 'https://pbs.twimg.com/profile_images/971422898886868992/K3R78VcP_normal.jpg',\n",
              "   'profile_banner_url': 'https://pbs.twimg.com/profile_banners/792182745942233089/1540175194',\n",
              "   'profile_link_color': '000000',\n",
              "   'profile_sidebar_border_color': '000000',\n",
              "   'profile_sidebar_fill_color': '000000',\n",
              "   'profile_text_color': '000000',\n",
              "   'profile_use_background_image': False,\n",
              "   'has_extended_profile': False,\n",
              "   'default_profile': False,\n",
              "   'default_profile_image': False,\n",
              "   'following': False,\n",
              "   'follow_request_sent': False,\n",
              "   'notifications': False,\n",
              "   'translator_type': 'none',\n",
              "   'withheld_in_countries': []},\n",
              "  'geo': None,\n",
              "  'coordinates': None,\n",
              "  'place': None,\n",
              "  'contributors': None,\n",
              "  'is_quote_status': False,\n",
              "  'retweet_count': 3,\n",
              "  'favorite_count': 6,\n",
              "  'favorited': False,\n",
              "  'retweeted': False,\n",
              "  'possibly_sensitive': False,\n",
              "  'lang': 'en'},\n",
              " 'is_quote_status': False,\n",
              " 'retweet_count': 3,\n",
              " 'favorite_count': 0,\n",
              " 'favorited': False,\n",
              " 'retweeted': False,\n",
              " 'lang': 'en'}"
            ]
          },
          "metadata": {},
          "execution_count": 12
        }
      ],
      "source": [
        "tweet"
      ]
    },
    {
      "cell_type": "markdown",
      "metadata": {
        "id": "rSBUxu13LPxg"
      },
      "source": [
        "# 3.&nbsp;Create a Mention Network"
      ]
    },
    {
      "cell_type": "markdown",
      "metadata": {
        "id": "4iW3uLzwLB9x"
      },
      "source": [
        "## Load the Corpus of Tweets"
      ]
    },
    {
      "cell_type": "code",
      "execution_count": 81,
      "metadata": {
        "id": "zhc_i0hiKcF8"
      },
      "outputs": [],
      "source": [
        "## Load the Product Data\n",
        "##this assigns the filename we're trying to load in to a string variable\n",
        "tweet_file_path = '%s/nikelululemonadidas_tweets.jsonl' % DATA_DIR\n",
        "json_file = open(tweet_file_path, 'r')"
      ]
    },
    {
      "cell_type": "markdown",
      "metadata": {
        "id": "NPvRy3vCLsuf"
      },
      "source": [
        "## Create a List of Unique Users"
      ]
    },
    {
      "cell_type": "code",
      "execution_count": 82,
      "metadata": {
        "colab": {
          "base_uri": "https://localhost:8080/"
        },
        "id": "Z-GSlB0_LFUj",
        "outputId": "9b880e8b-b699-462a-fbac-161cfc9dcc49"
      },
      "outputs": [
        {
          "output_type": "stream",
          "name": "stdout",
          "text": [
            "0 tweets iterated\n",
            "10000 tweets iterated\n",
            "20000 tweets iterated\n",
            "30000 tweets iterated\n",
            "40000 tweets iterated\n",
            "50000 tweets iterated\n",
            "60000 tweets iterated\n",
            "70000 tweets iterated\n",
            "80000 tweets iterated\n",
            "90000 tweets iterated\n",
            "100000 tweets iterated\n",
            "110000 tweets iterated\n",
            "120000 tweets iterated\n",
            "130000 tweets iterated\n",
            "140000 tweets iterated\n",
            "150000 tweets iterated\n",
            "160000 tweets iterated\n",
            "170000 tweets iterated\n",
            "175077 total Tweets processed\n"
          ]
        }
      ],
      "source": [
        "# Identify unique users in the mention network\n",
        "unique_users = {}\n",
        "\n",
        "#iterate through each row in the twitter corpus and extract twitter users\n",
        "for i, atweet in enumerate(json_file):\n",
        "    if i % 10000 == 0: # Show a periodic status\n",
        "      print(\"%s tweets iterated\" % i)\n",
        "    tweet_json = json.loads(atweet)\n",
        "    user_who_tweeted = tweet_json['user']['screen_name']\n",
        "    id_who_tweeted = tweet_json['user']['id']\n",
        "    follower_count = tweet_json['user']['followers_count']\n",
        "    if id_who_tweeted in unique_users:\n",
        "      unique_users[id_who_tweeted]['tweet_count'] += 1\n",
        "      if unique_users[id_who_tweeted]['followers_count'] == 0:\n",
        "        unique_users[id_who_tweeted]['followers_count'] = follower_count\n",
        "    if id_who_tweeted not in unique_users:\n",
        "      unique_users[id_who_tweeted] = {}\n",
        "      unique_users[id_who_tweeted]['tweet_count'] = 1\n",
        "      unique_users[id_who_tweeted]['mention_count'] = 0\n",
        "      unique_users[id_who_tweeted]['id'] = id_who_tweeted\n",
        "      unique_users[id_who_tweeted]['followers_count'] = follower_count\n",
        "      unique_users[id_who_tweeted]['screen_name'] = user_who_tweeted.lower()\n",
        "    #add in the mentioned users as well\n",
        "    users_mentioned = tweet_json['entities']['user_mentions']\n",
        "    #if the tweet netions other users in the tweet\n",
        "    if len(users_mentioned) > 0:\n",
        "      # iterate through each mention in the tweet\n",
        "      for user_mentioned in users_mentioned:\n",
        "        #extract details about user\n",
        "        screen_name_mentioned = user_mentioned['screen_name']\n",
        "        id_mentioned = user_mentioned['id']\n",
        "        #if in the list, increase the mention count\n",
        "        if id_mentioned in unique_users:\n",
        "          unique_users[id_mentioned]['mention_count'] += 1\n",
        "        #extract details about the metioned users in the tweet\n",
        "        if id_mentioned not in unique_users:\n",
        "          unique_users[id_mentioned] = {}\n",
        "          unique_users[id_mentioned]['tweet_count'] = 0\n",
        "          unique_users[id_mentioned]['mention_count'] = 1\n",
        "          unique_users[id_mentioned]['id'] = id_mentioned\n",
        "          unique_users[id_mentioned]['followers_count'] = 0\n",
        "          unique_users[id_mentioned]['screen_name'] = screen_name_mentioned.lower()\n",
        "\n",
        "print(f\"{i} total Tweets processed\")"
      ]
    },
    {
      "cell_type": "code",
      "execution_count": 83,
      "metadata": {
        "colab": {
          "base_uri": "https://localhost:8080/"
        },
        "id": "3hpL2-87LiSa",
        "outputId": "a027ebcb-ce3d-436c-ed04-a42ca781fe91"
      },
      "outputs": [
        {
          "output_type": "stream",
          "name": "stdout",
          "text": [
            "there are 131663 total users in the mention network.\n"
          ]
        }
      ],
      "source": [
        "#print the number of unique users in the corpus\n",
        "print('there are', len(unique_users), 'total users in the mention network.')"
      ]
    },
    {
      "cell_type": "markdown",
      "metadata": {
        "id": "DDmPjsMzLGaT"
      },
      "source": [
        "## Create User Filter List"
      ]
    },
    {
      "cell_type": "code",
      "execution_count": 84,
      "metadata": {
        "colab": {
          "base_uri": "https://localhost:8080/"
        },
        "id": "jTwppcYRFNCT",
        "outputId": "d9f33ab8-7924-49ae-f9eb-61d89f65b880"
      },
      "outputs": [
        {
          "output_type": "stream",
          "name": "stdout",
          "text": [
            "id: 415859364 \tscreen_name: nike\n",
            "id: 300114634 \tscreen_name: adidas\n",
            "id: 16252784 \tscreen_name: lululemon\n",
            "198\n"
          ]
        }
      ],
      "source": [
        "users_to_include = set()\n",
        "# if any user has more than 2 tweets\n",
        "min_tweet_count = 2\n",
        "# if any user has more than 2500 followers\n",
        "min_followers_count = 100000\n",
        "# create a list of brand users\n",
        "brand_users = ['nike', 'lululemon', 'adidas']\n",
        "\n",
        "# a set is a unique list\n",
        "user_count = 0\n",
        "\n",
        "#iterate through the list of unique users and filter down the list\n",
        "for auser in unique_users:\n",
        "  if unique_users[auser]['screen_name'] in brand_users:\n",
        "      print('id:', auser, '\\tscreen_name:', unique_users[auser]['screen_name'])\n",
        "      user_count += 1\n",
        "      users_to_include.add(auser)\n",
        "  elif unique_users[auser]['tweet_count'] >= min_tweet_count:\n",
        "    if unique_users[auser]['followers_count'] >= min_followers_count:\n",
        "      user_count += 1\n",
        "      users_to_include.add(auser)\n",
        "print(len(users_to_include))"
      ]
    },
    {
      "cell_type": "code",
      "execution_count": 85,
      "metadata": {
        "colab": {
          "base_uri": "https://localhost:8080/"
        },
        "id": "RgmBdrqWGIAa",
        "outputId": "f3043d34-c23d-4fd6-f4c8-788ce57e98bd"
      },
      "outputs": [
        {
          "output_type": "stream",
          "name": "stdout",
          "text": [
            "there are 198 users to include in the final mention network.\n",
            "0.15% of the total users are included in the mention network.\n"
          ]
        }
      ],
      "source": [
        "#print the number of unique users to include in the graph\n",
        "print('there are', len(users_to_include), 'users to include in the final mention network.')\n",
        "pct_of_total = round(len(users_to_include) / len(unique_users),4) * 100\n",
        "print(f\"{pct_of_total}% of the total users are included in the mention network.\")"
      ]
    },
    {
      "cell_type": "code",
      "execution_count": 86,
      "metadata": {
        "colab": {
          "base_uri": "https://localhost:8080/"
        },
        "id": "O-taDjeclMza",
        "outputId": "2bfe471f-bbb2-4ae9-dea4-9328052b8fb1"
      },
      "outputs": [
        {
          "output_type": "stream",
          "name": "stdout",
          "text": [
            "Nike: {'tweet_count': 0, 'mention_count': 120125, 'id': 415859364, 'followers_count': 0, 'screen_name': 'nike'}\n",
            "Adidas: {'tweet_count': 3, 'mention_count': 36654, 'id': 300114634, 'followers_count': 4082910, 'screen_name': 'adidas'}\n",
            "Lululemon: {'tweet_count': 0, 'mention_count': 6294, 'id': 16252784, 'followers_count': 0, 'screen_name': 'lululemon'}\n"
          ]
        }
      ],
      "source": [
        "#print the word counts for the major brands\n",
        "print(\"Nike:\", unique_users[415859364])\n",
        "print(\"Adidas:\", unique_users[300114634])\n",
        "print(\"Lululemon:\", unique_users[16252784])"
      ]
    },
    {
      "cell_type": "markdown",
      "metadata": {
        "id": "ggVnB6TIIZEP"
      },
      "source": [
        "##Helper Functions for Analysis"
      ]
    },
    {
      "cell_type": "code",
      "execution_count": 87,
      "metadata": {
        "id": "GWb9PQEkIaMS"
      },
      "outputs": [],
      "source": [
        "def graph_summary_stats(G, title='Graph Summary'):\n",
        "  #display a summary of the graph object created\n",
        "  #nx.info(G)\n",
        "  # https://networkx.org/documentation/stable/reference/functions.html\n",
        "  print('----------------------------------------')\n",
        "  print('#####', title, '#####')\n",
        "  print('number of nodes:', nx.number_of_nodes(G))\n",
        "  print('number of edges:', nx.number_of_edges(G))\n",
        "  print()\n",
        "  print('nodes:', nx.nodes(G))\n",
        "  print()\n",
        "  if G.has_node('adidas'):\n",
        "    print('neighbors of adidas:', list(nx.all_neighbors(G, 'adidas')))\n",
        "  if G.has_node('nike'):\n",
        "    print('neighbors of nike:', list(nx.all_neighbors(G, 'nike')))\n",
        "  if G.has_node('lululemon'):\n",
        "   print('neighbors of lululemon:', list(nx.all_neighbors(G, 'lululemon')))\n",
        "  print('----------------------------------------\\n')"
      ]
    },
    {
      "cell_type": "code",
      "source": [
        "#function to plot the graph object and write to png\n",
        "def plot_graph(G, file_path='temp_file', use_edge_weight=True, plot_size='large'):\n",
        "  #define node colors\n",
        "  default_color = 'blue'\n",
        "  highlight_color = 'red'\n",
        "  brand_users = ['nike', 'lululemon', 'adidas']\n",
        "  node_colors = [highlight_color if node in brand_users else default_color for node in G.nodes()]\n",
        "\n",
        "  #set plot size for drawing\n",
        "  if plot_size == 'medium-large':\n",
        "    p_figsize = (150, 150)\n",
        "    p_font_size = 20\n",
        "    p_edge_width_scale = 2\n",
        "    p_node_size = 5000\n",
        "    p_arrow_size = 50\n",
        "    p_k = None\n",
        "  if plot_size == 'medium':\n",
        "    p_figsize = (25, 25)\n",
        "    p_font_size = 12\n",
        "    p_edge_width_scale = 2\n",
        "    p_node_size = 3000\n",
        "    p_arrow_size = 50\n",
        "    p_k = None\n",
        "  elif plot_size == 'small':\n",
        "    p_figsize = (50, 50)\n",
        "    p_font_size = 20\n",
        "    p_edge_width_scale = 2\n",
        "    p_node_size = 30000\n",
        "    p_arrow_size = 100\n",
        "    p_k = None\n",
        "  elif plot_size == 'x-small':\n",
        "    p_figsize = (12, 12)\n",
        "    p_font_size = 20\n",
        "    p_edge_width_scale = 2\n",
        "    p_node_size = 5000\n",
        "    p_arrow_size = 100\n",
        "    p_k = None\n",
        "  else: #plot_size == 'large'\n",
        "    p_figsize = (300, 300)\n",
        "    p_font_size = 20\n",
        "    p_edge_width_scale = 2\n",
        "    p_node_size = 3000\n",
        "    p_arrow_size = 100\n",
        "    p_k = None\n",
        "\n",
        "  #generate a spring layout for the graph\n",
        "  positions = nx.spring_layout(G, k=p_k)\n",
        "\n",
        "  #extract edge weights for drawing\n",
        "  if use_edge_weight == True:\n",
        "    p_edge_weights = p_edge_width_scale*[G[u][v]['weight'] for u, v in G.edges()]\n",
        "  else:\n",
        "    p_edge_weights = p_edge_width_scale\n",
        "\n",
        "  #create a figure and adjust the size of the figure\n",
        "  fig, ax = plt.subplots(1, 1, figsize=p_figsize)\n",
        "  #draw the graph of the network\n",
        "  nx.draw_networkx(G, pos=positions, ax=ax, node_color=node_colors,\n",
        "                   font_color=\"#FFFFFF\", font_size=p_font_size,\n",
        "                   node_size=p_node_size, width=p_edge_weights,\n",
        "                   arrows=True, arrowsize=p_arrow_size)\n",
        "  #save the graph to a file\n",
        "  print_file_path = '%s/%s.png' % (MODEL_DIR,file_path)\n",
        "  plt.savefig(print_file_path, format='PNG')\n",
        "  plt.close('all')"
      ],
      "metadata": {
        "id": "59WLD2-xaYt2"
      },
      "execution_count": 238,
      "outputs": []
    },
    {
      "cell_type": "code",
      "source": [
        "def focus_edges(G, brand_nodes = None, weight_min = None, weight_max = None):\n",
        "  # Filter based on a list of brand nodes to focus\n",
        "  if brand_nodes != None:\n",
        "    # Filter edges based on the weight threshold\n",
        "    filtered_edges = [(u, v) for u, v in G.edges() if u in brand_nodes or v in brand_nodes]\n",
        "    # Create a subgraph based on the filtered edges\n",
        "    G = G.edge_subgraph(filtered_edges)\n",
        "  # Filter based on weight threshold\n",
        "  if weight_min != None:\n",
        "    # Filter edges based on the weight threshold\n",
        "    filtered_edges = [(u, v) for u, v, d in G.edges(data=True) if d['weight'] >= weight_min]\n",
        "    # Create a subgraph based on the filtered edges\n",
        "    G = G.edge_subgraph(filtered_edges)\n",
        "  if weight_max != None:\n",
        "    # Filter edges based on the weight threshold\n",
        "    filtered_edges = [(u, v) for u, v, d in G.edges(data=True) if d['weight'] <= weight_max]\n",
        "    # Create a subgraph based on the filtered edges\n",
        "    G = G.edge_subgraph(filtered_edges)\n",
        "  # Return the filtered subgraph\n",
        "  return G"
      ],
      "metadata": {
        "id": "qliSo-TZz7FK"
      },
      "execution_count": 89,
      "outputs": []
    },
    {
      "cell_type": "markdown",
      "metadata": {
        "id": "0bi6NqxoG-NW"
      },
      "source": [
        "## Create a Graph Object"
      ]
    },
    {
      "cell_type": "code",
      "execution_count": 90,
      "metadata": {
        "id": "8dVkCg7zHGrM"
      },
      "outputs": [],
      "source": [
        "#load the source data\n",
        "tweet_file_path = '%s/nikelululemonadidas_tweets.jsonl' % DATA_DIR\n",
        "json_file = open(tweet_file_path, 'r')"
      ]
    },
    {
      "cell_type": "code",
      "execution_count": 91,
      "metadata": {
        "id": "OcZfT2n_G-Wh"
      },
      "outputs": [],
      "source": [
        "#create a blank graph object\n",
        "MEN_Graph = nx.DiGraph()"
      ]
    },
    {
      "cell_type": "code",
      "execution_count": 92,
      "metadata": {
        "colab": {
          "base_uri": "https://localhost:8080/"
        },
        "id": "TrrnoZjlHQ1n",
        "outputId": "4a1d59f5-f8b4-421d-b772-dcae98ca4d47"
      },
      "outputs": [
        {
          "output_type": "stream",
          "name": "stdout",
          "text": [
            "0 tweets iterated\n",
            "10000 tweets iterated\n",
            "20000 tweets iterated\n",
            "30000 tweets iterated\n",
            "40000 tweets iterated\n",
            "50000 tweets iterated\n",
            "60000 tweets iterated\n",
            "70000 tweets iterated\n",
            "80000 tweets iterated\n",
            "90000 tweets iterated\n",
            "100000 tweets iterated\n",
            "110000 tweets iterated\n",
            "120000 tweets iterated\n",
            "130000 tweets iterated\n",
            "140000 tweets iterated\n",
            "150000 tweets iterated\n",
            "160000 tweets iterated\n",
            "170000 tweets iterated\n",
            "175077 total tweets processed\n"
          ]
        }
      ],
      "source": [
        "# Identify unique users in the mention network\n",
        "for i, atweet in enumerate(json_file):\n",
        "    #provide an update on processing progress\n",
        "    if i % 10000 == 0:\n",
        "      print(\"%s tweets iterated\" % i)\n",
        "    #load a line of the twitter corpus\n",
        "    tweet_json = json.loads(atweet)\n",
        "    #extract details from the tweet\n",
        "    user_who_tweeted = tweet_json['user']['screen_name'].lower()\n",
        "    id_who_tweeted = tweet_json['user']['id']\n",
        "    follower_count = tweet_json['user']['followers_count']\n",
        "    #check if the user id is in the list to include\n",
        "    if id_who_tweeted in users_to_include:\n",
        "      users = tweet_json['entities']['user_mentions']\n",
        "      #if the tweet netions other users in the tweet\n",
        "      if len(users) > 0:\n",
        "          # iterate through each mention in the tweet\n",
        "          for auser in users:\n",
        "              #extract details about the metioned users in the tweet\n",
        "              screen_name = auser['screen_name'].lower()\n",
        "              mention_id = auser['id']\n",
        "              #if the mentioned user is on the list to included\n",
        "              if mention_id in users_to_include:\n",
        "                if user_who_tweeted != screen_name:\n",
        "                  #add an edge to the graph\n",
        "                  if MEN_Graph.has_edge(user_who_tweeted, screen_name):\n",
        "                    # If the edge exists, increment its weight\n",
        "                    MEN_Graph[user_who_tweeted][screen_name]['weight'] += 1\n",
        "                  else:\n",
        "                    # If the edge doesn't exist, add it with weight=1\n",
        "                    MEN_Graph.add_edge(user_who_tweeted, screen_name, weight=1)\n",
        "print(f\"{i} total tweets processed\")"
      ]
    },
    {
      "cell_type": "code",
      "source": [
        "graph_summary_stats(G = MEN_Graph)"
      ],
      "metadata": {
        "colab": {
          "base_uri": "https://localhost:8080/"
        },
        "id": "vWBoO0rwgOkE",
        "outputId": "a16cd5d3-cb46-49ed-80d8-c4e5570013da"
      },
      "execution_count": 231,
      "outputs": [
        {
          "output_type": "stream",
          "name": "stdout",
          "text": [
            "----------------------------------------\n",
            "##### Graph Summary #####\n",
            "number of nodes: 194\n",
            "number of edges: 339\n",
            "\n",
            "nodes: ['kiganyi_', 'adidas', 'undefeatedinc', 'uniwatch', 'nike', 'atari_jones', 'adidasoriginals', 'solefed', 'jumpman23', 'bajabiri', 'golfdigest', 'lululemon', 'jonahlupton', 'nikestore', 'jermainedupri', 'finishline', 'wwd', 'hiphopwired', 'xboxwire', 'aarongreenberg', 'xbox', 'xboxp3', 'predsnhl', 'lakings', 'dashiexp', 'fastcompany', 'reignofapril', 'nrarmour', 'sbjsbd', 'barcaacademy', 'khou', 'oakley', 'marshablackburn', 'senrickscott', 'schuh', 'dezeen', 'lebatardshow', 'billiejeanking', 'barrysanders', 'complex', 'brooksrunning', 'adidasrunning', 'wiedenkennedy', 'bottom2thatop', 'candace_parker', 'snkr_twitr', 'katgraham', 'joshog', 'adweek', 'kingjames', 'jamesgunn', 'pomklementieff', 'loyalty360', 'jasonlacanfora', 'kohls', '7newsdc', 'realrclark25', 'adidashoops', 'wnba', 'barondavis', 'metropolismag', 'legiqn', 'fatkiddeals', 'jack_p', 'nyctsubway', 'nikebasketball', 'slamonline', 'rga', 'stockx', 'gladstein', 'msmelchen', 'sproutsocial', 'orioles', 'natbrunell', 'fousey', 'okayplayer', 'sacramentokings', 'yahoofinance', 'enesfreedom', 'redsteeze', 'sethamandel', 'slimjim', 'tengbiao', 'hughhewitt', 'muslimmatters', 'nedryun', 'ericmmatheny', 'lifeatpurdue', 'epochtimes', 'suns', 'donaldjtrumpjr', 'joshrogin', 'yesnicksearcy', 'highsnobiety', 'lasparks', 'realunogame', 'giannis_an34', 'deezefi', 'mrleonardkim', 'evankirstel', 'mattel', 'reebok', 'pennstatefball', 'stevedeaceshow', 'girlsintech', 'uoregon', 'mystic7', 'ericpmusselman', 'qrich', 'cointelegraph', 'houstondynamo', 'threadreaderapp', 'prestonpysh', 'rwang0', 'tandfn', 'thebussypleaser', 'techinsider', 'jdofficial', 'xlr8r', 'onsoranje', 'liekemartens1', 'knvb', 'realshellyannfp', 'kicksdeals', 'lafc', 'thegrovela', 'lagalaxy', 'adamsconsulting', 'coindesk', 'adidasfootball', 'spicer', 'kieraplease', 'jkylebass', 'kfile', 'sportsiren', 'nicekicks', 'scottwarner18', 'complexstyle', 'tinashe', 'rosgo21', 'roblox', 'bloxy_news', 'insideroblox', 'atmos_usa', 'nwsl', 'adamjacksonsf', 'novambb', 'solomonyue', 'angelaruggiero', 'bauerhockey', 'jenniferwalcott', 'road_2_ft_worth', 'vampybitme', 'iamwellandgood', 'tropofarmer', 'boredelonmusk', 'mattsteffanina', 'mediapost', 'brooklynnets', 'vidcon', 'uninterrupted', 'hunterheather', 'misstabstevens', 'chainlinkgod', '1djfirstclass', 'chsommers', 'tonipayne', 'cowhercbs', 'detroitpistons', 'cory_shoff', 'usa_lacrosse', 'xxxcrypt0', 'ijustine', 'hackapreneur', 'burgerking', 'namecheap', 'campaignbrands', 'elmaaelmoo', 'colethereum', 'nebraskancrypto', 'vaynermedia', 'schmittnyc', 'mpinoe', 'seanmdav', 'hunterw', 'realvision', 'reallisariley', 'rexchapman', 'qiasomar', 'kingofthecrane', 'cnbc', 'ericvdunn', 'trustlessstate', 'lopp']\n",
            "\n",
            "neighbors of adidas: ['kiganyi_', 'undefeatedinc', 'atari_jones', 'bajabiri', 'jermainedupri', 'xboxwire', 'aarongreenberg', 'xboxp3', 'lakings', 'dashiexp', 'xbox', 'wwd', 'hiphopwired', 'billiejeanking', 'complex', 'bottom2thatop', 'katgraham', 'jamesgunn', 'pomklementieff', 'loyalty360', 'kohls', 'uniwatch', 'adidashoops', 'metropolismag', 'adidasrunning', 'legiqn', 'fatkiddeals', 'jack_p', 'nyctsubway', 'snkr_twitr', 'stockx', 'adweek', 'houstondynamo', 'reebok', 'finishline', 'sbjsbd', 'techinsider', 'kicksdeals', 'lafc', 'lagalaxy', 'adidasfootball', 'spicer', 'kfile', 'sportsiren', 'highsnobiety', 'nicekicks', 'adidasoriginals', 'coindesk', 'jenniferwalcott', 'thebussypleaser', 'vampybitme', 'tropofarmer', 'boredelonmusk', 'mattsteffanina', 'brooklynnets', 'hunterheather', 'jdofficial', 'misstabstevens', 'complexstyle', 'chainlinkgod', 'wnba', 'tonipayne', 'predsnhl', 'slamonline', 'schuh', 'xxxcrypt0', 'candace_parker', 'burgerking', 'namecheap', 'iamwellandgood', 'deezefi', 'dezeen', 'hunterw', 'cointelegraph', 'ericvdunn', 'burgerking', 'xbox', 'nike']\n",
            "neighbors of nike: ['uniwatch', 'solefed', 'nikestore', 'undefeatedinc', 'finishline', 'wwd', 'hiphopwired', 'fastcompany', 'reignofapril', 'nrarmour', 'sbjsbd', 'barcaacademy', 'marshablackburn', 'senrickscott', 'schuh', 'dezeen', 'lebatardshow', 'barrysanders', 'brooksrunning', 'wiedenkennedy', 'snkr_twitr', 'jumpman23', 'kingjames', 'jasonlacanfora', '7newsdc', 'barondavis', 'nikebasketball', 'slamonline', 'rga', 'msmelchen', 'sproutsocial', 'orioles', 'natbrunell', 'fousey', 'okayplayer', 'sacramentokings', 'realrclark25', 'enesfreedom', 'redsteeze', 'sethamandel', 'slimjim', 'tengbiao', 'gladstein', 'hughhewitt', 'muslimmatters', 'nedryun', 'ericmmatheny', 'lifeatpurdue', 'epochtimes', 'suns', 'donaldjtrumpjr', 'joshrogin', 'yesnicksearcy', 'highsnobiety', 'lasparks', 'realunogame', 'mrleonardkim', 'evankirstel', 'mattel', 'reebok', 'pennstatefball', 'stevedeaceshow', 'girlsintech', 'uoregon', 'ericpmusselman', 'qrich', 'wnba', 'cointelegraph', 'threadreaderapp', 'prestonpysh', 'rwang0', 'tandfn', 'thebussypleaser', 'techinsider', 'jdofficial', 'xlr8r', 'onsoranje', 'knvb', 'liekemartens1', 'realshellyannfp', 'thegrovela', 'adamsconsulting', 'coindesk', 'giannis_an34', 'kieraplease', 'jkylebass', 'khou', 'scottwarner18', 'kicksdeals', 'nicekicks', 'complexstyle', 'rosgo21', 'roblox', 'bloxy_news', 'insideroblox', 'nwsl', 'adamjacksonsf', 'novambb', 'solomonyue', 'angelaruggiero', 'boredelonmusk', 'vidcon', 'uninterrupted', '1djfirstclass', 'chsommers', 'tonipayne', 'cowhercbs', 'detroitpistons', 'cory_shoff', 'usa_lacrosse', 'hackapreneur', 'tropofarmer', 'burgerking', 'deezefi', 'namecheap', 'mattsteffanina', 'campaignbrands', 'elmaaelmoo', 'mediapost', 'adidas', 'colethereum', 'nebraskancrypto', 'vaynermedia', 'tinashe', 'schmittnyc', 'mpinoe', 'seanmdav', 'realvision', 'xxxcrypt0', 'ijustine', 'bajabiri', 'rexchapman', 'qiasomar', 'kingofthecrane', 'trustlessstate', 'lopp']\n",
            "neighbors of lululemon: ['golfdigest', 'jonahlupton', 'predsnhl', 'khou', 'oakley', 'brooksrunning', 'joshog', 'adweek', 'realrclark25', 'yahoofinance', 'uniwatch', 'deezefi', 'mrleonardkim', 'mystic7', 'evankirstel', 'bauerhockey', 'thegrovela', 'road_2_ft_worth', 'iamwellandgood', 'mediapost', 'ijustine', 'reallisariley', 'wwd', 'cnbc']\n",
            "----------------------------------------\n",
            "\n"
          ]
        }
      ]
    },
    {
      "cell_type": "code",
      "source": [
        "#MEN_Graph.edges(data=True)"
      ],
      "metadata": {
        "id": "MtWHqJ9OVqJN"
      },
      "execution_count": 94,
      "outputs": []
    },
    {
      "cell_type": "markdown",
      "source": [
        "## Create Subgraphs for Analysis"
      ],
      "metadata": {
        "id": "k1JUBYWd7Oxc"
      }
    },
    {
      "cell_type": "code",
      "source": [
        "##### Shared Sets of Node Intersetions #####\n",
        "\n",
        "# Define key nodes\n",
        "key_nodes_all = ['nike', 'lululemon', 'adidas']\n",
        "key_nodes_nl = ['nike', 'lululemon']\n",
        "key_nodes_na = ['nike', 'adidas']\n",
        "key_nodes_al = ['adidas', 'lululemon']\n",
        "\n",
        "# Find neighbors of the key nodes by themselves\n",
        "neighbors_sets_n = set(nx.all_neighbors(MEN_Graph, 'nike'))\n",
        "neighbors_sets_a = set(nx.all_neighbors(MEN_Graph, 'adidas'))\n",
        "neighbors_sets_l = set(nx.all_neighbors(MEN_Graph, 'lululemon'))\n",
        "\n",
        "# Find neighbors of the key nodes\n",
        "neighbors_sets_all = [set(nx.all_neighbors(MEN_Graph, node)) for node in key_nodes_all]\n",
        "neighbors_sets_nl = [set(nx.all_neighbors(MEN_Graph, node)) for node in key_nodes_nl]\n",
        "neighbors_sets_na = [set(nx.all_neighbors(MEN_Graph, node)) for node in key_nodes_na]\n",
        "neighbors_sets_al = [set(nx.all_neighbors(MEN_Graph, node)) for node in key_nodes_al]\n",
        "\n",
        "# Intersect the sets to get nodes connected to all key nodes\n",
        "common_neighbors_all = set.intersection(*neighbors_sets_all)\n",
        "\n",
        "# Intersect the sets to get nodes connected to only 2 key nodes\n",
        "\n",
        "common_neighbors_nl = set.intersection(*neighbors_sets_nl) - common_neighbors_all - set(key_nodes_al)\n",
        "common_neighbors_na = set.intersection(*neighbors_sets_na) - common_neighbors_all - set(key_nodes_nl)\n",
        "common_neighbors_al = set.intersection(*neighbors_sets_al) - common_neighbors_all - set(key_nodes_na)\n",
        "\n",
        "# Get nodes connected to any one of the key nodes but not all of them\n",
        "union_neighbors = set.union(*neighbors_sets_all)\n",
        "\n",
        "# Get nodes connected to only 1 brand\n",
        "exclusive_neighbors = (union_neighbors - common_neighbors_all\n",
        "                       - common_neighbors_nl - common_neighbors_na - common_neighbors_al)\n",
        "\n",
        "# Get nodes connected to each specific brand\n",
        "exclusive_neighbors_n = neighbors_sets_n - common_neighbors_all - common_neighbors_nl - common_neighbors_na - set(key_nodes_al)\n",
        "exclusive_neighbors_a = neighbors_sets_a - common_neighbors_all - common_neighbors_na - common_neighbors_nl - set(key_nodes_nl)\n",
        "exclusive_neighbors_l = neighbors_sets_l - common_neighbors_all - common_neighbors_nl - common_neighbors_al - set(key_nodes_na)\n"
      ],
      "metadata": {
        "id": "9Kdcje-G0JuH"
      },
      "execution_count": 232,
      "outputs": []
    },
    {
      "cell_type": "code",
      "source": [
        "##### Bridging to All Brands Nodes #####\n",
        "# Create a subgraph\n",
        "nodes_to_keep = list(common_neighbors_all) + key_nodes_all\n",
        "MEN_Graph_bridge_3 = MEN_Graph.subgraph(nodes_to_keep)\n",
        "#display a summary of the subgraph\n",
        "graph_summary_stats(G = MEN_Graph_bridge_3, title='Bridging to All Brands Nodes')\n",
        "\n",
        "##### Nike to Adidas Bridges #####\n",
        "# Create a subgraph\n",
        "nodes_to_keep = list(common_neighbors_na) + key_nodes_na\n",
        "MEN_Graph_bridge_na = MEN_Graph.subgraph(nodes_to_keep)\n",
        "#display a summary of the subgraph\n",
        "graph_summary_stats(G = MEN_Graph_bridge_na, title='Nike to Adidas Bridges')\n",
        "\n",
        "##### Nike to Lululemon Bridges #####\n",
        "# Create a subgraph\n",
        "nodes_to_keep = list(common_neighbors_nl) + key_nodes_nl\n",
        "MEN_Graph_bridge_nl = MEN_Graph.subgraph(nodes_to_keep)\n",
        "#display a summary of the subgraph\n",
        "graph_summary_stats(G = MEN_Graph_bridge_nl, title='Nike to Lululemon Bridges')\n",
        "\n",
        "##### Adidas to Lululemon Bridges #####\n",
        "# Create a subgraph\n",
        "nodes_to_keep = list(common_neighbors_al) + key_nodes_al\n",
        "MEN_Graph_bridge_al = MEN_Graph.subgraph(nodes_to_keep)\n",
        "#display a summary of the subgraph\n",
        "graph_summary_stats(G = MEN_Graph_bridge_al, title='Adidas to Lululemon Bridges')"
      ],
      "metadata": {
        "colab": {
          "base_uri": "https://localhost:8080/"
        },
        "id": "8yGHLF-v5_pE",
        "outputId": "725752fa-8d05-4130-ec93-c17b2c958c0c"
      },
      "execution_count": 233,
      "outputs": [
        {
          "output_type": "stream",
          "name": "stdout",
          "text": [
            "----------------------------------------\n",
            "##### Bridging to All Brands Nodes #####\n",
            "number of nodes: 6\n",
            "number of edges: 10\n",
            "\n",
            "nodes: ['adidas', 'deezefi', 'uniwatch', 'lululemon', 'nike', 'wwd']\n",
            "\n",
            "neighbors of adidas: ['wwd', 'uniwatch', 'deezefi', 'nike']\n",
            "neighbors of nike: ['uniwatch', 'wwd', 'deezefi', 'adidas']\n",
            "neighbors of lululemon: ['uniwatch', 'deezefi', 'wwd']\n",
            "----------------------------------------\n",
            "\n",
            "----------------------------------------\n",
            "##### Nike to Adidas Bridges #####\n",
            "number of nodes: 29\n",
            "number of edges: 57\n",
            "\n",
            "nodes: ['tropofarmer', 'dezeen', 'slamonline', 'kicksdeals', 'snkr_twitr', 'cointelegraph', 'thebussypleaser', 'bajabiri', 'coindesk', 'burgerking', 'nike', 'undefeatedinc', 'mattsteffanina', 'jdofficial', 'wnba', 'boredelonmusk', 'tonipayne', 'reebok', 'highsnobiety', 'sbjsbd', 'complexstyle', 'techinsider', 'nicekicks', 'adidas', 'schuh', 'hiphopwired', 'finishline', 'namecheap', 'xxxcrypt0']\n",
            "\n",
            "neighbors of adidas: ['undefeatedinc', 'bajabiri', 'hiphopwired', 'snkr_twitr', 'reebok', 'finishline', 'sbjsbd', 'techinsider', 'kicksdeals', 'highsnobiety', 'nicekicks', 'coindesk', 'thebussypleaser', 'tropofarmer', 'boredelonmusk', 'mattsteffanina', 'jdofficial', 'complexstyle', 'wnba', 'tonipayne', 'slamonline', 'schuh', 'xxxcrypt0', 'burgerking', 'namecheap', 'dezeen', 'cointelegraph', 'burgerking', 'nike']\n",
            "neighbors of nike: ['undefeatedinc', 'finishline', 'hiphopwired', 'sbjsbd', 'schuh', 'dezeen', 'snkr_twitr', 'slamonline', 'highsnobiety', 'reebok', 'wnba', 'cointelegraph', 'thebussypleaser', 'techinsider', 'jdofficial', 'coindesk', 'kicksdeals', 'nicekicks', 'complexstyle', 'boredelonmusk', 'tonipayne', 'tropofarmer', 'burgerking', 'namecheap', 'mattsteffanina', 'adidas', 'xxxcrypt0', 'bajabiri']\n",
            "----------------------------------------\n",
            "\n",
            "----------------------------------------\n",
            "##### Nike to Lululemon Bridges #####\n",
            "number of nodes: 10\n",
            "number of edges: 16\n",
            "\n",
            "nodes: ['evankirstel', 'thegrovela', 'ijustine', 'lululemon', 'nike', 'realrclark25', 'mrleonardkim', 'brooksrunning', 'mediapost', 'khou']\n",
            "\n",
            "neighbors of nike: ['brooksrunning', 'realrclark25', 'mrleonardkim', 'evankirstel', 'thegrovela', 'khou', 'mediapost', 'ijustine']\n",
            "neighbors of lululemon: ['khou', 'brooksrunning', 'realrclark25', 'mrleonardkim', 'evankirstel', 'thegrovela', 'mediapost', 'ijustine']\n",
            "----------------------------------------\n",
            "\n",
            "----------------------------------------\n",
            "##### Adidas to Lululemon Bridges #####\n",
            "number of nodes: 5\n",
            "number of edges: 6\n",
            "\n",
            "nodes: ['adidas', 'predsnhl', 'lululemon', 'adweek', 'iamwellandgood']\n",
            "\n",
            "neighbors of adidas: ['adweek', 'predsnhl', 'iamwellandgood']\n",
            "neighbors of lululemon: ['predsnhl', 'adweek', 'iamwellandgood']\n",
            "----------------------------------------\n",
            "\n"
          ]
        }
      ]
    },
    {
      "cell_type": "code",
      "source": [
        "##### Exclusive Nodes: Unique to Only 1 Brand #####\n",
        "\n",
        "# Create a subgraph\n",
        "nodes_to_keep_exc = list(exclusive_neighbors) + key_nodes_all\n",
        "MEN_Graph_exc = MEN_Graph.subgraph(nodes_to_keep_exc)\n",
        "\n",
        "#filter the graph edges to focus on influential to brands\n",
        "#MEN_Graph_exc = focus_edges(G = MEN_Graph_exc, brand_nodes = key_nodes_all, weight_min = 3)\n",
        "\n",
        "#display a summary of the subgraph\n",
        "graph_summary_stats(G = MEN_Graph_exc, title='Exclusive Nodes: Unique to Only 1 Brand')\n",
        "\n",
        "# Create a subgraph\n",
        "MEN_Graph_exc_n = MEN_Graph.subgraph(list(exclusive_neighbors_n) + ['nike'])\n",
        "MEN_Graph_exc_a = MEN_Graph.subgraph(list(exclusive_neighbors_a) + ['adidas'])\n",
        "MEN_Graph_exc_l = MEN_Graph.subgraph(list(exclusive_neighbors_l) + ['lululemon'])\n",
        "\n",
        "#filter the graph edges to focus on influential to brands\n",
        "#MEN_Graph_exc_n = focus_edges(G = MEN_Graph_exc_n, brand_nodes = key_nodes_all, weight_min = 3)\n",
        "#MEN_Graph_exc_a = focus_edges(G = MEN_Graph_exc_a, brand_nodes = key_nodes_all, weight_min = 3)\n",
        "\n",
        "#display a summary of the subgraph\n",
        "graph_summary_stats(G = MEN_Graph_exc_n, title='Exclusive Nodes for Nike')\n",
        "graph_summary_stats(G = MEN_Graph_exc_a, title='Exclusive Nodes for Adidas')\n",
        "graph_summary_stats(G = MEN_Graph_exc_l, title='Exclusive Nodes for Lululemon')"
      ],
      "metadata": {
        "colab": {
          "base_uri": "https://localhost:8080/"
        },
        "id": "7sKyFbNd0EMQ",
        "outputId": "28878bc6-1cc1-4b73-8eb7-690306498a38"
      },
      "execution_count": 234,
      "outputs": [
        {
          "output_type": "stream",
          "name": "stdout",
          "text": [
            "----------------------------------------\n",
            "##### Exclusive Nodes: Unique to Only 1 Brand #####\n",
            "number of nodes: 152\n",
            "number of edges: 212\n",
            "\n",
            "nodes: ['kiganyi_', 'adidas', 'nike', 'atari_jones', 'adidasoriginals', 'solefed', 'jumpman23', 'golfdigest', 'lululemon', 'jonahlupton', 'nikestore', 'jermainedupri', 'xboxwire', 'aarongreenberg', 'xbox', 'xboxp3', 'lakings', 'dashiexp', 'fastcompany', 'reignofapril', 'nrarmour', 'barcaacademy', 'oakley', 'marshablackburn', 'senrickscott', 'lebatardshow', 'billiejeanking', 'barrysanders', 'complex', 'adidasrunning', 'wiedenkennedy', 'bottom2thatop', 'candace_parker', 'katgraham', 'joshog', 'kingjames', 'jamesgunn', 'pomklementieff', 'loyalty360', 'jasonlacanfora', 'kohls', '7newsdc', 'adidashoops', 'barondavis', 'metropolismag', 'legiqn', 'fatkiddeals', 'jack_p', 'nyctsubway', 'nikebasketball', 'rga', 'stockx', 'gladstein', 'msmelchen', 'sproutsocial', 'orioles', 'natbrunell', 'fousey', 'okayplayer', 'sacramentokings', 'yahoofinance', 'enesfreedom', 'redsteeze', 'sethamandel', 'slimjim', 'tengbiao', 'hughhewitt', 'muslimmatters', 'nedryun', 'ericmmatheny', 'lifeatpurdue', 'epochtimes', 'suns', 'donaldjtrumpjr', 'joshrogin', 'yesnicksearcy', 'lasparks', 'realunogame', 'giannis_an34', 'mattel', 'pennstatefball', 'stevedeaceshow', 'girlsintech', 'uoregon', 'mystic7', 'ericpmusselman', 'qrich', 'houstondynamo', 'threadreaderapp', 'prestonpysh', 'rwang0', 'tandfn', 'xlr8r', 'onsoranje', 'liekemartens1', 'knvb', 'realshellyannfp', 'lafc', 'lagalaxy', 'adamsconsulting', 'adidasfootball', 'spicer', 'kieraplease', 'jkylebass', 'kfile', 'sportsiren', 'scottwarner18', 'tinashe', 'rosgo21', 'roblox', 'bloxy_news', 'insideroblox', 'nwsl', 'adamjacksonsf', 'novambb', 'solomonyue', 'angelaruggiero', 'bauerhockey', 'jenniferwalcott', 'road_2_ft_worth', 'vampybitme', 'brooklynnets', 'vidcon', 'uninterrupted', 'hunterheather', 'misstabstevens', 'chainlinkgod', '1djfirstclass', 'chsommers', 'cowhercbs', 'detroitpistons', 'cory_shoff', 'usa_lacrosse', 'hackapreneur', 'campaignbrands', 'elmaaelmoo', 'colethereum', 'nebraskancrypto', 'vaynermedia', 'schmittnyc', 'mpinoe', 'seanmdav', 'hunterw', 'realvision', 'reallisariley', 'rexchapman', 'qiasomar', 'kingofthecrane', 'cnbc', 'ericvdunn', 'trustlessstate', 'lopp']\n",
            "\n",
            "neighbors of adidas: ['kiganyi_', 'atari_jones', 'jermainedupri', 'xboxwire', 'aarongreenberg', 'xboxp3', 'lakings', 'dashiexp', 'xbox', 'billiejeanking', 'complex', 'bottom2thatop', 'katgraham', 'jamesgunn', 'pomklementieff', 'loyalty360', 'kohls', 'adidashoops', 'metropolismag', 'adidasrunning', 'legiqn', 'fatkiddeals', 'jack_p', 'nyctsubway', 'stockx', 'houstondynamo', 'lafc', 'lagalaxy', 'adidasfootball', 'spicer', 'kfile', 'sportsiren', 'adidasoriginals', 'jenniferwalcott', 'vampybitme', 'brooklynnets', 'hunterheather', 'misstabstevens', 'chainlinkgod', 'candace_parker', 'hunterw', 'ericvdunn', 'xbox', 'nike']\n",
            "neighbors of nike: ['solefed', 'nikestore', 'fastcompany', 'reignofapril', 'nrarmour', 'barcaacademy', 'marshablackburn', 'senrickscott', 'lebatardshow', 'barrysanders', 'wiedenkennedy', 'jumpman23', 'kingjames', 'jasonlacanfora', '7newsdc', 'barondavis', 'nikebasketball', 'rga', 'msmelchen', 'sproutsocial', 'orioles', 'natbrunell', 'fousey', 'okayplayer', 'sacramentokings', 'enesfreedom', 'redsteeze', 'sethamandel', 'slimjim', 'tengbiao', 'gladstein', 'hughhewitt', 'muslimmatters', 'nedryun', 'ericmmatheny', 'lifeatpurdue', 'epochtimes', 'suns', 'donaldjtrumpjr', 'joshrogin', 'yesnicksearcy', 'lasparks', 'realunogame', 'mattel', 'pennstatefball', 'stevedeaceshow', 'girlsintech', 'uoregon', 'ericpmusselman', 'qrich', 'threadreaderapp', 'prestonpysh', 'rwang0', 'tandfn', 'xlr8r', 'onsoranje', 'knvb', 'liekemartens1', 'realshellyannfp', 'adamsconsulting', 'giannis_an34', 'kieraplease', 'jkylebass', 'scottwarner18', 'rosgo21', 'roblox', 'bloxy_news', 'insideroblox', 'nwsl', 'adamjacksonsf', 'novambb', 'solomonyue', 'angelaruggiero', 'vidcon', 'uninterrupted', '1djfirstclass', 'chsommers', 'cowhercbs', 'detroitpistons', 'cory_shoff', 'usa_lacrosse', 'hackapreneur', 'campaignbrands', 'elmaaelmoo', 'adidas', 'colethereum', 'nebraskancrypto', 'vaynermedia', 'tinashe', 'schmittnyc', 'mpinoe', 'seanmdav', 'realvision', 'rexchapman', 'qiasomar', 'kingofthecrane', 'trustlessstate', 'lopp']\n",
            "neighbors of lululemon: ['golfdigest', 'jonahlupton', 'oakley', 'joshog', 'yahoofinance', 'mystic7', 'bauerhockey', 'road_2_ft_worth', 'reallisariley', 'cnbc']\n",
            "----------------------------------------\n",
            "\n",
            "----------------------------------------\n",
            "##### Exclusive Nodes for Nike #####\n",
            "number of nodes: 98\n",
            "number of edges: 128\n",
            "\n",
            "nodes: ['nike', 'solefed', 'jumpman23', 'nikestore', 'fastcompany', 'reignofapril', 'nrarmour', 'barcaacademy', 'marshablackburn', 'senrickscott', 'lebatardshow', 'barrysanders', 'wiedenkennedy', 'kingjames', 'jasonlacanfora', '7newsdc', 'barondavis', 'nikebasketball', 'rga', 'gladstein', 'msmelchen', 'sproutsocial', 'orioles', 'natbrunell', 'fousey', 'okayplayer', 'sacramentokings', 'enesfreedom', 'redsteeze', 'sethamandel', 'slimjim', 'tengbiao', 'hughhewitt', 'muslimmatters', 'nedryun', 'ericmmatheny', 'lifeatpurdue', 'epochtimes', 'suns', 'donaldjtrumpjr', 'joshrogin', 'yesnicksearcy', 'lasparks', 'realunogame', 'giannis_an34', 'mattel', 'pennstatefball', 'stevedeaceshow', 'girlsintech', 'uoregon', 'ericpmusselman', 'qrich', 'threadreaderapp', 'prestonpysh', 'rwang0', 'tandfn', 'xlr8r', 'onsoranje', 'liekemartens1', 'knvb', 'realshellyannfp', 'adamsconsulting', 'kieraplease', 'jkylebass', 'scottwarner18', 'tinashe', 'rosgo21', 'roblox', 'bloxy_news', 'insideroblox', 'nwsl', 'adamjacksonsf', 'novambb', 'solomonyue', 'angelaruggiero', 'vidcon', 'uninterrupted', '1djfirstclass', 'chsommers', 'cowhercbs', 'detroitpistons', 'cory_shoff', 'usa_lacrosse', 'hackapreneur', 'campaignbrands', 'elmaaelmoo', 'colethereum', 'nebraskancrypto', 'vaynermedia', 'schmittnyc', 'mpinoe', 'seanmdav', 'realvision', 'rexchapman', 'qiasomar', 'kingofthecrane', 'trustlessstate', 'lopp']\n",
            "\n",
            "neighbors of nike: ['solefed', 'nikestore', 'fastcompany', 'reignofapril', 'nrarmour', 'barcaacademy', 'marshablackburn', 'senrickscott', 'lebatardshow', 'barrysanders', 'wiedenkennedy', 'jumpman23', 'kingjames', 'jasonlacanfora', '7newsdc', 'barondavis', 'nikebasketball', 'rga', 'msmelchen', 'sproutsocial', 'orioles', 'natbrunell', 'fousey', 'okayplayer', 'sacramentokings', 'enesfreedom', 'redsteeze', 'sethamandel', 'slimjim', 'tengbiao', 'gladstein', 'hughhewitt', 'muslimmatters', 'nedryun', 'ericmmatheny', 'lifeatpurdue', 'epochtimes', 'suns', 'donaldjtrumpjr', 'joshrogin', 'yesnicksearcy', 'lasparks', 'realunogame', 'mattel', 'pennstatefball', 'stevedeaceshow', 'girlsintech', 'uoregon', 'ericpmusselman', 'qrich', 'threadreaderapp', 'prestonpysh', 'rwang0', 'tandfn', 'xlr8r', 'onsoranje', 'knvb', 'liekemartens1', 'realshellyannfp', 'adamsconsulting', 'giannis_an34', 'kieraplease', 'jkylebass', 'scottwarner18', 'rosgo21', 'roblox', 'bloxy_news', 'insideroblox', 'nwsl', 'adamjacksonsf', 'novambb', 'solomonyue', 'angelaruggiero', 'vidcon', 'uninterrupted', '1djfirstclass', 'chsommers', 'cowhercbs', 'detroitpistons', 'cory_shoff', 'usa_lacrosse', 'hackapreneur', 'campaignbrands', 'elmaaelmoo', 'colethereum', 'nebraskancrypto', 'vaynermedia', 'tinashe', 'schmittnyc', 'mpinoe', 'seanmdav', 'realvision', 'rexchapman', 'qiasomar', 'kingofthecrane', 'trustlessstate', 'lopp']\n",
            "----------------------------------------\n",
            "\n",
            "----------------------------------------\n",
            "##### Exclusive Nodes for Adidas #####\n",
            "number of nodes: 46\n",
            "number of edges: 72\n",
            "\n",
            "nodes: ['jenniferwalcott', 'kiganyi_', 'vampybitme', 'predsnhl', 'hunterw', 'kfile', 'adidasoriginals', 'houstondynamo', 'ericvdunn', 'stockx', 'pomklementieff', 'spicer', 'complex', 'loyalty360', 'brooklynnets', 'adidasfootball', 'xbox', 'fatkiddeals', 'adweek', 'hunterheather', 'jack_p', 'adidashoops', 'dashiexp', 'misstabstevens', 'nyctsubway', 'katgraham', 'jamesgunn', 'legiqn', 'chainlinkgod', 'jermainedupri', 'lafc', 'adidasrunning', 'aarongreenberg', 'xboxp3', 'adidas', 'kohls', 'candace_parker', 'billiejeanking', 'lagalaxy', 'sportsiren', 'atari_jones', 'bottom2thatop', 'xboxwire', 'metropolismag', 'lakings', 'iamwellandgood']\n",
            "\n",
            "neighbors of adidas: ['kiganyi_', 'atari_jones', 'jermainedupri', 'xboxwire', 'aarongreenberg', 'xboxp3', 'lakings', 'dashiexp', 'xbox', 'billiejeanking', 'complex', 'bottom2thatop', 'katgraham', 'jamesgunn', 'pomklementieff', 'loyalty360', 'kohls', 'adidashoops', 'metropolismag', 'adidasrunning', 'legiqn', 'fatkiddeals', 'jack_p', 'nyctsubway', 'stockx', 'adweek', 'houstondynamo', 'lafc', 'lagalaxy', 'adidasfootball', 'spicer', 'kfile', 'sportsiren', 'adidasoriginals', 'jenniferwalcott', 'vampybitme', 'brooklynnets', 'hunterheather', 'misstabstevens', 'chainlinkgod', 'predsnhl', 'candace_parker', 'iamwellandgood', 'hunterw', 'ericvdunn', 'xbox']\n",
            "----------------------------------------\n",
            "\n",
            "----------------------------------------\n",
            "##### Exclusive Nodes for Lululemon #####\n",
            "number of nodes: 11\n",
            "number of edges: 10\n",
            "\n",
            "nodes: ['mystic7', 'joshog', 'golfdigest', 'reallisariley', 'lululemon', 'road_2_ft_worth', 'oakley', 'jonahlupton', 'yahoofinance', 'bauerhockey', 'cnbc']\n",
            "\n",
            "neighbors of lululemon: ['golfdigest', 'jonahlupton', 'oakley', 'joshog', 'yahoofinance', 'mystic7', 'bauerhockey', 'road_2_ft_worth', 'reallisariley', 'cnbc']\n",
            "----------------------------------------\n",
            "\n"
          ]
        }
      ]
    },
    {
      "cell_type": "markdown",
      "source": [
        "##Plot All the Graphs"
      ],
      "metadata": {
        "id": "PtE6MlQy1vyG"
      }
    },
    {
      "cell_type": "code",
      "source": [
        "#plot the baseline graph\n",
        "plot_graph(G = MEN_Graph, file_path='01_00_mention_network', plot_size='large')"
      ],
      "metadata": {
        "id": "dZlX_cnnW-N7"
      },
      "execution_count": 245,
      "outputs": []
    },
    {
      "cell_type": "markdown",
      "source": [
        "![picture](https://drive.google.com/uc?id=13IO-hKQB2S_3O9ZLC4cfnmOIt3NEv2hj)"
      ],
      "metadata": {
        "id": "CAarktVKW-Z6"
      }
    },
    {
      "cell_type": "code",
      "source": [
        "#plot the graph\n",
        "plot_graph(G = MEN_Graph_bridge_3, file_path='02_01_mention_network_bridge_all_3', plot_size='small')\n",
        "\n",
        "#plot the graph\n",
        "plot_graph(G = MEN_Graph_bridge_na, file_path='02_02_mention_network_bridge_nike_adidas', plot_size='small')\n",
        "\n",
        "#plot the graph\n",
        "plot_graph(G = MEN_Graph_bridge_nl, file_path='02_03_mention_network_bridge_nike_lululemon', plot_size='small')\n",
        "\n",
        "#plot the graph\n",
        "plot_graph(G = MEN_Graph_bridge_al, file_path='02_04_mention_network_bridge_adidas_lululemon', plot_size='small')"
      ],
      "metadata": {
        "id": "vxtr5lA11wFf"
      },
      "execution_count": 244,
      "outputs": []
    },
    {
      "cell_type": "code",
      "source": [
        "#plot the exclusive node graph\n",
        "plot_graph(G = MEN_Graph_exc, file_path='03_01_mention_network_exclusive', plot_size='medium')\n",
        "\n",
        "#plot the graph\n",
        "plot_graph(G = MEN_Graph_exc_n, file_path='03_02_mention_network_exclusive_to_nike', plot_size='small')\n",
        "\n",
        "#plot the graph\n",
        "plot_graph(G = MEN_Graph_exc_a, file_path='03_03_mention_network_exclusive_to_adidas', plot_size='small')\n",
        "\n",
        "#plot the graph\n",
        "plot_graph(G = MEN_Graph_exc_l, file_path='03_04_mention_network_exclusive_to_lulu', plot_size='small')"
      ],
      "metadata": {
        "id": "3qWaX_Xk0niY"
      },
      "execution_count": 242,
      "outputs": []
    },
    {
      "cell_type": "markdown",
      "metadata": {
        "id": "6jlAjfjMKsS-"
      },
      "source": [
        "# 4.&nbsp;Create a Semantic Network"
      ]
    },
    {
      "cell_type": "markdown",
      "metadata": {
        "id": "5YXDi7s0MjCs"
      },
      "source": [
        "## Data Prep Functions for NLP"
      ]
    },
    {
      "cell_type": "code",
      "execution_count": 101,
      "metadata": {
        "id": "8sbt2BvpMmkE"
      },
      "outputs": [],
      "source": [
        "TWEET_TOKENIZER = nltk.TweetTokenizer().tokenize\n",
        "WORD_TOKENIZER = nltk.tokenize.word_tokenize\n",
        "\n",
        "#Removing urls\n",
        "def remove_links(tokens):\n",
        "    \"\"\"Removes http/s links from the tokens.\n",
        "\n",
        "    This simple implementation assumes links have been kept intact as whole\n",
        "    tokens. E.g. the way the Tweet Tokenizer works.\n",
        "    \"\"\"\n",
        "    return [ t for t in tokens\n",
        "            if not t.startswith(\"http://\")\n",
        "            and not t.startswith(\"https://\")\n",
        "        ]\n",
        "\n",
        "#Extracting contextual words from a sentence\n",
        "# tokenizing is taking out all the words in a sentence and turning it into tokens/words\n",
        "def tokenize(text, lowercase=True, tweet=False):\n",
        "    \"\"\"Tokenize the text. By default, also normalizes text to lowercase.\n",
        "    Optionally uses the Tweet Tokenizer.\n",
        "    \"\"\"\n",
        "    if lowercase:\n",
        "        text = text.lower()\n",
        "    if tweet:\n",
        "        return TWEET_TOKENIZER(text)\n",
        "    else:\n",
        "        return WORD_TOKENIZER(text)\n",
        "\n",
        "STEMMER = nltk.PorterStemmer()\n",
        "\n",
        "#stem - peaches : peach : reduce the number of repeated words\n",
        "def stem(tokens):\n",
        "    \"\"\"Stem the tokens. I.e., remove morphological affixes and\n",
        "    normalize to standardized stem forms.\n",
        "\n",
        "    Has the side effective of producing \"unnatural\" forms due to\n",
        "    stemming standards. E.g. quickly becomes quickli\n",
        "    \"\"\"\n",
        "    return [ STEMMER.stem(token) for token in tokens ]\n",
        "\n",
        "LEMMATIZER = nltk.WordNetLemmatizer()\n",
        "\n",
        "# feature reduction. taking words and getting their roots and graphing only the root words\n",
        "def lemmatize(tokens):\n",
        "    \"\"\"Lemmatize the tokens.\n",
        "\n",
        "    Retains more natural word forms than stemming, but assumes all\n",
        "    tokens are nouns unless tokens are passed as (word, pos) tuples.\n",
        "    \"\"\"\n",
        "    lemmas = []\n",
        "    for token in tokens:\n",
        "        if isinstance(token, str):\n",
        "            lemmas.append(LEMMATIZER.lemmatize(token)) # treats token like a noun\n",
        "        else: # assume a tuple of (word, pos)\n",
        "            lemmas.append(LEMMATIZER.lemmatize(*token))\n",
        "    return lemmas\n",
        "\n",
        "# feature reduction. taking words and removing any stopwords\n",
        "def remove_stopwords(tokens, stopwords=None):\n",
        "    \"\"\"Remove stopwords, i.e. words that we don't want as part of our\n",
        "    analysis. Defaults to the default set of nltk english stopwords.\n",
        "    \"\"\"\n",
        "    if stopwords is None:\n",
        "        stopwords = nltk.corpus.stopwords.words(\"english\")\n",
        "    return [ token for token in tokens if token not in stopwords]\n",
        "\n",
        "#inputs a list of tokens and returns a list of unpunctuated tokens/words\n",
        "def remove_punctuation(tokens,\n",
        "                       strip_mentions=False,\n",
        "                       strip_hashtags=False,\n",
        "                       strict=False):\n",
        "    \"\"\"Remove punctuation from a list of tokens.\n",
        "\n",
        "    Has some specialized options for dealing with Tweets:\n",
        "\n",
        "    strip_mentions=True will strip the @ off of @ mentions\n",
        "    strip_hashtags=True will strip the # from hashtags\n",
        "\n",
        "    strict=True will remove all punctuation from all tokens, not merely\n",
        "    just tokens that are punctuation per se.\n",
        "    \"\"\"\n",
        "    tokens = [t for t in tokens if t not in string.punctuation]\n",
        "    if strip_mentions:\n",
        "        tokens = [t.lstrip('@') for t in tokens]\n",
        "    if strip_hashtags:\n",
        "        tokens = [t.lstrip('#') for t in tokens]\n",
        "    if strict:\n",
        "        cleaned = []\n",
        "        for t in tokens:\n",
        "            cleaned.append(\n",
        "                t.translate(str.maketrans('', '', string.punctuation)).strip())\n",
        "        tokens = [t for t in cleaned if t]\n",
        "    return tokens\n",
        "\n",
        "#remove single charecter words\n",
        "def remove_single_words(tokens):\n",
        "  goodwords = []\n",
        "  for a_feature in tokens:\n",
        "    if len(a_feature) > 1:\n",
        "      goodwords.append(a_feature)\n",
        "  return goodwords"
      ]
    },
    {
      "cell_type": "code",
      "source": [
        "def filter_part_of_speech(tokens, tagger=nltk.tag.PerceptronTagger().tag, parts_of_speech=None):\n",
        "  # tokenize text\n",
        "  words = tokens\n",
        "  tags = tagger(words)\n",
        "  tokens = []\n",
        "  # iterate through all the tags and count\n",
        "  for tag in tags:\n",
        "      if parts_of_speech is None or tag[1] in parts_of_speech:\n",
        "        if tag[0] not in tokens:\n",
        "          tokens.append(tag[0])\n",
        "  return tokens"
      ],
      "metadata": {
        "id": "YeHypDow9jeI"
      },
      "execution_count": 102,
      "outputs": []
    },
    {
      "cell_type": "code",
      "source": [
        "def data_prep(text):\n",
        "    #natural language pre processing : clean the tweet\n",
        "    tokens = tokenize(text, lowercase=True, tweet=True)\n",
        "    #POS List https://www.ling.upenn.edu/courses/Fall_2003/ling001/penn_treebank_pos.html\n",
        "    tokens = filter_part_of_speech(tokens, parts_of_speech=['NNP', 'NN', 'NNS', 'NNPS', # Nouns of all types\n",
        "                                                            'JJ', 'JJR', 'JJS', # Adjectives of all types\n",
        "                                                            'VB', 'VBD', 'VBG', 'VBN', 'VBP', 'VBZ']) #Verbs of all types\n",
        "    tokens = remove_links(tokens)\n",
        "    tokens = remove_stopwords(tokens, stopwords=stopwords_set)\n",
        "    tokens = remove_punctuation(tokens, strip_mentions=True, strip_hashtags=True)\n",
        "    tokens = lemmatize(tokens)\n",
        "    tokens = remove_single_words(tokens)\n",
        "    #return the processed tokens\n",
        "    return tokens"
      ],
      "metadata": {
        "id": "FLQkd6NfGRIJ"
      },
      "execution_count": 103,
      "outputs": []
    },
    {
      "cell_type": "markdown",
      "metadata": {
        "id": "QLWGkRr5LWaW"
      },
      "source": [
        "## Load the Corpus of Tweets"
      ]
    },
    {
      "cell_type": "code",
      "execution_count": 104,
      "metadata": {
        "id": "zpWgUpApMxa3"
      },
      "outputs": [],
      "source": [
        "## Load the Product Data\n",
        "##this assigns the filename we're trying to load in to a string variable\n",
        "tweet_file_path = '%s/nikelululemonadidas_tweets.jsonl' % DATA_DIR\n",
        "json_file = open(tweet_file_path, 'r')"
      ]
    },
    {
      "cell_type": "markdown",
      "metadata": {
        "id": "ulBAeClRLzBH"
      },
      "source": [
        "##Create a List of Unique Words"
      ]
    },
    {
      "cell_type": "code",
      "execution_count": 105,
      "metadata": {
        "id": "XRCm1AUgaHah"
      },
      "outputs": [],
      "source": [
        "# expand the list of stopwords to use\n",
        "stopwords_set = set(nltk.corpus.stopwords.words(\"english\"))\n",
        "stopwords_set.add('rt')\n",
        "stopwords_set.add(\"'s\")\n",
        "stopwords_set.add('...')\n",
        "stopwords_set.add('..')\n",
        "stopwords_set.add(':/')"
      ]
    },
    {
      "cell_type": "code",
      "execution_count": 106,
      "metadata": {
        "colab": {
          "base_uri": "https://localhost:8080/"
        },
        "id": "qDw6CO2IM1t8",
        "outputId": "a45a1fcd-c520-4902-f285-60cbcead2646"
      },
      "outputs": [
        {
          "output_type": "stream",
          "name": "stdout",
          "text": [
            "0 tweets iterated\n",
            "10000 tweets iterated\n",
            "20000 tweets iterated\n",
            "30000 tweets iterated\n",
            "40000 tweets iterated\n",
            "50000 tweets iterated\n",
            "60000 tweets iterated\n",
            "70000 tweets iterated\n",
            "80000 tweets iterated\n",
            "90000 tweets iterated\n",
            "100000 tweets iterated\n",
            "110000 tweets iterated\n",
            "120000 tweets iterated\n",
            "130000 tweets iterated\n",
            "140000 tweets iterated\n",
            "150000 tweets iterated\n",
            "160000 tweets iterated\n",
            "170000 tweets iterated\n",
            "175077 total tweets processed\n"
          ]
        }
      ],
      "source": [
        "unique_words = {}\n",
        "\n",
        "#iterate through all tweets in the corpus\n",
        "for i, line in enumerate(json_file):\n",
        "    if i % 10000 == 0: # Show a periodic status\n",
        "      print(\"%s tweets iterated\" % i)\n",
        "    #load a single tweet and its text\n",
        "          # convert the json list to a dict\n",
        "    if not isinstance(line, dict):\n",
        "        tweet_json = json.loads(line)\n",
        "    else:\n",
        "        tweet_json = line\n",
        "    # get the text from the tweet\n",
        "    text = tweet_json.get(\"full_text\") or tweet_json.get(\"text\")\n",
        "    #natural language pre processing : clean the tweet\n",
        "    tokens = data_prep(text)\n",
        "    # iterate through the tokens, summerize, and count\n",
        "    for aword in tokens:\n",
        "        if aword in unique_words:\n",
        "            unique_words[aword] += 1\n",
        "        if aword not in unique_words:\n",
        "            unique_words[aword] = 1\n",
        "print(f\"{i} total tweets processed\")"
      ]
    },
    {
      "cell_type": "code",
      "execution_count": 107,
      "metadata": {
        "colab": {
          "base_uri": "https://localhost:8080/"
        },
        "id": "hp20IqpnM2Ox",
        "outputId": "2af6fbb5-6189-4de0-e156-285d204ef277"
      },
      "outputs": [
        {
          "output_type": "stream",
          "name": "stdout",
          "text": [
            "there are 78327 total words in the sematic network.\n"
          ]
        }
      ],
      "source": [
        "#print the number of unique words in the corpus\n",
        "print('there are', len(unique_words), 'total words in the sematic network.')"
      ]
    },
    {
      "cell_type": "markdown",
      "metadata": {
        "id": "TwlBp_ACLWnB"
      },
      "source": [
        "## Create Word Filter List"
      ]
    },
    {
      "cell_type": "code",
      "execution_count": 108,
      "metadata": {
        "colab": {
          "base_uri": "https://localhost:8080/"
        },
        "id": "TQ9-thCwRNrN",
        "outputId": "06aad56f-258d-4d7a-dbcd-1785fa8aff4f"
      },
      "outputs": [
        {
          "output_type": "execute_result",
          "data": {
            "text/plain": [
              "['nike',\n",
              " 'adidas',\n",
              " 'sneakerscouts',\n",
              " 'eneskanter',\n",
              " 'xbox',\n",
              " 'available',\n",
              " 'day',\n",
              " 'air',\n",
              " 'china',\n",
              " 'kingjames']"
            ]
          },
          "metadata": {},
          "execution_count": 108
        }
      ],
      "source": [
        "#create a sorted list of words\n",
        "sorted_counts = sorted(unique_words.items(), key=lambda item: item[1], reverse=True)\n",
        "sorted_words = [word for word, count in sorted_counts]\n",
        "#print the top 10 words in the unique word list\n",
        "sorted_words[:10]"
      ]
    },
    {
      "cell_type": "code",
      "execution_count": 109,
      "metadata": {
        "colab": {
          "base_uri": "https://localhost:8080/"
        },
        "id": "jM4_e4LwRdA4",
        "outputId": "b07486a9-2dca-444d-f2c8-501578e18bb2"
      },
      "outputs": [
        {
          "output_type": "stream",
          "name": "stdout",
          "text": [
            "Nike: 102691\n",
            "Adidas: 36256\n",
            "Lululemon: 6226\n"
          ]
        }
      ],
      "source": [
        "#print the word counts for the major brands\n",
        "print(\"Nike:\", unique_words[\"nike\"])\n",
        "print(\"Adidas:\", unique_words[\"adidas\"])\n",
        "print(\"Lululemon:\", unique_words[\"lululemon\"])"
      ]
    },
    {
      "cell_type": "code",
      "execution_count": 110,
      "metadata": {
        "colab": {
          "base_uri": "https://localhost:8080/"
        },
        "id": "xZZnqVP3ROME",
        "outputId": "c3f412c3-e48e-4813-d720-b74b2f672286"
      },
      "outputs": [
        {
          "output_type": "stream",
          "name": "stdout",
          "text": [
            "the top terms to include in the graph:\n",
            " ['point', 'year', 'much', 'said', 'player', 'available', 'store', 'kick', 'lasership', 'many', 'love', 'lfc', 'snipes_usa', 'next', 'go', 'happy', 'number', 'something', 'money', 'red', 'atmos_usa', 'brilliant', 'today', 'xbox', 'logo', 'lebron', 'woman', 'nikenyc', 'report', 'crazy', 'release', 'drop', 'innovation', 'name', 'issue', 'james', 'jordan', 'last', 'ya', 'dunk', 'bro', 'lululemon', 'find', 'chance', 'prize', 'adidasfballus', \"women's\", 'austinekeler', 'yardrunner', 'thanks', 'card', 'chose', 'sure', 'course', 'black', 'scctradingcards', 'gear', 'big', 'getting', 'pair', 'sneaker', 'news', 'roblox', 'http', 'friend', 'blue', 'em', \"let's\", 'listen', 'get', 'white', \"i'm\", 'better', 'game', 'stay', 'new', 'start', 'part', \"we're\", 'amazon', 'service', 'check', 'exclusive', 'ronwyden', 'nba', 'snkr_twitr', 'nfl', 'people', 'congratulation', 'put', 'company', 'donovan', 'day', 'kingjames', 'nikestore', 'amazing', 'purple', 'china', 'inspired', 'dick', 'rtfktstudios', 'including', 'think', 'night', 'ebay', 'cnn', 'ene', 'space', 'ht', 'launch', 'got', 'follow', 'footlocker', 'labor', 'giannis_an34', 'trying', 'flyknit', 'solefed', 'knight', 'product', 'month', 'proud', 'work', 'running', 'making', 'play', 'fan', 'fuck', 'top', 'call', 'true', 'let', 'app', 'say', 'nicekicks', 'know', 'deal', 'partnership', 'max', 'care', 'kanter', 'kid', 'passing', 'ad', 'thing', 'boredapeyc', 'virgil', 'everyone', 'air', 'impossibleisnothing', 'eneskanter', 'graduation', 'finishline', 'tell', 'turn', 'sport', 'nice', 'good', 'baseball', 'lexxdaturtle', 'family', 'christmas', 'thank', 'gonna', 'inspire', 'season', 'buy', 'metaverse', 'business', 'enduyghurforcedlabor', 'make', 'pack', 'went', 'lol', 'customer', 'stop', 'mitchell', 'see', 'excited', 'nike', 'win', 'nikebasketball', 'looking', 'nikesb', 'sneakerscouts', 'cool', 'shoe', 'made', 'owner', 'wearing', 'icon', 'grey', 'done', 'anything', 'fashion', 'mean', 'great', 'story', 'help', 'time', 'package', 'fedex', 'favorite', 'generation', 'nba_newyork', 'hey', 'centre', 'giving', 'shit', 'michael', 'force', 'topps', 'look', 'damn', 'forced', 'show', 'jumpman23', 'coming', 'heartbroken', 'vapormax', 'hyperkin', \"abloh's\", 'guy', 'using', 'send', 'world', 'maybes', 'hit', 'bring', 'try', 'low', 'run', 'adidasoriginals', 'size', 'campaign', 'kit', 'se', 'way', 'week', 'support', 'thee', 'change', 'fly', 'ticket', 'high', 'need', 'xboxsweepstakes', 'future', 'link', 'welcome', 'feel', 'someone', 'instagram', 'team', 'keep', 'order', 'first', 'celtic', 'come', 'phil', 'please', 'community', 'pink', 'going', 'blazer', 'real', 'slave', 'wait', 'best', 'hope', 'brand', 'girl', 'athlete', 'book', 'date', 'snkrs', 'lot', 'adidas', 'take', 'watch', 'use', 'sneakeradmirals', 'modern', 'want', 'congrats', 'nft', 'bought', 'theestallion', 'life', 'wear', 'kaya_alexander5', 'slavery', 'give', 'right', 'one', 'man', 'dear', 'nothing', 'plane', 'jersey']\n"
          ]
        }
      ],
      "source": [
        "#select the top N words to include in the sematic graph\n",
        "brand_users = ['nike', 'lululemon', 'adidas']\n",
        "N = 300\n",
        "top_terms = list(set(sorted_words[:N] + brand_users))\n",
        "print('the top terms to include in the graph:\\n', top_terms)"
      ]
    },
    {
      "cell_type": "code",
      "source": [
        "#top_terms"
      ],
      "metadata": {
        "id": "T5yPk-U3mFWH"
      },
      "execution_count": 111,
      "outputs": []
    },
    {
      "cell_type": "code",
      "execution_count": 112,
      "metadata": {
        "colab": {
          "base_uri": "https://localhost:8080/"
        },
        "id": "_2aVNGg9YwHk",
        "outputId": "2574dcb7-c9c8-4441-b875-0d5cb4cba650"
      },
      "outputs": [
        {
          "output_type": "stream",
          "name": "stdout",
          "text": [
            "770\n"
          ]
        }
      ],
      "source": [
        "words_to_include = set()\n",
        "#play with this number to get around 1000 words\n",
        "min_word_count = 300\n",
        "\n",
        "# a set is a unique list\n",
        "word_count = 0\n",
        "\n",
        "#iterate through the list of unique users and filter down the list\n",
        "for aword in unique_words:\n",
        "    if unique_words[aword] >= min_word_count:\n",
        "        word_count += 1\n",
        "        words_to_include.add(aword)\n",
        "print(len(words_to_include))"
      ]
    },
    {
      "cell_type": "code",
      "execution_count": 113,
      "metadata": {
        "colab": {
          "base_uri": "https://localhost:8080/"
        },
        "id": "4Nerhc7eZNrB",
        "outputId": "3b205421-fa20-4f38-d436-2549a7f0c94d"
      },
      "outputs": [
        {
          "metadata": {
            "tags": null
          },
          "name": "stdout",
          "output_type": "stream",
          "text": [
            "there are 770 words to include in the final semantic network.\n",
            "0.98% of the total users are included in the mention network.\n"
          ]
        }
      ],
      "source": [
        "#print the number of unique users to include in the graph\n",
        "print('there are', len(words_to_include), 'words to include in the final semantic network.')\n",
        "pct_of_total = round(len(words_to_include) / len(unique_words),4) * 100\n",
        "print(f\"{pct_of_total}% of the total users are included in the mention network.\")"
      ]
    },
    {
      "cell_type": "markdown",
      "metadata": {
        "id": "lHfRCS7URDpj"
      },
      "source": [
        "## Create the Semantic Graph Object"
      ]
    },
    {
      "cell_type": "code",
      "execution_count": 114,
      "metadata": {
        "id": "tbm3ChsRS-D9"
      },
      "outputs": [],
      "source": [
        "#load the source data\n",
        "tweet_file_path = '%s/nikelululemonadidas_tweets.jsonl' % DATA_DIR\n",
        "json_file = open(tweet_file_path, 'r')"
      ]
    },
    {
      "cell_type": "code",
      "execution_count": 115,
      "metadata": {
        "id": "0f_asBLOS-IV"
      },
      "outputs": [],
      "source": [
        "#create a blank graph object\n",
        "SEM_Graph = nx.Graph()"
      ]
    },
    {
      "cell_type": "code",
      "execution_count": 116,
      "metadata": {
        "colab": {
          "base_uri": "https://localhost:8080/"
        },
        "id": "voZ8YW8sSSnm",
        "outputId": "d2301e7a-5fb7-4f4b-a419-028d039d121e"
      },
      "outputs": [
        {
          "output_type": "stream",
          "name": "stdout",
          "text": [
            "0 tweets iterated\n",
            "\n",
            "Just a glimpse so you can see what the cooccurrences for a tweet look like:\n",
            "[('nike', \"women's\"), ('nike', 'air'), ('nike', 'white'), ('nike', 'available'), ('nike', 'footlocker'), ('nike', 'sneakerscouts'), ('nike', 'nike'), (\"women's\", 'air'), (\"women's\", 'white'), (\"women's\", 'available'), (\"women's\", 'footlocker'), (\"women's\", 'sneakerscouts'), (\"women's\", 'nike'), ('air', 'white'), ('air', 'available'), ('air', 'footlocker'), ('air', 'sneakerscouts'), ('air', 'nike'), ('white', 'available'), ('white', 'footlocker'), ('white', 'sneakerscouts'), ('white', 'nike'), ('available', 'footlocker'), ('available', 'sneakerscouts'), ('available', 'nike'), ('footlocker', 'sneakerscouts'), ('footlocker', 'nike'), ('sneakerscouts', 'nike')] \n",
            "\n",
            "10000 tweets iterated\n",
            "\n",
            "Just a glimpse so you can see what the cooccurrences for a tweet look like:\n",
            "[('nike', 'order'), ('nike', 'look'), ('nike', 'someone'), ('order', 'look'), ('order', 'someone'), ('look', 'someone')] \n",
            "\n",
            "20000 tweets iterated\n",
            "\n",
            "Just a glimpse so you can see what the cooccurrences for a tweet look like:\n",
            "[('austinekeler', 'adidas')] \n",
            "\n",
            "30000 tweets iterated\n",
            "\n",
            "Just a glimpse so you can see what the cooccurrences for a tweet look like:\n",
            "[('xbox', 'adidas'), ('xbox', 'hyperkin'), ('xbox', 'xboxsweepstakes'), ('adidas', 'hyperkin'), ('adidas', 'xboxsweepstakes'), ('hyperkin', 'xboxsweepstakes')] \n",
            "\n",
            "40000 tweets iterated\n",
            "\n",
            "Just a glimpse so you can see what the cooccurrences for a tweet look like:\n",
            "[('xbox', 'icon'), ('xbox', 'adidas'), ('xbox', 'xbox'), ('xbox', 'follow'), ('xbox', 'xboxsweepstakes'), ('xbox', 'chance'), ('xbox', 'win'), ('xbox', 'exclusive'), ('xbox', 'kit'), ('xbox', 'including'), ('icon', 'adidas'), ('icon', 'xbox'), ('icon', 'follow'), ('icon', 'xboxsweepstakes'), ('icon', 'chance'), ('icon', 'win'), ('icon', 'exclusive'), ('icon', 'kit'), ('icon', 'including'), ('adidas', 'xbox'), ('adidas', 'follow'), ('adidas', 'xboxsweepstakes'), ('adidas', 'chance'), ('adidas', 'win'), ('adidas', 'exclusive'), ('adidas', 'kit'), ('adidas', 'including'), ('xbox', 'follow'), ('xbox', 'xboxsweepstakes'), ('xbox', 'chance'), ('xbox', 'win'), ('xbox', 'exclusive'), ('xbox', 'kit'), ('xbox', 'including'), ('follow', 'xboxsweepstakes'), ('follow', 'chance'), ('follow', 'win'), ('follow', 'exclusive'), ('follow', 'kit'), ('follow', 'including'), ('xboxsweepstakes', 'chance'), ('xboxsweepstakes', 'win'), ('xboxsweepstakes', 'exclusive'), ('xboxsweepstakes', 'kit'), ('xboxsweepstakes', 'including'), ('chance', 'win'), ('chance', 'exclusive'), ('chance', 'kit'), ('chance', 'including'), ('win', 'exclusive'), ('win', 'kit'), ('win', 'including'), ('exclusive', 'kit'), ('exclusive', 'including'), ('kit', 'including')] \n",
            "\n",
            "50000 tweets iterated\n",
            "\n",
            "Just a glimpse so you can see what the cooccurrences for a tweet look like:\n",
            "[('eneskanter', 'dear'), ('eneskanter', 'stop'), ('eneskanter', 'modern'), ('eneskanter', 'day'), ('eneskanter', 'slavery'), ('eneskanter', 'enduyghurforcedlabor'), ('dear', 'stop'), ('dear', 'modern'), ('dear', 'day'), ('dear', 'slavery'), ('dear', 'enduyghurforcedlabor'), ('stop', 'modern'), ('stop', 'day'), ('stop', 'slavery'), ('stop', 'enduyghurforcedlabor'), ('modern', 'day'), ('modern', 'slavery'), ('modern', 'enduyghurforcedlabor'), ('day', 'slavery'), ('day', 'enduyghurforcedlabor'), ('slavery', 'enduyghurforcedlabor')] \n",
            "\n",
            "60000 tweets iterated\n",
            "\n",
            "Just a glimpse so you can see what the cooccurrences for a tweet look like:\n",
            "[('eneskanter', 'owner'), ('eneskanter', 'nike'), ('eneskanter', 'phil'), ('eneskanter', 'knight'), ('eneskanter', 'book'), ('eneskanter', 'plane'), ('eneskanter', 'ticket'), ('eneskanter', \"let's\"), ('eneskanter', 'fly'), ('eneskanter', 'china'), ('eneskanter', 'try'), ('owner', 'nike'), ('owner', 'phil'), ('owner', 'knight'), ('owner', 'book'), ('owner', 'plane'), ('owner', 'ticket'), ('owner', \"let's\"), ('owner', 'fly'), ('owner', 'china'), ('owner', 'try'), ('nike', 'phil'), ('nike', 'knight'), ('nike', 'book'), ('nike', 'plane'), ('nike', 'ticket'), ('nike', \"let's\"), ('nike', 'fly'), ('nike', 'china'), ('nike', 'try'), ('phil', 'knight'), ('phil', 'book'), ('phil', 'plane'), ('phil', 'ticket'), ('phil', \"let's\"), ('phil', 'fly'), ('phil', 'china'), ('phil', 'try'), ('knight', 'book'), ('knight', 'plane'), ('knight', 'ticket'), ('knight', \"let's\"), ('knight', 'fly'), ('knight', 'china'), ('knight', 'try'), ('book', 'plane'), ('book', 'ticket'), ('book', \"let's\"), ('book', 'fly'), ('book', 'china'), ('book', 'try'), ('plane', 'ticket'), ('plane', \"let's\"), ('plane', 'fly'), ('plane', 'china'), ('plane', 'try'), ('ticket', \"let's\"), ('ticket', 'fly'), ('ticket', 'china'), ('ticket', 'try'), (\"let's\", 'fly'), (\"let's\", 'china'), (\"let's\", 'try'), ('fly', 'china'), ('fly', 'try'), ('china', 'try')] \n",
            "\n",
            "70000 tweets iterated\n",
            "\n",
            "Just a glimpse so you can see what the cooccurrences for a tweet look like:\n",
            "[('sneakerscouts', 'ad'), ('sneakerscouts', 'nike'), ('sneakerscouts', 'air'), ('sneakerscouts', 'force'), ('sneakerscouts', 'available'), ('sneakerscouts', 'finishline'), ('sneakerscouts', 'sneakerscouts'), ('sneakerscouts', 'nike'), ('ad', 'nike'), ('ad', 'air'), ('ad', 'force'), ('ad', 'available'), ('ad', 'finishline'), ('ad', 'sneakerscouts'), ('ad', 'nike'), ('nike', 'air'), ('nike', 'force'), ('nike', 'available'), ('nike', 'finishline'), ('nike', 'sneakerscouts'), ('nike', 'nike'), ('air', 'force'), ('air', 'available'), ('air', 'finishline'), ('air', 'sneakerscouts'), ('air', 'nike'), ('force', 'available'), ('force', 'finishline'), ('force', 'sneakerscouts'), ('force', 'nike'), ('available', 'finishline'), ('available', 'sneakerscouts'), ('available', 'nike'), ('finishline', 'sneakerscouts'), ('finishline', 'nike'), ('sneakerscouts', 'nike')] \n",
            "\n",
            "80000 tweets iterated\n",
            "\n",
            "Just a glimpse so you can see what the cooccurrences for a tweet look like:\n",
            "[('sneakerscouts', 'ad'), ('sneakerscouts', 'nike'), ('sneakerscouts', \"women's\"), ('sneakerscouts', 'air'), ('sneakerscouts', 'vapormax'), ('sneakerscouts', 'red'), ('sneakerscouts', 'white'), ('sneakerscouts', 'available'), ('sneakerscouts', 'footlocker'), ('sneakerscouts', 'sneakerscouts'), ('sneakerscouts', 'nike'), ('sneakerscouts', 'http'), ('ad', 'nike'), ('ad', \"women's\"), ('ad', 'air'), ('ad', 'vapormax'), ('ad', 'red'), ('ad', 'white'), ('ad', 'available'), ('ad', 'footlocker'), ('ad', 'sneakerscouts'), ('ad', 'nike'), ('ad', 'http'), ('nike', \"women's\"), ('nike', 'air'), ('nike', 'vapormax'), ('nike', 'red'), ('nike', 'white'), ('nike', 'available'), ('nike', 'footlocker'), ('nike', 'sneakerscouts'), ('nike', 'nike'), ('nike', 'http'), (\"women's\", 'air'), (\"women's\", 'vapormax'), (\"women's\", 'red'), (\"women's\", 'white'), (\"women's\", 'available'), (\"women's\", 'footlocker'), (\"women's\", 'sneakerscouts'), (\"women's\", 'nike'), (\"women's\", 'http'), ('air', 'vapormax'), ('air', 'red'), ('air', 'white'), ('air', 'available'), ('air', 'footlocker'), ('air', 'sneakerscouts'), ('air', 'nike'), ('air', 'http'), ('vapormax', 'red'), ('vapormax', 'white'), ('vapormax', 'available'), ('vapormax', 'footlocker'), ('vapormax', 'sneakerscouts'), ('vapormax', 'nike'), ('vapormax', 'http'), ('red', 'white'), ('red', 'available'), ('red', 'footlocker'), ('red', 'sneakerscouts'), ('red', 'nike'), ('red', 'http'), ('white', 'available'), ('white', 'footlocker'), ('white', 'sneakerscouts'), ('white', 'nike'), ('white', 'http'), ('available', 'footlocker'), ('available', 'sneakerscouts'), ('available', 'nike'), ('available', 'http'), ('footlocker', 'sneakerscouts'), ('footlocker', 'nike'), ('footlocker', 'http'), ('sneakerscouts', 'nike'), ('sneakerscouts', 'http'), ('nike', 'http')] \n",
            "\n",
            "90000 tweets iterated\n",
            "\n",
            "Just a glimpse so you can see what the cooccurrences for a tweet look like:\n",
            "[('nike', 'woman'), ('nike', 'team'), ('nike', 'get'), ('woman', 'team'), ('woman', 'get'), ('team', 'get')] \n",
            "\n",
            "100000 tweets iterated\n",
            "\n",
            "Just a glimpse so you can see what the cooccurrences for a tweet look like:\n",
            "[('nike', 'partnership'), ('nike', 'deal'), ('partnership', 'deal')] \n",
            "\n",
            "110000 tweets iterated\n",
            "\n",
            "Just a glimpse so you can see what the cooccurrences for a tweet look like:\n",
            "[('get', 'show'), ('get', 'happy'), ('get', 'nike'), ('get', 'kid'), ('show', 'happy'), ('show', 'nike'), ('show', 'kid'), ('happy', 'nike'), ('happy', 'kid'), ('nike', 'kid')] \n",
            "\n",
            "120000 tweets iterated\n",
            "\n",
            "Just a glimpse so you can see what the cooccurrences for a tweet look like:\n",
            "[('kingjames', 'slavery'), ('kingjames', 'china'), ('kingjames', 'lebron'), ('slavery', 'china'), ('slavery', 'lebron'), ('china', 'lebron')] \n",
            "\n",
            "130000 tweets iterated\n",
            "\n",
            "Just a glimpse so you can see what the cooccurrences for a tweet look like:\n",
            "[('nike', 'air'), ('nike', 'vapormax'), ('nike', 'flyknit'), ('nike', 'logo'), ('nike', 'pack'), ('nike', 'available'), ('nike', 'finishline'), ('nike', 'sneakerscouts'), ('nike', 'nike'), ('air', 'vapormax'), ('air', 'flyknit'), ('air', 'logo'), ('air', 'pack'), ('air', 'available'), ('air', 'finishline'), ('air', 'sneakerscouts'), ('air', 'nike'), ('vapormax', 'flyknit'), ('vapormax', 'logo'), ('vapormax', 'pack'), ('vapormax', 'available'), ('vapormax', 'finishline'), ('vapormax', 'sneakerscouts'), ('vapormax', 'nike'), ('flyknit', 'logo'), ('flyknit', 'pack'), ('flyknit', 'available'), ('flyknit', 'finishline'), ('flyknit', 'sneakerscouts'), ('flyknit', 'nike'), ('logo', 'pack'), ('logo', 'available'), ('logo', 'finishline'), ('logo', 'sneakerscouts'), ('logo', 'nike'), ('pack', 'available'), ('pack', 'finishline'), ('pack', 'sneakerscouts'), ('pack', 'nike'), ('available', 'finishline'), ('available', 'sneakerscouts'), ('available', 'nike'), ('finishline', 'sneakerscouts'), ('finishline', 'nike'), ('sneakerscouts', 'nike')] \n",
            "\n",
            "140000 tweets iterated\n",
            "\n",
            "Just a glimpse so you can see what the cooccurrences for a tweet look like:\n",
            "[('nike', 'jumpman23'), ('nike', 'hit'), ('nike', 'put'), ('nike', 'cool'), ('nike', 'grey'), ('nike', 'snkrs'), ('nike', 'app'), ('nike', 'give'), ('nike', 'come'), ('nike', 'better'), ('nike', 'way'), ('nike', 'get'), ('nike', 'pair'), ('nike', 'order'), ('jumpman23', 'hit'), ('jumpman23', 'put'), ('jumpman23', 'cool'), ('jumpman23', 'grey'), ('jumpman23', 'snkrs'), ('jumpman23', 'app'), ('jumpman23', 'give'), ('jumpman23', 'come'), ('jumpman23', 'better'), ('jumpman23', 'way'), ('jumpman23', 'get'), ('jumpman23', 'pair'), ('jumpman23', 'order'), ('hit', 'put'), ('hit', 'cool'), ('hit', 'grey'), ('hit', 'snkrs'), ('hit', 'app'), ('hit', 'give'), ('hit', 'come'), ('hit', 'better'), ('hit', 'way'), ('hit', 'get'), ('hit', 'pair'), ('hit', 'order'), ('put', 'cool'), ('put', 'grey'), ('put', 'snkrs'), ('put', 'app'), ('put', 'give'), ('put', 'come'), ('put', 'better'), ('put', 'way'), ('put', 'get'), ('put', 'pair'), ('put', 'order'), ('cool', 'grey'), ('cool', 'snkrs'), ('cool', 'app'), ('cool', 'give'), ('cool', 'come'), ('cool', 'better'), ('cool', 'way'), ('cool', 'get'), ('cool', 'pair'), ('cool', 'order'), ('grey', 'snkrs'), ('grey', 'app'), ('grey', 'give'), ('grey', 'come'), ('grey', 'better'), ('grey', 'way'), ('grey', 'get'), ('grey', 'pair'), ('grey', 'order'), ('snkrs', 'app'), ('snkrs', 'give'), ('snkrs', 'come'), ('snkrs', 'better'), ('snkrs', 'way'), ('snkrs', 'get'), ('snkrs', 'pair'), ('snkrs', 'order'), ('app', 'give'), ('app', 'come'), ('app', 'better'), ('app', 'way'), ('app', 'get'), ('app', 'pair'), ('app', 'order'), ('give', 'come'), ('give', 'better'), ('give', 'way'), ('give', 'get'), ('give', 'pair'), ('give', 'order'), ('come', 'better'), ('come', 'way'), ('come', 'get'), ('come', 'pair'), ('come', 'order'), ('better', 'way'), ('better', 'get'), ('better', 'pair'), ('better', 'order'), ('way', 'get'), ('way', 'pair'), ('way', 'order'), ('get', 'pair'), ('get', 'order'), ('pair', 'order')] \n",
            "\n",
            "150000 tweets iterated\n",
            "160000 tweets iterated\n",
            "\n",
            "Just a glimpse so you can see what the cooccurrences for a tweet look like:\n",
            "[('gear', 'nike'), ('gear', 'jumpman23'), ('gear', 'nike'), ('nike', 'jumpman23'), ('nike', 'nike'), ('jumpman23', 'nike')] \n",
            "\n",
            "170000 tweets iterated\n",
            "\n",
            "Just a glimpse so you can see what the cooccurrences for a tweet look like:\n",
            "[('adidas', 'win'), ('adidas', 'dunk'), ('adidas', 'lol'), ('adidas', 'think'), ('adidas', 'donovan'), ('adidas', 'done'), ('adidas', 'take'), ('adidas', 'anything'), ('win', 'dunk'), ('win', 'lol'), ('win', 'think'), ('win', 'donovan'), ('win', 'done'), ('win', 'take'), ('win', 'anything'), ('dunk', 'lol'), ('dunk', 'think'), ('dunk', 'donovan'), ('dunk', 'done'), ('dunk', 'take'), ('dunk', 'anything'), ('lol', 'think'), ('lol', 'donovan'), ('lol', 'done'), ('lol', 'take'), ('lol', 'anything'), ('think', 'donovan'), ('think', 'done'), ('think', 'take'), ('think', 'anything'), ('donovan', 'done'), ('donovan', 'take'), ('donovan', 'anything'), ('done', 'take'), ('done', 'anything'), ('take', 'anything')] \n",
            "\n",
            "175077 total tweets processed\n"
          ]
        }
      ],
      "source": [
        "# Identify unique users in the semantic network\n",
        "for i, line in enumerate(json_file):\n",
        "    #provide an update on processing progress\n",
        "    if i % 10000 == 0: # Show a periodic status\n",
        "      print(\"%s tweets iterated\" % i)\n",
        "    #load a single tweet and its text\n",
        "          # convert the json list to a dict\n",
        "    if not isinstance(line, dict):\n",
        "        tweet_json = json.loads(line)\n",
        "    else:\n",
        "        tweet_json = line\n",
        "    # get the text from the tweet\n",
        "    text = tweet_json.get(\"full_text\") or tweet_json.get(\"text\")\n",
        "    #natural language pre processing : clean the tweet\n",
        "    tokens = data_prep(text)\n",
        "    #reduce the tweet to terms in the 1000 word network and add the\n",
        "    nodes = [t for t in tokens if t in top_terms]\n",
        "    if len(nodes) > 0:\n",
        "      # term relationships to the graph\n",
        "      cooccurrences = itertools.combinations(nodes, 2)\n",
        "      #peek under the hood at what is being added to the graph\n",
        "      if i % 10000 == 0:\n",
        "          print(\"\\nJust a glimpse so you can see what the cooccurrences for a tweet look like:\")\n",
        "          cooccurrences = list(cooccurrences)\n",
        "          print(cooccurrences,'\\n')\n",
        "      #iterate through all the combinations\n",
        "      for c in cooccurrences:\n",
        "        if c[0] != c[1]:\n",
        "          #add the tuples of words as edges to the graph\n",
        "          if SEM_Graph.has_edge(c[0], c[1]):\n",
        "            # If the edge exists, increment its weight\n",
        "            SEM_Graph[c[0]][c[1]]['weight'] += 1\n",
        "          else:\n",
        "            # If the edge doesn't exist, add it with weight=1\n",
        "            SEM_Graph.add_edge(c[0], c[1], weight=1)\n",
        "print(f\"{i} total tweets processed\")"
      ]
    },
    {
      "cell_type": "code",
      "execution_count": 174,
      "metadata": {
        "colab": {
          "base_uri": "https://localhost:8080/"
        },
        "id": "N9PmNIZCSxBJ",
        "outputId": "a9e328e6-33bd-4fc0-a0ff-0020cd5a5f1f"
      },
      "outputs": [
        {
          "output_type": "stream",
          "name": "stdout",
          "text": [
            "----------------------------------------\n",
            "##### Graph Summary #####\n",
            "number of nodes: 300\n",
            "number of edges: 33553\n",
            "\n",
            "nodes: ['nike', \"women's\", 'air', 'white', 'available', 'footlocker', 'sneakerscouts', 'adidas', 'lasership', 'work', 'next', 'ad', 'space', 'low', 'snipes_usa', 'snkrs', 'get', 'nikebasketball', 'partnership', 'team', 'release', 'jordan', 'real', 'support', 'friend', 'family', 'kaya_alexander5', 'nikestore', 'sneakeradmirals', 'pair', 'lot', 'wait', 'game', 'jumpman23', 'cnn', 'instagram', 'ebay', 'amazon', 'business', 'max', 'ht', 'dunk', 'adidasoriginals', 'look', 'wearing', 'say', 'drop', 'time', 'vapormax', 'flyknit', 'finishline', 'much', 'people', 'nicekicks', 'snkr_twitr', 'good', 'sport', 'week', 'take', 'black', 'lol', 'think', 'care', 'deal', 'run', 'company', 'win', 'guy', 'see', 'way', 'keep', 'play', 'top', 'going', 'year', 'thank', 'great', 'getting', 'show', 'making', 'want', 'kingjames', 'start', 'blazer', 'red', 'need', 'jersey', 'sneaker', 'day', 'date', 'fashion', 'know', 'thanks', 'something', 'trying', 'issue', 'let', 'make', 'sure', 'love', 'buy', 'everyone', 'theestallion', 'thee', 'app', 'go', 'shoe', 'part', 'grey', 'hey', 'cool', 'exclusive', 'got', 'brand', 'new', 'customer', 'bought', 'blue', 'month', 'turn', 'please', 'use', 'package', 'put', 'lululemon', 'happy', \"we're\", 'giving', 'store', 'running', 'force', 'thing', \"i'm\", 'woman', 'service', 'night', 'gonna', 'first', 'help', 'change', 'bro', 'best', 'right', 'order', 'congrats', 'se', 'gear', 'http', 'season', 'one', 'kit', 'lfc', 'looking', 'man', 'many', 'size', 'last', 'chance', 'said', 'tell', 'campaign', 'link', 'story', 'today', 'nikenyc', 'girl', 'point', 'stay', 'em', 'hit', 'nice', 'product', 'stop', 'adidasfballus', 'shit', 'money', 'fly', 'atmos_usa', 'ticket', 'dick', 'big', 'pink', 'find', 'lebron', 'james', 'athlete', 'kick', 'fan', 'wear', 'check', 'icon', 'follow', 'done', 'community', 'try', 'amazing', 'life', 'send', 'favorite', 'congratulation', 'feel', 'crazy', 'world', 'bring', 'christmas', 'report', 'high', 'forced', 'watch', 'made', 'modern', 'phil', 'knight', 'name', 'welcome', 'slave', 'labor', 'number', 'innovation', 'mean', 'come', 'better', 'purple', 'fedex', 'logo', 'pack', 'give', 'card', 'true', 'hope', 'fuck', 'future', 'passing', 'someone', 'lexxdaturtle', 'damn', 'kid', 'prize', 'nfl', 'chose', 'nothing', 'player', \"let's\", 'dear', 'course', 'using', 'book', 'nikesb', 'ya', 'nft', 'anything', 'call', 'went', 'coming', 'solefed', 'excited', 'china', 'listen', 'michael', 'nba', 'celtic', 'proud', 'including', 'launch', 'impossibleisnothing', 'xbox', 'inspire', 'slavery', 'inspired', 'news', 'owner', 'brilliant', 'baseball', 'metaverse', 'centre', 'giannis_an34', 'roblox', 'donovan', 'mitchell', 'austinekeler', 'yardrunner', 'generation', 'heartbroken', 'xboxsweepstakes', 'hyperkin', 'plane', 'eneskanter', 'kanter', 'rtfktstudios', 'ene', 'enduyghurforcedlabor', 'boredapeyc', 'graduation', 'scctradingcards', 'topps', 'virgil', \"abloh's\", 'nba_newyork', 'ronwyden', 'maybes']\n",
            "\n",
            "neighbors of adidas: ['available', 'partnership', 'nike', 'real', 'get', 'support', 'friend', 'family', 'adidasoriginals', 'look', 'wearing', 'say', 'drop', 'much', 'people', 'lol', 'deal', 'black', 'run', 'company', 'thank', 'great', 'team', 'getting', 'red', 'need', 'jersey', 'start', 'know', 'play', 'bought', 'pair', 'blue', 'month', 'please', 'next', 'sneaker', 'love', 'new', 'grey', 'year', 'thanks', 'service', 'shoe', 'keep', 'night', 'gonna', 'right', 'brand', 'make', 'sure', 'gear', 'see', 'got', 'one', 'good', 'day', 'top', 'trying', 'tell', 'let', 'think', 'today', 'way', 'snkr_twitr', 'adidasfballus', \"we're\", 'em', 'want', 'man', 'show', 'first', 'athlete', 'size', 'check', 'icon', 'done', 'kit', 'follow', 'instagram', 'http', 'try', 'amazing', 'help', 'life', 'fan', 'order', 'wait', 'work', 'watch', 'looking', 'fly', 'season', 'modern', 'time', 'store', 'win', 'point', 'world', 'better', 'hey', 'going', 'big', 'welcome', 'many', \"i'm\", 'hope', 'take', 'care', 'find', 'white', 'give', 'future', 'passing', 'guy', 'girl', 'card', 'prize', 'nice', 'feel', \"women's\", 'lasership', 'package', 'customer', 'money', 'nft', 'favorite', 'sport', 'bring', 'happy', 'last', 'everyone', 'put', 'excited', \"let's\", 'buy', 'stop', 'something', 'thing', 'made', 'player', 'high', 'app', 'china', 'campaign', 'ad', 'snipes_usa', 'running', 'release', 'bro', 'stay', 'using', 'kick', 'impossibleisnothing', 'best', 'jumpman23', 'nfl', 'nba', 'said', 'wear', 'product', 'game', 'pack', 'send', 'kid', 'mean', 'shit', 'someone', 'crazy', 'cool', 'week', 'part', 'come', 'call', 'inspire', 'congrats', 'use', 'lot', 'go', 'change', 'nothing', 'name', 'anything', 'exclusive', 'went', 'congratulation', 'turn', 'amazon', 'proud', 'number', 'damn', 'true', 'giving', 'link', 'course', 'nikebasketball', 'woman', 'fedex', 'nikestore', 'owner', 'date', 'low', 'making', 'business', 'pink', 'footlocker', 'story', 'xbox', 'news', 'community', 'book', 'innovation', 'brilliant', 'report', 'sneakeradmirals', 'chose', 'nikenyc', 'issue', 'lululemon', 'james', 'fuck', 'ebay', 'coming', 'inspired', 'launch', 'ticket', 'nicekicks', 'including', 'air', 'logo', 'jordan', 'force', 'fashion', 'michael', 'hit', 'slave', 'labor', 'dear', 'purple', 'space', 'chance', 'forced', 'baseball', 'dick', 'theestallion', 'cnn', 'max', 'christmas', 'snkrs', 'dunk', 'knight', 'phil', 'ya', 'donovan', 'mitchell', 'austinekeler', 'atmos_usa', 'solefed', 'generation', 'kingjames', 'se', 'xboxsweepstakes', 'hyperkin', 'roblox', 'plane', 'lexxdaturtle', 'finishline', 'celtic', 'blazer', 'heartbroken', 'ht', 'eneskanter', 'nikesb', 'kanter', 'giannis_an34', 'lfc', 'topps', 'listen', 'boredapeyc', 'centre', 'lebron', 'metaverse', 'flyknit', 'rtfktstudios', 'kaya_alexander5', 'scctradingcards', 'thee', 'graduation', 'slavery', 'maybes']\n",
            "neighbors of nike: [\"women's\", 'air', 'white', 'available', 'footlocker', 'sneakerscouts', 'lasership', 'work', 'next', 'snkrs', 'get', 'nikebasketball', 'partnership', 'adidas', 'team', 'release', 'jordan', 'lot', 'wait', 'cnn', 'instagram', 'ebay', 'amazon', 'business', 'ad', 'max', 'snipes_usa', 'ht', 'dunk', 'time', 'vapormax', 'flyknit', 'finishline', 'jumpman23', 'sneakeradmirals', 'nicekicks', 'snkr_twitr', 'look', 'good', 'black', 'think', 'people', 'care', 'win', 'guy', 'see', 'way', 'keep', 'play', 'say', 'top', 'going', 'year', 'show', 'making', 'want', 'space', 'low', 'kingjames', 'start', 'blazer', 'getting', 'thanks', 'something', 'trying', 'issue', 'go', 'shoe', 'part', 'support', 'grey', 'turn', 'new', 'use', 'company', 'package', 'put', 'week', 'know', 'thing', \"i'm\", 'woman', 'day', 'red', 'let', 'order', 'congrats', 'customer', 'force', 'se', 'happy', 'http', 'season', 'lol', 'store', 'kit', 'lfc', 'real', 'game', 'jersey', 'man', 'many', 'pair', 'size', 'last', 'chance', 'said', 'please', 'app', 'nikenyc', 'girl', 'point', 'blue', 'night', 'love', 'today', 'make', 'money', 'take', 'link', 'right', 'atmos_usa', 'great', 'nikestore', 'dick', 'sure', 'brand', 'pink', 'need', 'stop', 'giving', 'kick', 'buy', 'sport', 'story', 'check', 'sneaker', 'thank', 'got', 'send', 'favorite', 'product', 'world', 'bring', 'christmas', 'report', 'high', 'forced', 'best', 'made', 'big', 'phil', 'knight', 'athlete', 'name', 'much', 'kaya_alexander5', 'welcome', 'slave', 'labor', 'number', 'innovation', 'mean', 'come', 'em', 'lebron', 'run', 'purple', 'fan', 'fedex', 'help', 'bro', 'service', 'logo', 'pack', 'true', 'watch', 'looking', 'give', 'fuck', 'shit', 'tell', 'campaign', 'lexxdaturtle', 'gonna', 'community', 'one', 'nice', 'damn', 'amazing', 'month', 'done', 'theestallion', 'player', 'nothing', 'fashion', 'follow', 'gear', 'nfl', 'first', 'icon', 'book', 'cool', 'nikesb', 'bought', 'try', 'wearing', 'anything', 'call', 'feel', 'deal', 'hit', \"we're\", 'life', 'hey', 'wear', 'went', 'better', 'coming', 'solefed', 'kid', 'excited', 'change', 'everyone', 'china', 'crazy', 'find', 'running', 'modern', 'listen', 'michael', 'nba', 'celtic', 'including', 'someone', 'hope', 'future', 'launch', 'exclusive', 'course', 'family', 'using', 'drop', 'xbox', 'dear', 'friend', 'stay', 'thee', 'date', 'card', 'congratulation', 'inspire', 'james', 'prize', 'inspired', \"let's\", 'news', 'ya', 'owner', 'brilliant', 'adidasoriginals', 'baseball', 'nft', 'proud', 'fly', 'lululemon', 'passing', 'slavery', 'giannis_an34', 'ticket', 'metaverse', 'roblox', 'yardrunner', 'heartbroken', 'chose', 'centre', 'hyperkin', 'xboxsweepstakes', 'mitchell', 'eneskanter', 'kanter', 'rtfktstudios', 'ene', 'plane', 'enduyghurforcedlabor', 'boredapeyc', 'generation', 'impossibleisnothing', 'scctradingcards', 'topps', 'virgil', 'graduation', \"abloh's\", 'adidasfballus', 'nba_newyork', 'ronwyden']\n",
            "neighbors of lululemon: ['thank', 'happy', 'let', 'week', 'great', 'nice', 'running', 'thanks', 'top', 'follow', 'congratulation', 'feel', 'please', 'make', 'brand', 'fashion', 'hey', 'order', 'life', 'new', 'got', 'good', 'friend', 'put', 'everyone', 'love', 'need', 'give', 'card', 'buy', 'day', 'try', 'store', 'get', 'know', 'best', 'thing', 'customer', 'service', 'said', 'run', 'size', 'pair', 'one', 'find', 'something', 'product', 'way', 'app', 'keep', 'lol', 'course', 'wearing', 'business', 'see', 'stay', 'made', 'time', 'season', \"i'm\", 'guy', 'think', 'ya', 'chance', 'pack', 'favorite', 'deal', 'space', 'force', 'look', 'show', 'package', 'say', 'help', 'kid', 'tell', 'mean', 'many', 'work', 'take', 'shoe', 'coming', 'come', 'gear', 'hit', 'people', 'man', 'team', 'last', 'night', 'going', 'right', 'fan', 'money', 'point', 'real', 'better', 'lot', 'year', 'want', 'stop', 'community', 'getting', 'hope', 'family', 'send', 'pink', 'go', 'call', 'amazing', 'world', 'today', 'high', 'check', \"we're\", 'kick', 'change', 'woman', 'wear', 'company', 'first', 'wait', 'next', 'excited', 'ticket', 'part', 'using', 'including', 'release', 'nothing', 'anything', 'gonna', 'use', 'news', 'campaign', 'name', 'start', 'someone', 'trying', 'support', 'done', 'went', 'sure', 'china', 'bought', 'game', 'blazer', \"women's\", 'white', 'black', 'grey', 'partnership', 'much', 'turn', 'cool', 'adidas', 'jumpman23', 'girl', 'ad', 'looking', 'nike', 'number', 'damn', 'athlete', 'prize', 'care', 'report', 'big', 'shit', 'adidasoriginals', 'sport', 'proud', 'fedex', 'james', 'welcome', 'month', 'available', 'launch', 'blue', 'making', 'story', 'giving', 'date', 'inspired', 'issue', 'inspire', 'centre', 'link', 'dear', 'true', 'fly', 'book', 'drop', 'win', 'congrats', 'play', 'watch', 'instagram', 'exclusive', 'future', 'crazy', 'bring', 'knight', 'owner', 'fuck', 'nba', 'nfl', 'amazon', 'nft', 'logo', 'christmas', 'listen', 'plane', 'nikestore', 'jordan', 'player', 'slavery', 'air', 'nicekicks', 'ht', 'low', 'bro', 'red', 'kit', 'brilliant', 'jersey', 'modern', 'http', 'celtic', 'footlocker', 'innovation', 'forced', 'labor', 'sneaker', \"let's\", 'max', 'em', 'metaverse', 'dick', 'generation', 'nikenyc', 'atmos_usa', 'sneakeradmirals', 'snkr_twitr', 'ebay', 'baseball', 'purple', 'thee']\n",
            "----------------------------------------\n",
            "\n"
          ]
        }
      ],
      "source": [
        "#display a summary of the graph object created\n",
        "graph_summary_stats(G = SEM_Graph)"
      ]
    },
    {
      "cell_type": "code",
      "source": [
        "#SEM_Graph.edges(data=True)"
      ],
      "metadata": {
        "id": "H3RxA_HUjZlQ"
      },
      "execution_count": 118,
      "outputs": []
    },
    {
      "cell_type": "code",
      "source": [
        "#extract edge weights\n",
        "hist_data_edge_weights = [SEM_Graph[u][v]['weight'] for u, v in SEM_Graph.edges()]\n",
        "\n",
        "#determine bin edges based on desired bin width\n",
        "bin_width = 50\n",
        "min_edge_weight = min(hist_data_edge_weights)\n",
        "max_edge_weight = max(hist_data_edge_weights)\n",
        "bins = np.arange(min_edge_weight, max_edge_weight + bin_width, bin_width)\n",
        "\n",
        "#plot histogram\n",
        "plt.hist(hist_data_edge_weights, bins=bins, color='blue', edgecolor='black', alpha=0.7)\n",
        "plt.title('Histogram of Edge Weights')\n",
        "plt.xlabel('Weight')\n",
        "plt.ylabel('Number of Edges')\n",
        "plt.show()"
      ],
      "metadata": {
        "colab": {
          "base_uri": "https://localhost:8080/",
          "height": 472
        },
        "id": "MSlFQYlDaQaR",
        "outputId": "729ea2b4-5618-44fb-f4ee-c2ae03a76ad2"
      },
      "execution_count": 197,
      "outputs": [
        {
          "output_type": "display_data",
          "data": {
            "text/plain": [
              "<Figure size 640x480 with 1 Axes>"
            ],
            "image/png": "[encoded data removed]"
          },
          "metadata": {}
        }
      ]
    },
    {
      "cell_type": "code",
      "source": [
        "SEM_Graph_clean = focus_edges(G = SEM_Graph, weight_min = 10)"
      ],
      "metadata": {
        "id": "oYRhj0pAbRcV"
      },
      "execution_count": 218,
      "outputs": []
    },
    {
      "cell_type": "code",
      "source": [
        "#display a summary of the graph object created\n",
        "graph_summary_stats(G = SEM_Graph_clean)"
      ],
      "metadata": {
        "colab": {
          "base_uri": "https://localhost:8080/"
        },
        "id": "VL6r2_uubRtO",
        "outputId": "c003c3b6-add9-498a-8e0b-e4f9074323c8"
      },
      "execution_count": 219,
      "outputs": [
        {
          "output_type": "stream",
          "name": "stdout",
          "text": [
            "----------------------------------------\n",
            "##### Graph Summary #####\n",
            "number of nodes: 300\n",
            "number of edges: 15411\n",
            "\n",
            "nodes: ['nike', \"women's\", 'air', 'white', 'available', 'footlocker', 'sneakerscouts', 'adidas', 'lasership', 'work', 'next', 'ad', 'space', 'low', 'snipes_usa', 'snkrs', 'get', 'nikebasketball', 'partnership', 'team', 'release', 'jordan', 'real', 'support', 'friend', 'family', 'kaya_alexander5', 'nikestore', 'sneakeradmirals', 'pair', 'lot', 'wait', 'game', 'jumpman23', 'cnn', 'instagram', 'ebay', 'amazon', 'business', 'max', 'ht', 'dunk', 'adidasoriginals', 'look', 'wearing', 'say', 'drop', 'time', 'vapormax', 'flyknit', 'finishline', 'much', 'people', 'nicekicks', 'snkr_twitr', 'good', 'sport', 'week', 'take', 'black', 'lol', 'think', 'care', 'deal', 'run', 'company', 'win', 'guy', 'see', 'way', 'keep', 'play', 'top', 'going', 'year', 'thank', 'great', 'getting', 'show', 'making', 'want', 'kingjames', 'start', 'blazer', 'red', 'need', 'jersey', 'sneaker', 'day', 'date', 'fashion', 'know', 'thanks', 'something', 'trying', 'issue', 'let', 'make', 'sure', 'love', 'buy', 'everyone', 'theestallion', 'thee', 'app', 'go', 'shoe', 'part', 'grey', 'hey', 'cool', 'exclusive', 'got', 'brand', 'new', 'customer', 'bought', 'blue', 'month', 'turn', 'please', 'use', 'package', 'put', 'lululemon', 'happy', \"we're\", 'giving', 'store', 'running', 'force', 'thing', \"i'm\", 'woman', 'service', 'night', 'gonna', 'first', 'help', 'change', 'bro', 'best', 'right', 'order', 'congrats', 'se', 'gear', 'http', 'season', 'one', 'kit', 'lfc', 'looking', 'man', 'many', 'size', 'last', 'chance', 'said', 'tell', 'campaign', 'link', 'story', 'today', 'nikenyc', 'girl', 'point', 'stay', 'em', 'hit', 'nice', 'product', 'stop', 'adidasfballus', 'shit', 'money', 'fly', 'atmos_usa', 'ticket', 'dick', 'big', 'pink', 'find', 'lebron', 'james', 'athlete', 'kick', 'fan', 'wear', 'check', 'icon', 'follow', 'done', 'community', 'try', 'amazing', 'life', 'send', 'favorite', 'congratulation', 'feel', 'crazy', 'world', 'bring', 'christmas', 'report', 'high', 'forced', 'watch', 'made', 'modern', 'phil', 'knight', 'name', 'welcome', 'slave', 'labor', 'number', 'innovation', 'mean', 'come', 'better', 'purple', 'fedex', 'logo', 'pack', 'give', 'card', 'true', 'hope', 'fuck', 'future', 'passing', 'someone', 'lexxdaturtle', 'damn', 'kid', 'prize', 'nfl', 'chose', 'nothing', 'player', \"let's\", 'dear', 'course', 'using', 'book', 'nikesb', 'ya', 'nft', 'anything', 'call', 'went', 'coming', 'solefed', 'excited', 'china', 'listen', 'michael', 'nba', 'celtic', 'proud', 'including', 'launch', 'impossibleisnothing', 'xbox', 'inspire', 'slavery', 'inspired', 'news', 'owner', 'brilliant', 'baseball', 'metaverse', 'centre', 'giannis_an34', 'roblox', 'donovan', 'mitchell', 'austinekeler', 'yardrunner', 'generation', 'heartbroken', 'xboxsweepstakes', 'hyperkin', 'plane', 'eneskanter', 'kanter', 'rtfktstudios', 'ene', 'enduyghurforcedlabor', 'boredapeyc', 'graduation', 'scctradingcards', 'topps', 'virgil', \"abloh's\", 'nba_newyork', 'ronwyden', 'maybes']\n",
            "\n",
            "neighbors of adidas: ['available', 'partnership', 'nike', 'real', 'get', 'support', 'friend', 'family', 'adidasoriginals', 'look', 'wearing', 'say', 'drop', 'much', 'people', 'lol', 'deal', 'black', 'run', 'company', 'thank', 'great', 'team', 'getting', 'red', 'need', 'jersey', 'start', 'know', 'play', 'bought', 'pair', 'blue', 'month', 'please', 'next', 'sneaker', 'love', 'new', 'grey', 'year', 'thanks', 'service', 'shoe', 'keep', 'night', 'gonna', 'right', 'brand', 'make', 'sure', 'gear', 'see', 'got', 'one', 'good', 'day', 'top', 'trying', 'tell', 'let', 'think', 'today', 'way', 'snkr_twitr', 'adidasfballus', \"we're\", 'em', 'want', 'man', 'show', 'first', 'athlete', 'size', 'check', 'icon', 'done', 'kit', 'follow', 'instagram', 'http', 'try', 'amazing', 'help', 'life', 'fan', 'order', 'wait', 'work', 'watch', 'looking', 'fly', 'season', 'time', 'store', 'win', 'point', 'world', 'better', 'hey', 'going', 'big', 'welcome', 'many', \"i'm\", 'hope', 'take', 'care', 'find', 'white', 'give', 'future', 'passing', 'guy', 'girl', 'card', 'prize', 'nice', 'feel', \"women's\", 'lasership', 'package', 'customer', 'money', 'nft', 'favorite', 'sport', 'bring', 'happy', 'last', 'everyone', 'put', 'excited', \"let's\", 'buy', 'stop', 'something', 'thing', 'made', 'player', 'high', 'app', 'china', 'campaign', 'ad', 'running', 'release', 'bro', 'stay', 'using', 'kick', 'impossibleisnothing', 'best', 'jumpman23', 'nfl', 'nba', 'said', 'wear', 'product', 'game', 'pack', 'send', 'kid', 'mean', 'shit', 'someone', 'crazy', 'cool', 'week', 'part', 'come', 'call', 'inspire', 'congrats', 'use', 'lot', 'go', 'change', 'nothing', 'name', 'anything', 'exclusive', 'went', 'congratulation', 'turn', 'amazon', 'proud', 'number', 'damn', 'true', 'giving', 'link', 'course', 'nikebasketball', 'woman', 'fedex', 'nikestore', 'owner', 'date', 'low', 'making', 'business', 'pink', 'footlocker', 'story', 'xbox', 'news', 'community', 'book', 'innovation', 'report', 'sneakeradmirals', 'chose', 'issue', 'james', 'fuck', 'ebay', 'coming', 'inspired', 'launch', 'ticket', 'nicekicks', 'including', 'air', 'logo', 'jordan', 'force', 'fashion', 'michael', 'hit', 'slave', 'labor', 'dear', 'space', 'chance', 'baseball', 'dick', 'christmas', 'snkrs', 'dunk', 'ya', 'donovan', 'mitchell', 'austinekeler', 'atmos_usa', 'solefed', 'generation', 'kingjames', 'xboxsweepstakes', 'hyperkin', 'roblox', 'lexxdaturtle', 'finishline', 'ht', 'eneskanter', 'nikesb', 'giannis_an34', 'lfc', 'topps', 'listen', 'boredapeyc', 'metaverse', 'rtfktstudios', 'kaya_alexander5', 'maybes']\n",
            "neighbors of nike: [\"women's\", 'air', 'white', 'available', 'footlocker', 'sneakerscouts', 'lasership', 'work', 'next', 'snkrs', 'get', 'nikebasketball', 'partnership', 'adidas', 'team', 'release', 'jordan', 'lot', 'wait', 'cnn', 'instagram', 'ebay', 'amazon', 'business', 'ad', 'max', 'snipes_usa', 'ht', 'dunk', 'time', 'vapormax', 'flyknit', 'finishline', 'jumpman23', 'sneakeradmirals', 'nicekicks', 'snkr_twitr', 'look', 'good', 'black', 'think', 'people', 'care', 'win', 'guy', 'see', 'way', 'keep', 'play', 'say', 'top', 'going', 'year', 'show', 'making', 'want', 'space', 'low', 'kingjames', 'start', 'blazer', 'getting', 'thanks', 'something', 'trying', 'issue', 'go', 'shoe', 'part', 'support', 'grey', 'turn', 'new', 'use', 'company', 'package', 'put', 'week', 'know', 'thing', \"i'm\", 'woman', 'day', 'red', 'let', 'order', 'congrats', 'customer', 'force', 'se', 'happy', 'http', 'season', 'lol', 'store', 'kit', 'lfc', 'real', 'game', 'jersey', 'man', 'many', 'pair', 'size', 'last', 'chance', 'said', 'please', 'app', 'nikenyc', 'girl', 'point', 'blue', 'night', 'love', 'today', 'make', 'money', 'take', 'link', 'right', 'atmos_usa', 'great', 'nikestore', 'dick', 'sure', 'brand', 'pink', 'need', 'stop', 'giving', 'kick', 'buy', 'sport', 'story', 'check', 'sneaker', 'thank', 'got', 'send', 'favorite', 'product', 'world', 'bring', 'christmas', 'report', 'high', 'forced', 'best', 'made', 'big', 'phil', 'knight', 'athlete', 'name', 'much', 'kaya_alexander5', 'welcome', 'slave', 'labor', 'number', 'innovation', 'mean', 'come', 'em', 'lebron', 'run', 'purple', 'fan', 'fedex', 'help', 'bro', 'service', 'logo', 'pack', 'true', 'watch', 'looking', 'give', 'fuck', 'shit', 'tell', 'campaign', 'lexxdaturtle', 'gonna', 'community', 'one', 'nice', 'damn', 'amazing', 'month', 'done', 'theestallion', 'player', 'nothing', 'fashion', 'follow', 'gear', 'nfl', 'first', 'icon', 'book', 'cool', 'nikesb', 'bought', 'try', 'wearing', 'anything', 'call', 'feel', 'deal', 'hit', \"we're\", 'life', 'hey', 'wear', 'went', 'better', 'coming', 'solefed', 'kid', 'excited', 'change', 'everyone', 'china', 'crazy', 'find', 'running', 'modern', 'listen', 'michael', 'nba', 'celtic', 'including', 'someone', 'hope', 'future', 'launch', 'exclusive', 'course', 'family', 'using', 'drop', 'xbox', 'dear', 'friend', 'stay', 'thee', 'date', 'card', 'congratulation', 'inspire', 'james', 'prize', 'inspired', \"let's\", 'news', 'ya', 'owner', 'brilliant', 'adidasoriginals', 'baseball', 'nft', 'proud', 'fly', 'lululemon', 'passing', 'slavery', 'giannis_an34', 'ticket', 'metaverse', 'roblox', 'yardrunner', 'heartbroken', 'chose', 'centre', 'eneskanter', 'kanter', 'rtfktstudios', 'ene', 'plane', 'enduyghurforcedlabor', 'boredapeyc', 'generation', 'scctradingcards', 'topps', 'virgil', 'graduation', \"abloh's\", 'nba_newyork', 'ronwyden']\n",
            "neighbors of lululemon: ['thank', 'happy', 'let', 'week', 'great', 'nice', 'running', 'thanks', 'top', 'follow', 'congratulation', 'feel', 'please', 'make', 'brand', 'fashion', 'hey', 'order', 'life', 'new', 'got', 'good', 'friend', 'put', 'everyone', 'love', 'need', 'give', 'card', 'buy', 'day', 'try', 'store', 'get', 'know', 'best', 'thing', 'customer', 'service', 'said', 'run', 'size', 'pair', 'one', 'find', 'something', 'product', 'way', 'keep', 'lol', 'wearing', 'business', 'see', 'stay', 'made', 'time', 'season', \"i'm\", 'guy', 'think', 'chance', 'pack', 'favorite', 'deal', 'space', 'look', 'show', 'package', 'say', 'help', 'kid', 'tell', 'mean', 'many', 'work', 'take', 'shoe', 'coming', 'come', 'gear', 'hit', 'people', 'man', 'team', 'last', 'night', 'going', 'right', 'fan', 'money', 'point', 'real', 'better', 'lot', 'year', 'want', 'stop', 'community', 'getting', 'hope', 'family', 'send', 'go', 'call', 'amazing', 'world', 'today', 'high', 'check', \"we're\", 'change', 'woman', 'wear', 'company', 'first', 'wait', 'next', 'excited', 'part', 'using', 'including', 'nothing', 'anything', 'gonna', 'use', 'news', 'name', 'start', 'someone', 'trying', 'support', 'done', 'went', 'sure', 'china', 'bought', 'game', 'white', 'black', 'partnership', 'much', 'turn', 'cool', 'jumpman23', 'girl', 'ad', 'looking', 'nike', 'number', 'damn', 'athlete', 'care', 'report', 'big', 'shit', 'sport', 'proud', 'fedex', 'welcome', 'month', 'available', 'launch', 'making', 'story', 'giving', 'issue', 'link', 'dear', 'true', 'book', 'drop', 'win', 'congrats', 'watch', 'future', 'crazy', 'bring', 'nba', 'nfl', 'amazon', 'nft', 'logo', 'christmas', 'plane', 'low', 'bro', 'red', 'kit', 'generation']\n",
            "----------------------------------------\n",
            "\n"
          ]
        }
      ]
    },
    {
      "cell_type": "code",
      "source": [
        "#extract edge weights\n",
        "hist_data_edge_weights = [SEM_Graph_clean[u][v]['weight'] for u, v in SEM_Graph_clean.edges()]\n",
        "\n",
        "#plot histogram\n",
        "plt.hist(hist_data_edge_weights, bins=bins, color='blue', edgecolor='black', alpha=0.7)\n",
        "plt.title('Histogram of Edge Weights')\n",
        "plt.xlabel('Weight')\n",
        "plt.ylabel('Number of Edges')\n",
        "plt.show()"
      ],
      "metadata": {
        "colab": {
          "base_uri": "https://localhost:8080/",
          "height": 472
        },
        "id": "9yTjoRvEbpXj",
        "outputId": "a6edc30b-5b2a-48d2-ee5a-27212a7a6eb9"
      },
      "execution_count": 210,
      "outputs": [
        {
          "output_type": "display_data",
          "data": {
            "text/plain": [
              "<Figure size 640x480 with 1 Axes>"
            ],
            "image/png": "[encoded data removed]"
          },
          "metadata": {}
        }
      ]
    },
    {
      "cell_type": "code",
      "source": [
        "#SEM_Graph_clean.edges(data=True)"
      ],
      "metadata": {
        "id": "cu6iCMBBE-s2"
      },
      "execution_count": 211,
      "outputs": []
    },
    {
      "cell_type": "markdown",
      "source": [
        "## Create Subgraphs for Analysis"
      ],
      "metadata": {
        "id": "y26WUgSJFJ1X"
      }
    },
    {
      "cell_type": "code",
      "source": [
        "##### Shared Sets of Node Intersetions #####\n",
        "\n",
        "# Define key nodes\n",
        "key_nodes_all = ['nike', 'lululemon', 'adidas']\n",
        "key_nodes_nl = ['nike', 'lululemon']\n",
        "key_nodes_na = ['nike', 'adidas']\n",
        "key_nodes_al = ['adidas', 'lululemon']\n",
        "\n",
        "# Find neighbors of the key nodes by themselves\n",
        "neighbors_sets_n = set(nx.all_neighbors(SEM_Graph_clean, 'nike'))\n",
        "neighbors_sets_a = set(nx.all_neighbors(SEM_Graph_clean, 'adidas'))\n",
        "neighbors_sets_l = set(nx.all_neighbors(SEM_Graph_clean, 'lululemon'))\n",
        "\n",
        "# Find neighbors of the key nodes\n",
        "neighbors_sets_all = [set(nx.all_neighbors(SEM_Graph_clean, node)) for node in key_nodes_all]\n",
        "neighbors_sets_nl = [set(nx.all_neighbors(SEM_Graph_clean, node)) for node in key_nodes_nl]\n",
        "neighbors_sets_na = [set(nx.all_neighbors(SEM_Graph_clean, node)) for node in key_nodes_na]\n",
        "neighbors_sets_al = [set(nx.all_neighbors(SEM_Graph_clean, node)) for node in key_nodes_al]\n",
        "\n",
        "# Intersect the sets to get nodes connected to all key nodes\n",
        "common_neighbors_all = set.intersection(*neighbors_sets_all)\n",
        "\n",
        "# Intersect the sets to get nodes connected to only 2 key nodes\n",
        "\n",
        "common_neighbors_nl = set.intersection(*neighbors_sets_nl) - common_neighbors_all - set(key_nodes_al)\n",
        "common_neighbors_na = set.intersection(*neighbors_sets_na) - common_neighbors_all - set(key_nodes_nl)\n",
        "common_neighbors_al = set.intersection(*neighbors_sets_al) - common_neighbors_all - set(key_nodes_na)\n",
        "\n",
        "# Get nodes connected to any one of the key nodes but not all of them\n",
        "union_neighbors = set.union(*neighbors_sets_all)\n",
        "\n",
        "# Get nodes connected to only 1 brand\n",
        "exclusive_neighbors = (union_neighbors - common_neighbors_all\n",
        "                       - common_neighbors_nl - common_neighbors_na - common_neighbors_al)\n",
        "\n",
        "# Get nodes connected to each specific brand\n",
        "exclusive_neighbors_n = neighbors_sets_n - common_neighbors_all - common_neighbors_nl - common_neighbors_na - set(key_nodes_al)\n",
        "exclusive_neighbors_a = neighbors_sets_a - common_neighbors_all - common_neighbors_na - common_neighbors_nl - set(key_nodes_nl)\n",
        "exclusive_neighbors_l = neighbors_sets_l - common_neighbors_all - common_neighbors_nl - common_neighbors_al - set(key_nodes_na)\n"
      ],
      "metadata": {
        "id": "q6-OS9X_FJ9d"
      },
      "execution_count": 220,
      "outputs": []
    },
    {
      "cell_type": "code",
      "source": [
        "##### Bridging to All Brands Nodes #####\n",
        "# Create a subgraph\n",
        "nodes_to_keep = list(common_neighbors_all) + key_nodes_all\n",
        "SEM_Graph_bridge_3 = focus_edges(G=SEM_Graph_clean, weight_min=125).subgraph(nodes_to_keep)\n",
        "#display a summary of the subgraph\n",
        "graph_summary_stats(G = SEM_Graph_bridge_3, title='Bridging to All Brands Nodes')\n",
        "\n",
        "##### Nike to Adidas Bridges #####\n",
        "# Create a subgraph\n",
        "nodes_to_keep = list(common_neighbors_na) + key_nodes_na\n",
        "SEM_Graph_bridge_na = SEM_Graph_clean.subgraph(nodes_to_keep)\n",
        "#SEM_Graph_bridge_na = focus_edges(G = SEM_Graph_bridge_na, weight_min = 1000)\n",
        "#display a summary of the subgraph\n",
        "graph_summary_stats(G = SEM_Graph_bridge_na, title='Nike to Adidas Bridges')\n",
        "\n",
        "##### Nike to Lululemon Bridges #####\n",
        "# Create a subgraph\n",
        "nodes_to_keep = list(common_neighbors_nl) + key_nodes_nl\n",
        "SEM_Graph_bridge_nl = SEM_Graph_clean.subgraph(nodes_to_keep)\n",
        "#display a summary of the subgraph\n",
        "graph_summary_stats(G = SEM_Graph_bridge_nl, title='Nike to Lululemon Bridges')\n",
        "\n",
        "##### Adidas to Lululemon Bridges #####\n",
        "# Create a subgraph\n",
        "nodes_to_keep = list(common_neighbors_al) + key_nodes_al\n",
        "SEM_Graph_bridge_al = SEM_Graph_clean.subgraph(nodes_to_keep)\n",
        "#display a summary of the subgraph\n",
        "graph_summary_stats(G = SEM_Graph_bridge_al, title='Adidas to Lululemon Bridges')"
      ],
      "metadata": {
        "colab": {
          "base_uri": "https://localhost:8080/"
        },
        "id": "UXiomdKYV2b1",
        "outputId": "0a3d505e-4381-420f-b593-2c4b3e3aa1c7"
      },
      "execution_count": 221,
      "outputs": [
        {
          "output_type": "stream",
          "name": "stdout",
          "text": [
            "----------------------------------------\n",
            "##### Bridging to All Brands Nodes #####\n",
            "number of nodes: 190\n",
            "number of edges: 781\n",
            "\n",
            "nodes: ['nike', 'white', 'available', 'adidas', 'work', 'next', 'ad', 'space', 'low', 'get', 'partnership', 'team', 'real', 'support', 'friend', 'family', 'pair', 'lot', 'wait', 'game', 'jumpman23', 'amazon', 'business', 'look', 'wearing', 'say', 'drop', 'time', 'much', 'people', 'good', 'sport', 'week', 'take', 'black', 'lol', 'think', 'care', 'deal', 'run', 'company', 'win', 'guy', 'see', 'way', 'keep', 'top', 'going', 'year', 'thank', 'great', 'getting', 'show', 'making', 'want', 'start', 'red', 'need', 'day', 'fashion', 'know', 'thanks', 'something', 'trying', 'issue', 'let', 'make', 'sure', 'love', 'buy', 'everyone', 'go', 'shoe', 'part', 'hey', 'cool', 'got', 'brand', 'new', 'customer', 'bought', 'month', 'turn', 'please', 'use', 'package', 'put', 'lululemon', 'happy', \"we're\", 'giving', 'store', 'running', 'thing', \"i'm\", 'woman', 'service', 'night', 'gonna', 'first', 'help', 'change', 'bro', 'best', 'right', 'order', 'congrats', 'gear', 'season', 'one', 'kit', 'looking', 'man', 'many', 'size', 'last', 'chance', 'said', 'tell', 'link', 'story', 'today', 'girl', 'point', 'stay', 'hit', 'nice', 'product', 'stop', 'shit', 'money', 'big', 'find', 'athlete', 'fan', 'wear', 'check', 'follow', 'done', 'community', 'try', 'amazing', 'life', 'send', 'favorite', 'congratulation', 'feel', 'crazy', 'world', 'bring', 'christmas', 'report', 'high', 'watch', 'made', 'name', 'welcome', 'number', 'mean', 'come', 'better', 'fedex', 'logo', 'pack', 'give', 'card', 'true', 'hope', 'future', 'someone', 'damn', 'kid', 'nfl', 'nothing', 'dear', 'using', 'book', 'nft', 'anything', 'call', 'went', 'coming', 'excited', 'china', 'nba', 'proud', 'including', 'launch', 'news', 'generation']\n",
            "\n",
            "neighbors of adidas: ['available', 'partnership', 'nike', 'real', 'get', 'support', 'friend', 'family', 'look', 'wearing', 'say', 'drop', 'much', 'people', 'lol', 'deal', 'black', 'run', 'company', 'thank', 'great', 'team', 'getting', 'need', 'start', 'know', 'pair', 'month', 'please', 'next', 'love', 'new', 'year', 'thanks', 'service', 'shoe', 'keep', 'gonna', 'right', 'brand', 'make', 'sure', 'gear', 'see', 'got', 'one', 'good', 'day', 'top', 'trying', 'let', 'think', 'today', 'way', 'want', 'man', 'show', 'first', 'size', 'check', 'kit', 'follow', 'amazing', 'help', 'life', 'fan', 'order', 'wait', 'work', 'looking', 'season', 'time', 'store', 'win', 'point', 'world', 'better', 'hey', 'going', 'big', 'many', \"i'm\", 'hope', 'take', 'find', 'white', 'give', 'guy', 'card', 'nice', 'package', 'customer', 'money', 'nft', 'sport', 'happy', 'last', 'everyone', 'put', 'excited', 'buy', 'stop', 'something', 'thing', 'made', 'ad', 'running', 'stay', 'best', 'jumpman23', 'nfl', 'nba', 'wear', 'product', 'game', 'send', 'shit', 'crazy', 'cool', 'week', 'come', 'call', 'congrats', 'use', 'go', 'nothing', 'anything', 'went', 'amazon', 'number', 'fedex', 'making', 'news', 'community', 'including', 'fashion', 'chance', 'christmas', 'generation']\n",
            "neighbors of nike: ['white', 'available', 'work', 'next', 'get', 'partnership', 'adidas', 'team', 'lot', 'wait', 'amazon', 'business', 'ad', 'time', 'jumpman23', 'look', 'good', 'black', 'think', 'people', 'care', 'win', 'guy', 'see', 'way', 'keep', 'say', 'top', 'going', 'year', 'show', 'making', 'want', 'space', 'low', 'start', 'getting', 'thanks', 'something', 'trying', 'issue', 'go', 'shoe', 'part', 'support', 'turn', 'new', 'use', 'company', 'package', 'put', 'week', 'know', 'thing', \"i'm\", 'woman', 'day', 'red', 'let', 'order', 'congrats', 'customer', 'happy', 'season', 'lol', 'store', 'real', 'game', 'man', 'many', 'pair', 'size', 'last', 'chance', 'said', 'please', 'girl', 'point', 'night', 'love', 'today', 'make', 'money', 'take', 'link', 'right', 'great', 'sure', 'brand', 'need', 'stop', 'giving', 'buy', 'sport', 'story', 'check', 'thank', 'got', 'send', 'favorite', 'product', 'world', 'bring', 'christmas', 'report', 'high', 'best', 'made', 'big', 'athlete', 'name', 'much', 'welcome', 'number', 'mean', 'come', 'run', 'fan', 'fedex', 'help', 'bro', 'service', 'logo', 'pack', 'true', 'watch', 'looking', 'give', 'shit', 'tell', 'gonna', 'community', 'one', 'nice', 'damn', 'amazing', 'month', 'done', 'nothing', 'fashion', 'follow', 'gear', 'nfl', 'first', 'book', 'cool', 'bought', 'try', 'wearing', 'anything', 'call', 'feel', 'deal', 'hit', \"we're\", 'life', 'hey', 'wear', 'went', 'better', 'coming', 'kid', 'excited', 'change', 'everyone', 'china', 'crazy', 'find', 'running', 'nba', 'including', 'someone', 'hope', 'future', 'launch', 'family', 'using', 'drop', 'dear', 'friend', 'stay', 'card', 'congratulation', 'news', 'nft', 'proud', 'generation']\n",
            "neighbors of lululemon: ['thank', 'great', 'thanks', 'please', 'make', 'brand', 'order', 'new', 'got', 'good', 'love', 'need', 'day', 'store', 'get', 'know', 'best', 'customer', 'service', 'see', 'time', 'look', 'work', 'take', 'team', 'year', 'want', 'go', 'today', 'company', 'first', 'excited']\n",
            "----------------------------------------\n",
            "\n",
            "----------------------------------------\n",
            "##### Nike to Adidas Bridges #####\n",
            "number of nodes: 71\n",
            "number of edges: 591\n",
            "\n",
            "nodes: ['lexxdaturtle', 'player', 'adidasoriginals', 'exclusive', 'snkr_twitr', 'finishline', 'kick', 'inspire', 'campaign', 'lasership', 'metaverse', 'kingjames', 'lfc', 'nikestore', 'inspired', 'dick', 'rtfktstudios', 'fly', 'ebay', 'ticket', 'atmos_usa', 'nikebasketball', 'nikesb', 'xbox', 'ht', 'nike', 'giannis_an34', 'footlocker', 'labor', 'instagram', 'jersey', 'owner', 'release', 'innovation', 'icon', 'grey', 'james', 'jordan', 'ya', 'dunk', 'pink', 'play', 'prize', 'slave', 'course', \"women's\", 'fuck', 'chose', 'date', 'app', 'snkrs', 'nicekicks', 'adidas', 'michael', 'force', 'topps', 'sneaker', 'sneakeradmirals', 'passing', 'roblox', 'http', 'boredapeyc', 'blue', 'em', 'kaya_alexander5', 'air', \"let's\", 'listen', 'eneskanter', 'solefed', 'baseball']\n",
            "\n",
            "neighbors of adidas: ['nike', 'adidasoriginals', 'jersey', 'play', 'blue', 'sneaker', 'grey', 'snkr_twitr', 'em', 'icon', 'instagram', 'http', 'fly', 'passing', 'prize', \"women's\", 'lasership', \"let's\", 'player', 'app', 'campaign', 'release', 'kick', 'inspire', 'exclusive', 'course', 'nikebasketball', 'nikestore', 'owner', 'date', 'pink', 'footlocker', 'xbox', 'innovation', 'sneakeradmirals', 'chose', 'james', 'fuck', 'ebay', 'inspired', 'ticket', 'nicekicks', 'air', 'jordan', 'force', 'michael', 'slave', 'labor', 'baseball', 'dick', 'snkrs', 'dunk', 'ya', 'atmos_usa', 'solefed', 'kingjames', 'roblox', 'lexxdaturtle', 'finishline', 'ht', 'eneskanter', 'nikesb', 'giannis_an34', 'lfc', 'topps', 'listen', 'boredapeyc', 'metaverse', 'rtfktstudios', 'kaya_alexander5']\n",
            "neighbors of nike: [\"women's\", 'air', 'footlocker', 'lasership', 'snkrs', 'nikebasketball', 'adidas', 'release', 'jordan', 'instagram', 'ebay', 'ht', 'dunk', 'finishline', 'sneakeradmirals', 'nicekicks', 'snkr_twitr', 'play', 'kingjames', 'grey', 'force', 'http', 'lfc', 'jersey', 'app', 'blue', 'atmos_usa', 'nikestore', 'dick', 'pink', 'kick', 'sneaker', 'kaya_alexander5', 'slave', 'labor', 'innovation', 'em', 'fuck', 'campaign', 'lexxdaturtle', 'player', 'icon', 'nikesb', 'solefed', 'listen', 'michael', 'exclusive', 'course', 'xbox', 'date', 'inspire', 'james', 'prize', 'inspired', \"let's\", 'ya', 'owner', 'adidasoriginals', 'baseball', 'fly', 'passing', 'giannis_an34', 'ticket', 'metaverse', 'roblox', 'chose', 'eneskanter', 'rtfktstudios', 'boredapeyc', 'topps']\n",
            "----------------------------------------\n",
            "\n",
            "----------------------------------------\n",
            "##### Nike to Lululemon Bridges #####\n",
            "number of nodes: 3\n",
            "number of edges: 3\n",
            "\n",
            "nodes: ['lululemon', 'nike', 'plane']\n",
            "\n",
            "neighbors of nike: ['lululemon', 'plane']\n",
            "neighbors of lululemon: ['nike', 'plane']\n",
            "----------------------------------------\n",
            "\n",
            "----------------------------------------\n",
            "##### Adidas to Lululemon Bridges #####\n",
            "number of nodes: 2\n",
            "number of edges: 0\n",
            "\n",
            "nodes: ['adidas', 'lululemon']\n",
            "\n",
            "neighbors of adidas: []\n",
            "neighbors of lululemon: []\n",
            "----------------------------------------\n",
            "\n"
          ]
        }
      ]
    },
    {
      "cell_type": "code",
      "source": [
        "##### Exclusive Nodes: Unique to Only 1 Brand #####\n",
        "\n",
        "# Create a subgraph\n",
        "nodes_to_keep_exc = list(exclusive_neighbors) + key_nodes_all\n",
        "SEM_Graph_exc = SEM_Graph_clean.subgraph(nodes_to_keep_exc)\n",
        "\n",
        "#display a summary of the subgraph\n",
        "graph_summary_stats(G = SEM_Graph_exc, title='Exclusive Nodes: Unique to Only 1 Brand')\n",
        "\n",
        "# Create a subgraph\n",
        "SEM_Graph_exc_n = SEM_Graph_clean.subgraph(list(exclusive_neighbors_n) + ['nike'])\n",
        "SEM_Graph_exc_a = SEM_Graph_clean.subgraph(list(exclusive_neighbors_a) + ['adidas'])\n",
        "SEM_Graph_exc_l = SEM_Graph_clean.subgraph(list(exclusive_neighbors_l) + ['lululemon'])\n",
        "\n",
        "#filter the graph edges to focus on influential to brands\n",
        "#SEM_Graph_exc_n = focus_edges(G = SEM_Graph_exc_n, weight_min = 125)\n",
        "#SEM_Graph_exc_a = focus_edges(G = SEM_Graph_exc_a, weight_min = 125)\n",
        "\n",
        "#display a summary of the subgraph\n",
        "graph_summary_stats(G = SEM_Graph_exc_n, title='Exclusive Nodes for Nike')\n",
        "graph_summary_stats(G = SEM_Graph_exc_a, title='Exclusive Nodes for Adidas')\n",
        "graph_summary_stats(G = SEM_Graph_exc_l, title='Exclusive Nodes for Lululemon')"
      ],
      "metadata": {
        "colab": {
          "base_uri": "https://localhost:8080/"
        },
        "id": "HiLTBTg_V2e2",
        "outputId": "b867dc21-450f-4ed1-ab98-431f027d1958"
      },
      "execution_count": 222,
      "outputs": [
        {
          "output_type": "stream",
          "name": "stdout",
          "text": [
            "----------------------------------------\n",
            "##### Exclusive Nodes: Unique to Only 1 Brand #####\n",
            "number of nodes: 43\n",
            "number of edges: 113\n",
            "\n",
            "nodes: ['ronwyden', 'se', 'purple', 'donovan', 'enduyghurforcedlabor', 'snipes_usa', 'thee', 'mitchell', 'cnn', 'ene', 'nike', 'brilliant', 'xboxsweepstakes', 'sneakerscouts', 'nikenyc', 'lebron', 'flyknit', 'knight', 'celtic', 'phil', 'lululemon', 'blazer', 'adidasfballus', 'austinekeler', 'yardrunner', 'nba_newyork', 'centre', 'scctradingcards', 'adidas', 'max', 'modern', 'forced', 'kanter', 'theestallion', 'virgil', 'hyperkin', 'heartbroken', 'vapormax', 'slavery', \"abloh's\", 'impossibleisnothing', 'graduation', 'maybes']\n",
            "\n",
            "neighbors of adidas: ['nike', 'adidasfballus', 'impossibleisnothing', 'donovan', 'mitchell', 'austinekeler', 'xboxsweepstakes', 'hyperkin', 'maybes']\n",
            "neighbors of nike: ['sneakerscouts', 'adidas', 'cnn', 'max', 'snipes_usa', 'vapormax', 'flyknit', 'blazer', 'se', 'nikenyc', 'forced', 'phil', 'knight', 'lebron', 'purple', 'theestallion', 'modern', 'celtic', 'thee', 'brilliant', 'lululemon', 'slavery', 'yardrunner', 'heartbroken', 'centre', 'kanter', 'ene', 'enduyghurforcedlabor', 'scctradingcards', 'virgil', 'graduation', \"abloh's\", 'nba_newyork', 'ronwyden']\n",
            "neighbors of lululemon: ['nike']\n",
            "----------------------------------------\n",
            "\n",
            "----------------------------------------\n",
            "##### Exclusive Nodes for Nike #####\n",
            "number of nodes: 33\n",
            "number of edges: 95\n",
            "\n",
            "nodes: ['ronwyden', 'se', 'purple', 'enduyghurforcedlabor', 'snipes_usa', 'thee', 'cnn', 'ene', 'brilliant', 'nike', 'sneakerscouts', 'nikenyc', 'lebron', 'flyknit', 'knight', 'celtic', 'phil', 'blazer', 'yardrunner', 'nba_newyork', 'centre', 'scctradingcards', 'max', 'modern', 'forced', 'kanter', 'theestallion', 'virgil', 'slavery', 'heartbroken', 'vapormax', \"abloh's\", 'graduation']\n",
            "\n",
            "neighbors of nike: ['sneakerscouts', 'cnn', 'max', 'snipes_usa', 'vapormax', 'flyknit', 'blazer', 'se', 'nikenyc', 'forced', 'phil', 'knight', 'lebron', 'purple', 'theestallion', 'modern', 'celtic', 'thee', 'brilliant', 'slavery', 'yardrunner', 'heartbroken', 'centre', 'kanter', 'ene', 'enduyghurforcedlabor', 'scctradingcards', 'virgil', 'graduation', \"abloh's\", 'nba_newyork', 'ronwyden']\n",
            "----------------------------------------\n",
            "\n",
            "----------------------------------------\n",
            "##### Exclusive Nodes for Adidas #####\n",
            "number of nodes: 9\n",
            "number of edges: 16\n",
            "\n",
            "nodes: ['adidas', 'mitchell', 'xboxsweepstakes', 'hyperkin', 'adidasfballus', 'impossibleisnothing', 'austinekeler', 'donovan', 'maybes']\n",
            "\n",
            "neighbors of adidas: ['adidasfballus', 'impossibleisnothing', 'donovan', 'mitchell', 'austinekeler', 'xboxsweepstakes', 'hyperkin', 'maybes']\n",
            "----------------------------------------\n",
            "\n",
            "----------------------------------------\n",
            "##### Exclusive Nodes for Lululemon #####\n",
            "number of nodes: 1\n",
            "number of edges: 0\n",
            "\n",
            "nodes: ['lululemon']\n",
            "\n",
            "neighbors of lululemon: []\n",
            "----------------------------------------\n",
            "\n"
          ]
        }
      ]
    },
    {
      "cell_type": "markdown",
      "metadata": {
        "id": "Ah6D4FI-RDtl"
      },
      "source": [
        "## Plot All the Graphs"
      ]
    },
    {
      "cell_type": "code",
      "execution_count": 246,
      "metadata": {
        "id": "hrgKXbHvSVIr"
      },
      "outputs": [],
      "source": [
        "#plot the baseline graph\n",
        "plot_graph(G = SEM_Graph_clean, file_path='04_01_semantic_network', use_edge_weight=False, plot_size='large')"
      ]
    },
    {
      "cell_type": "markdown",
      "source": [
        "![picture](https://drive.google.com/uc?id=13Gw10LpnQ_te6xysy4wz82xzzZ4TEzAq)"
      ],
      "metadata": {
        "id": "PHAKyyyOWQJv"
      }
    },
    {
      "cell_type": "code",
      "source": [
        "#plot the graph\n",
        "plot_graph(G = SEM_Graph_bridge_3, file_path='05_01_semantic_network_bridge_all_3', use_edge_weight=False, plot_size='medium')\n",
        "\n",
        "#plot the graph\n",
        "plot_graph(G = SEM_Graph_bridge_na, file_path='05_02_semantic_network_bridge_nike_adidas', use_edge_weight=False, plot_size='small')\n",
        "\n",
        "#plot the graph\n",
        "plot_graph(G = SEM_Graph_bridge_nl, file_path='05_03_semantic_network_bridge_nike_lululemon', use_edge_weight=False, plot_size='small')\n",
        "\n",
        "#plot the graph\n",
        "plot_graph(G = SEM_Graph_bridge_al, file_path='05_04_semantic_network_bridge_adidas_lululemon', use_edge_weight=False, plot_size='small')"
      ],
      "metadata": {
        "id": "ISDi55rNYUBn"
      },
      "execution_count": 240,
      "outputs": []
    },
    {
      "cell_type": "code",
      "source": [
        "#plot the exclusive node graph\n",
        "plot_graph(G = SEM_Graph_exc, file_path='06_01_semantic_network_exclusive', use_edge_weight=False, plot_size='small')\n",
        "\n",
        "#plot the graph\n",
        "plot_graph(G = SEM_Graph_exc_n, file_path='06_02_semantic_network_exclusive_to_nike', use_edge_weight=False, plot_size='small')\n",
        "\n",
        "#plot the graph\n",
        "plot_graph(G = SEM_Graph_exc_a, file_path='06_03_semantic_network_exclusive_to_adidas', use_edge_weight=False, plot_size='small')\n",
        "\n",
        "#plot the graph\n",
        "plot_graph(G = SEM_Graph_exc_l, file_path='06_04_semantic_network_exclusive_to_lulu', use_edge_weight=False, plot_size='small')"
      ],
      "metadata": {
        "id": "aYgrpKS6_L4i"
      },
      "execution_count": 241,
      "outputs": []
    },
    {
      "cell_type": "markdown",
      "metadata": {
        "id": "gSYya309LXz5"
      },
      "source": [
        "# 5.&nbsp;Graph with Pyvis\n"
      ]
    },
    {
      "cell_type": "code",
      "source": [
        "#https://pyvis.readthedocs.io/en/latest/tutorial.html\n",
        "# create a network model in pyviz\n",
        "nt = Network(height=\"600px\", width=\"100%\", directed=True, notebook=True, layout='force_atlas_2based', cdn_resources='remote')\n",
        "# populates the nodes and edges data structures\n",
        "nt.from_nx(MEN_Graph)\n",
        "nt.show_buttons(filter_=['physics'])\n",
        "nt.show('nx.html')\n",
        "from IPython.core.display import display, HTML\n",
        "display(HTML('nx.html'))"
      ],
      "metadata": {
        "id": "6x7T0rbQs1P_"
      },
      "execution_count": null,
      "outputs": []
    },
    {
      "cell_type": "markdown",
      "metadata": {
        "id": "CyfU6dVbLX-S"
      },
      "source": [
        "# 6.&nbsp;Analysis of Graphs\n",
        "\n",
        "Some key questions are answered in this section. Images used in this section can be accessed [here](https://drive.google.com/drive/folders/135fpvuqno7pHOgTLovqDG-mJw8o-CXW6?usp=drive_link)."
      ]
    },
    {
      "cell_type": "markdown",
      "source": [
        "## **[1] Mention Networks: Who are the Most Central Users?**\n",
        "\n",
        "In looking at your directed, valued network of mentions, what users are most central for each brand? Inspect at least the top 10 most central for each brand. Who are they? Why do you think they're so engaged with your brand on Twitter?\n",
        "\n",
        "From an advertising/marketing perspective, these are our loyal brand ambassadors. A good social media manager should know who these people are and give them preferential treatment, such as sending them swag, sending them early access to new products/content, and generally engaging with them on the platform to show reciprocity in the relationship.\n"
      ],
      "metadata": {
        "id": "0uCRGINwtDM7"
      }
    },
    {
      "cell_type": "markdown",
      "source": [
        "![picture](https://drive.google.com/uc?id=13BLksm_2IGi0FKJ6ucZ38Y7658jcVUfP)"
      ],
      "metadata": {
        "id": "oOa6B-BBMxgh"
      }
    },
    {
      "cell_type": "markdown",
      "source": [
        "After reviewing the mention network and using a sub-graph to better focus in on the unique users related to teach brand, I selected the following users as an example of central user to each brand.\n",
        "\n",
        "1. [Solefed](https://twitter.com/solefed) (Nike): This user focuses on sneakers, restocks, releases, and deals. He does a lot of tweeting about the nike brand and appears to be an influencer, on a moderate scale.\n",
        "2. [KatGraham](https://twitter.com/KatGraham) (Adidas): Kate Graham appears to be a celebrity that talks about the Adidas brand alot.\n",
        "3. [GolfDigest](https://twitter.com/GolfDigest) (Lululemon): Golf Digest is a magazine an is one the largest conversation leaders about Lululemon. They likely have a marketing agreement with the brand."
      ],
      "metadata": {
        "id": "qR42sfivMxol"
      }
    },
    {
      "cell_type": "markdown",
      "source": [
        "**Central Users to Nike**\n",
        "\n",
        "<img src='https://drive.google.com/uc?id=139p5zvvHEDcwOZaGbXHEpzAbJZTCN66D' width=\"auto\" height=\"600\">\n",
        "\n",
        "**Central Users to Adidas**\n",
        "\n",
        "<img src='https://drive.google.com/uc?id=135qEnloppB7gRdK471_E7vEFKHF5sAOw' width=\"auto\" height=\"600\">\n",
        "\n",
        "**Central Users to Lululemon**\n",
        "\n",
        "<img src='https://drive.google.com/uc?id=139kS3-15Tg5XXggZyYb9sucoU-K6GfHC' width=\"auto\" height=\"600\">"
      ],
      "metadata": {
        "id": "p_E4G45bnFhP"
      }
    },
    {
      "cell_type": "markdown",
      "metadata": {
        "id": "ZpYaDGfFLYJD"
      },
      "source": [
        "## **[2] Mention Networks: Who are the Most Important Bridgers?**\n",
        "\n",
        "Some users will mention multiple (or all three) brands. Who are those people? If bridge users (bridgers) exist, who are they? Why are they interested in this product so much? From an advertising/marketing perspective, these are people who are \"pro users\" of your category, and their hyper interest is something that you can use to engage with them, that is, they'll always be interested in your new product/services before others are.\n",
        "\n",
        "\n",
        "\n"
      ]
    },
    {
      "cell_type": "markdown",
      "source": [
        "![picture](https://drive.google.com/uc?id=13Bjjbjai2G_tuNEVqLtZO49oiSL9Xo3q)"
      ],
      "metadata": {
        "id": "yEvV2VS7M4OL"
      }
    },
    {
      "cell_type": "markdown",
      "source": [
        "While limited, I decided to focus on the 3 user accounts that bridge between all 3 brands have a significant amount of mentions. These brands are highlighted below.\n",
        "\n",
        "1. [Wwd](https://twitter.com/wwd): An account focused on fashion, beauty, and business. Their scope of conversation includes Nike, Adidas, and Lululemon. Given their 2.7M follwes, they can be considered a media outlet that is working to set trends.\n",
        "2. [Uniwatch](https://twitter.com/UniWatch): An influencer with 138.8K followers. They focusing on athletic asthetics, so they would be a good point of contact to engage on a regular basis.\n",
        "3. [deezefi](https://twitter.com/DeeZeFi): An influencer that appears to be from the definance space. It would be worth investigating why your brand is a topic of conversation related to blockchain and other defi topics."
      ],
      "metadata": {
        "id": "AHitaQ8tM4cK"
      }
    },
    {
      "cell_type": "markdown",
      "source": [
        "**Bridging to All Brands**\n",
        "\n",
        "<img src='https://drive.google.com/uc?id=13Q9a4Wdqh7aT679QMwinZRV8nJMN-ovU' width=\"auto\" height=\"600\">\n",
        "\n",
        "**Bridging Between Nike & Adidas**\n",
        "\n",
        "<img src='https://drive.google.com/uc?id=13QDgBJUAeJn8IdLGGbYe1A9E2PAe7mHr' width=\"auto\" height=\"600\">\n",
        "\n",
        "**Bridging Between Nike & Lululemon**\n",
        "\n",
        "<img src='https://drive.google.com/uc?id=13SODt329hK42Bzfu3HwjK5Wk-2Zg4YHX' width=\"auto\" height=\"600\">\n",
        "\n",
        "**Bridging Between Adidas & Lululemon**\n",
        "\n",
        "<img src='https://drive.google.com/uc?id=13U-MnOw1j6iapdhGHIUyS7mrOUofm-bE' width=\"auto\" height=\"600\">"
      ],
      "metadata": {
        "id": "ZtL1xh0hqzQX"
      }
    },
    {
      "cell_type": "markdown",
      "source": [
        "## **[3] Semantic Networks: What are Key Clusters of Activity?**\n",
        "\n",
        "Look at the word clusters. Interpret them. Identify the key clusters of activity. What's going on in each cluster?"
      ],
      "metadata": {
        "id": "s8e-qgFQs0sL"
      }
    },
    {
      "cell_type": "markdown",
      "source": [
        "![picture](https://drive.google.com/uc?id=13E70-AskbctaNo-29oUveQUlPkUpGA8h)"
      ],
      "metadata": {
        "id": "J_2LycpHPULQ"
      }
    },
    {
      "cell_type": "markdown",
      "source": [
        "While there are many cluster of actvity, I found the following five to be most interesting and having the tightest clustering.\n",
        "\n",
        "1. Jordan's and Lebron James Shoe Releases\n",
        "2. Xbox Promotion Where You Can Win Exclusive Gear\n",
        "3. Booking Airline Tickets to China\n",
        "4. Negative Sentiment About Forced Labor Practices\n",
        "5. Postive Sentiment and General Lust for Athletic Shoes"
      ],
      "metadata": {
        "id": "7KnsV824PURW"
      }
    },
    {
      "cell_type": "markdown",
      "source": [
        "## **[4] Semantic Networks: What Word Clusters Does Each Brand Own?**\n",
        "\n",
        "What attributes (words, or cluster of words) does each brand uniquely own? That is, what attributes are uniquely linked to each brand? From a marketing perspective, the most central nodes are the attributes that each brand most \"owns.\" These are implicit to the consumer, and therefore our strengths. Practically, this means that the brand doesn't need to do work advertising/marketing these perceptions, instead it should focus on reinforcing things that aren't as central, or missing from this semantic network completely."
      ],
      "metadata": {
        "id": "2NhJI7EKtTvb"
      }
    },
    {
      "cell_type": "markdown",
      "source": [
        "![picture](https://drive.google.com/uc?id=13DAxHMQ-DKMcHhKW3WFoN5uziYtO6PF_)"
      ],
      "metadata": {
        "id": "ypmJm2-jPcrw"
      }
    },
    {
      "cell_type": "markdown",
      "source": [
        "The Nike Brand had very strong clusters of words that they owned. These included:\n",
        "1. The Launch of New Lebron James Shoe that is Praised as Brilliant and Innovative\n",
        "2. Trademarked and Brand Specific Shoe and Clothing Technologies\n",
        "3. A Propotion to Win Baseball Trading Cards"
      ],
      "metadata": {
        "id": "nNjxqiYLPc08"
      }
    },
    {
      "cell_type": "markdown",
      "source": [
        "**Central Users to Nike**\n",
        "\n",
        "<img src='https://drive.google.com/uc?id=13i7j6P6jlKMOKv4Ui4U0ba8L6ob8kf9c' width=\"auto\" height=\"600\" border=\"solid 2px red\">\n",
        "\n",
        "**Central Users to Adidas**\n",
        "\n",
        "<img src='https://drive.google.com/uc?id=13hpMLQeul5vJKV92VD7IppXwLGyQhFRb' width=\"auto\" height=\"600\">\n",
        "\n",
        "**Central Users to Lululemon**\n",
        "\n",
        "<img src='https://drive.google.com/uc?id=13hVts3ROCd1NCNjS12fqI2pmVIRQlJjG' width=\"auto\" height=\"600\">"
      ],
      "metadata": {
        "id": "Kkmir5ZATVl5"
      }
    },
    {
      "cell_type": "markdown",
      "source": [
        "## **[5] Semantic Networks: What are the Most Important Bridging Words?**\n",
        "\n",
        "Brands will likely share some key attributes (words). If so, what are they? What commonalities do brands have with each other? These commonalities can be thought of as product differentiation things to avoid. That is, we'd never create advertising or marketing materials that reflect non-unique attributes about our products. Knowing that we share things with our competitors also can tell us how we better need to differentiate our products."
      ],
      "metadata": {
        "id": "j7P5Enhxtv54"
      }
    },
    {
      "cell_type": "markdown",
      "source": [
        "Across the 3 brands, the most common bridging words focused on:\n",
        "1. Positive sentiment words\n",
        "2. Temporal (time) related words\n",
        "3. Store and shopping words\n",
        "4. Customer service related words\n",
        "\n",
        "Overall, the shared words across the 3 brands were fairly generic.\n",
        "\n",
        "When looking at Nike and Adidas, they shared words related to shoes and types of sports. In general, Lululemon was talked about much less on Twitter and seemed have fewer commonalities with Adidas and Nike."
      ],
      "metadata": {
        "id": "y1gcPDAcSfKu"
      }
    },
    {
      "cell_type": "markdown",
      "source": [
        "**Bridging to All Brands**\n",
        "\n",
        "<img src='https://drive.google.com/uc?id=13qG6HLi7SL3Umai4puTYoFctFXwJBAEg' width=\"auto\" height=\"600\">\n",
        "\n",
        "**Bridging Between Nike & Adidas**\n",
        "\n",
        "<img src='https://drive.google.com/uc?id=13psQ6W9k96m6FSn48rMt1zX_jIuvzJal' width=\"auto\" height=\"600\">\n",
        "\n",
        "**Bridging Between Nike & Lululemon**\n",
        "\n",
        "<img src='https://drive.google.com/uc?id=13pon8wxphlg9-eE61waPCaLqZ9aDJjN7' width=\"auto\" height=\"600\">\n",
        "\n",
        "**Bridging Between Adidas & Lululemon**\n",
        "\n",
        "<img src='https://drive.google.com/uc?id=13oSpnXpmzZJ7AXfWMIH_FbJekTs9vXUu' width=\"auto\" height=\"600\">"
      ],
      "metadata": {
        "id": "aL1DIKdoUSmQ"
      }
    }
  ],
  "metadata": {
    "colab": {
      "machine_shape": "hm",
      "toc_visible": true,
      "provenance": [],
      "collapsed_sections": [
        "Qv1t50XHoFKe",
        "a1BMdG-sst3Z",
        "H_1s3y--JSQ6"
      ],
      "authorship_tag": "ABX9TyPGjte5touUbioEI4D4iH24",
      "include_colab_link": true
    },
    "kernelspec": {
      "display_name": "Python 3",
      "name": "python3"
    },
    "language_info": {
      "name": "python"
    }
  },
  "nbformat": 4,
  "nbformat_minor": 0
}
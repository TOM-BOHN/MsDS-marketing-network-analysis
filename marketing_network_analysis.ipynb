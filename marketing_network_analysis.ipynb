{
  "cells": [
    {
      "cell_type": "markdown",
      "metadata": {
        "id": "view-in-github",
        "colab_type": "text"
      },
      "source": [
        "<a href=\"https://colab.research.google.com/github/TOM-BOHN/MsDS-marketing-network-analysis/blob/main/marketing_network_analysis.ipynb\" target=\"_parent\"><img src=\"https://colab.research.google.com/assets/colab-badge.svg\" alt=\"Open In Colab\"/></a>"
      ]
    },
    {
      "cell_type": "markdown",
      "metadata": {
        "id": "vea2LnX4oFBA"
      },
      "source": [
        "# Marketing Network Analysis\n",
        "**Thomas Bohn**   --   **2023-10-11**\n",
        "\n",
        "A report focused on Network Analysis using [nltk](https://www.nltk.org/) to process text from twitter and [NetworkX](https://networkx.org/) to analyze the network. The network analysis will focus 2 types of networks, a user relationship network, and a semantic network. The user relationship network will focus on understanding users central to the brands and user influential in the product category, focusing on the analysis of twitter mention as a graph data structure. The semantic network anlysis will focus on better understanding the conversation around each brand, what makes the brand unique, and what makes each brand different.\n",
        "\n",
        "--  [Main Report](https://github.com/TOM-BOHN/MsDS-marketing-network-analysis/blob/main/marketing_network_analysis.ipynb)  --  [Github Repo](https://github.com/TOM-BOHN/MsDS-marketing-network-analysis)  --  [Presentation Slides](https://docs.google.com/presentation/d/19MQawtFQv2sK_VZn0lhSueZuIDgawSz26zmG6LZdNik/edit?usp=sharing)  --  [Presentation Video](https://drive.google.com/file/d/1lKyO63ezfLaTzwn4Df_4qph36Zh4RvOY/view?usp=sharing) --"
      ]
    },
    {
      "cell_type": "markdown",
      "metadata": {
        "id": "Qv1t50XHoFKe"
      },
      "source": [
        "# 1.&nbsp;Introduction"
      ]
    },
    {
      "cell_type": "markdown",
      "metadata": {
        "id": "a2lQwh4pszOe"
      },
      "source": [
        "**Context**\n",
        "Network Analysis is applicable to any dataset where the relationships between elements are importnant. One source of rich network (or graph) data is through Twitter or other social networks, where people post, share, and mentions other.In the case of network analysis, we can use tweets that are created and mention brands of interest to understand the conversation around a specific topic or category.\n",
        "\n",
        "**Background**\n",
        "This notebook focuses on an analysis of how consumers talk about three competing brands: **Nike**, **Adidas**, and **Lululemon**. This will take the form of network analysis and semantic network analysis, using a graph data representation of the dataset to look for trends and patterns.\n",
        "\n",
        "The goal is to understand the chatter around each brand better, what makes each brand unique, and what makes each brand different. Network analysis will also be used to identify users that are most central to the brand and users that are hyper interested in the product category of athletic wear.\n",
        "\n",
        "**Data Source**\n",
        "The dataset is sourced from the Twitter API, specifically the [Search Endpoint](https://developer.twitter.com/en/docs/twitter-api/v1/tweets/search/api-reference/get-search-tweets) to retrieve Tweets that mention the three brands of interest. The following describes the scope of the data:\n",
        "- Tweets were retrieved over the last 93 days\n",
        "- About ~150k tweets are included in the dataset\n",
        "- Tweets are “at Mentions” (@nike, @lululemon, @adidas)\n",
        "- Tweets were sent from the US and are in English\n",
        "\n",
        "The raw data sources for the project can be accessed with the following links:\n",
        "- [Tweet Data](http://128.138.93.164/nikelululemonadidas_tweets.jsonl.gz)\n",
        "\n",
        "**Overview of Observations**\n",
        "\n",
        "Twitter API data is utilized in this project. The structure of the [Tweet object model](https://developer.twitter.com/en/docs/twitter-api/v1/data-dictionary/object-model/tweet) can be as a data dictionary provided by Twitter as part of the Twitter Developer Platform.\n",
        "\n",
        "**Objective**\n",
        "The objective is to build a unsupervize network analysis to explore and analyze the dataset for 3 athletic wear brands: **Nike**, **Adidas**, and **Lululemon**. The analysis wil follow 3 worksteams:\n",
        "1. **Twitter Mentions Graph** - A valued, directed network graph of Twitter mentions. Will show Twitter users that are most centrally related to the brand (e.g., they regularly mention the brand). This graph will also illustrate who mentions who on Twitter, and in what way those mentions flow. One mention graph will be created with mentions for all three brands.\n",
        "2. **Semantic Network Graph** - A semantic network analysis graph of words used in Tweets. This graph will reveal what words are most commonly associated with each other, for each brand. One semantic graph will be created, with data for all three brands.\n",
        "3. **Using the Graph Data for Analysis:** Using the dataset and graphs, analyze specific questions related to the brands to help the brands understand the conversation and who is involved in the conversation.\n",
        "\n",
        "**Report Overview**\n",
        "The project will cover 5 key phases:\n",
        "1. Data Source: Extracting, filtering, and focusing the data on the Nike brand\n",
        "2. Preprocessing: Extracting Features from Tweets\n",
        "3. Mention Network: Analysis of @mentions in the Tweet corpus\n",
        "4. Semantic Network: Analysis of the words used in the Tweet corpus\n",
        "5. Graph with Pyvis: Analysis of graph data using pyvis\n",
        "6. Data Analysis and Exploration: Answer specific questions about the graph network datasets"
      ]
    },
    {
      "cell_type": "markdown",
      "metadata": {
        "id": "u5twBZEioFNU"
      },
      "source": [
        "## Import Python Libraries\n",
        "\n",
        "The following python libraries are used in this notebook."
      ]
    },
    {
      "cell_type": "code",
      "execution_count": null,
      "metadata": {
        "colab": {
          "base_uri": "https://localhost:8080/"
        },
        "id": "s9VoR3Frq144",
        "outputId": "d56b398b-d76f-4def-90f8-c8a58dce3e27"
      },
      "outputs": [
        {
          "output_type": "stream",
          "name": "stdout",
          "text": [
            "[-] Importing packages...\n"
          ]
        }
      ],
      "source": [
        "print('[-] Importing packages...')\n",
        "# File Connection and File Manipulation\n",
        "import os\n",
        "import pickle\n",
        "import gzip\n",
        "import json\n",
        "# Basic Data Science Toolkits\n",
        "import pandas as pd\n",
        "import numpy as np\n",
        "import math\n",
        "import random\n",
        "import time\n",
        "import re\n",
        "import itertools\n",
        "import datetime\n",
        "# Basic Data Vizualization\n",
        "import seaborn as sns\n",
        "import matplotlib.pyplot as plt\n",
        "import networkx as nx\n",
        "# Text Preprocessing(other)\n",
        "import string\n",
        "import nltk"
      ]
    },
    {
      "cell_type": "code",
      "source": [
        "print('[-] Importing packages...')\n",
        "try:\n",
        "  import pyvis\n",
        "  from pyvis.network import Network\n",
        "except:\n",
        "  !pip install pyvis\n",
        "  import pyvis\n",
        "  from pyvis.network import Network"
      ],
      "metadata": {
        "colab": {
          "base_uri": "https://localhost:8080/"
        },
        "id": "3PvI6p6cvPIq",
        "outputId": "a61bbe4d-90e9-448d-bf45-87072403fea4"
      },
      "execution_count": null,
      "outputs": [
        {
          "output_type": "stream",
          "name": "stdout",
          "text": [
            "[-] Importing packages...\n"
          ]
        }
      ]
    },
    {
      "cell_type": "markdown",
      "metadata": {
        "id": "F64I9WoBrmRB"
      },
      "source": [
        "Using the `punkt`, `stopwords` and `wordnet` datasets from nltk in our analysis. Downloaded here for use in our notebook."
      ]
    },
    {
      "cell_type": "code",
      "execution_count": null,
      "metadata": {
        "colab": {
          "base_uri": "https://localhost:8080/"
        },
        "id": "8B8x-0C1rmZF",
        "outputId": "ff4bb388-ce62-4fff-89fe-3854efb0ef9e"
      },
      "outputs": [
        {
          "output_type": "stream",
          "name": "stderr",
          "text": [
            "[nltk_data] Downloading package punkt to /root/nltk_data...\n",
            "[nltk_data]   Package punkt is already up-to-date!\n",
            "[nltk_data] Downloading package stopwords to /root/nltk_data...\n",
            "[nltk_data]   Package stopwords is already up-to-date!\n",
            "[nltk_data] Downloading package wordnet to /root/nltk_data...\n",
            "[nltk_data]   Package wordnet is already up-to-date!\n",
            "[nltk_data] Downloading package averaged_perceptron_tagger to\n",
            "[nltk_data]     /root/nltk_data...\n",
            "[nltk_data]   Package averaged_perceptron_tagger is already up-to-\n",
            "[nltk_data]       date!\n"
          ]
        },
        {
          "output_type": "execute_result",
          "data": {
            "text/plain": [
              "True"
            ]
          },
          "metadata": {},
          "execution_count": 3
        }
      ],
      "source": [
        "#Download required corpus based data to nltk package\n",
        "nltk.download(\"punkt\")\n",
        "nltk.download(\"stopwords\")\n",
        "nltk.download(\"wordnet\")\n",
        "nltk.download(\"averaged_perceptron_tagger\")"
      ]
    },
    {
      "cell_type": "markdown",
      "metadata": {
        "id": "VSOI9ZX_oFQe"
      },
      "source": [
        "## Set Global Variables"
      ]
    },
    {
      "cell_type": "code",
      "execution_count": null,
      "metadata": {
        "id": "AAnzeFftq1iU"
      },
      "outputs": [],
      "source": [
        "gDEBUG = True"
      ]
    },
    {
      "cell_type": "markdown",
      "metadata": {
        "id": "1BYH3I3DoFTN"
      },
      "source": [
        "## Verify GPU Runtime"
      ]
    },
    {
      "cell_type": "code",
      "execution_count": null,
      "metadata": {
        "colab": {
          "base_uri": "https://localhost:8080/"
        },
        "id": "Gj7g2YkGqetW",
        "outputId": "f0a0e63e-51e9-4d8d-aeac-da3e033a8568"
      },
      "outputs": [
        {
          "output_type": "stream",
          "name": "stdout",
          "text": [
            "/bin/bash: line 1: nvidia-smi: command not found\n"
          ]
        }
      ],
      "source": [
        "#see the GPU assigned\n",
        "gpu_info = !nvidia-smi\n",
        "gpu_info = '\\n'.join(gpu_info)\n",
        "if gpu_info.find('failed') >= 0:\n",
        "  print('Not connected to a GPU')\n",
        "else:\n",
        "  print(gpu_info)"
      ]
    },
    {
      "cell_type": "code",
      "execution_count": null,
      "metadata": {
        "colab": {
          "base_uri": "https://localhost:8080/"
        },
        "id": "uk9sN070qe0i",
        "outputId": "55015cd2-10b1-49a8-cd7b-cd05a4aba735"
      },
      "outputs": [
        {
          "output_type": "stream",
          "name": "stdout",
          "text": [
            "  [.] Your runtime has 54.8 gigabytes of available RAM\n",
            "  [.] You are using a high-RAM runtime!\n"
          ]
        }
      ],
      "source": [
        "#See the virtual memory assigned\n",
        "from psutil import virtual_memory\n",
        "ram_gb = virtual_memory().total / 1e9\n",
        "print('  [.] Your runtime has {:.1f} gigabytes of available RAM'.format(ram_gb))\n",
        "\n",
        "if ram_gb < 20:\n",
        "  print('  [.] Not using a high-RAM runtime')\n",
        "else:\n",
        "  print('  [.] You are using a high-RAM runtime!')"
      ]
    },
    {
      "cell_type": "markdown",
      "metadata": {
        "id": "EoXy4dDOqhzE"
      },
      "source": [
        "## Mount Google Drive"
      ]
    },
    {
      "cell_type": "code",
      "execution_count": null,
      "metadata": {
        "colab": {
          "base_uri": "https://localhost:8080/"
        },
        "id": "P6a82wN0qh6_",
        "outputId": "9b2ad5bf-54e7-4d5a-b609-42ff7b8ca86f"
      },
      "outputs": [
        {
          "output_type": "stream",
          "name": "stdout",
          "text": [
            "Drive already mounted at /content/drive; to attempt to forcibly remount, call drive.mount(\"/content/drive\", force_remount=True).\n"
          ]
        }
      ],
      "source": [
        "## Mount Google Drive\n",
        "from google.colab import drive\n",
        "drive.mount('/content/drive')"
      ]
    },
    {
      "cell_type": "markdown",
      "metadata": {
        "id": "e6rPLY7Iqmfn"
      },
      "source": [
        "## Setup Directories"
      ]
    },
    {
      "cell_type": "code",
      "execution_count": null,
      "metadata": {
        "id": "pdvmS9gXqm6D"
      },
      "outputs": [],
      "source": [
        "#Setup Directories\n",
        "ROOT_DIR = \"/content/drive/MyDrive/MSDS_marketing_text_analytics/master_files/3_network_analysis\"\n",
        "DATA_DIR = \"%s/data\" % ROOT_DIR\n",
        "EVAL_DIR = \"%s/evaluation\" % ROOT_DIR\n",
        "MODEL_DIR = \"%s/models\" % ROOT_DIR\n",
        "\n",
        "#Create missing directories, if they don't exist\n",
        "if not os.path.exists(DATA_DIR):\n",
        "  # Create a new directory because it does not exist\n",
        "  os.makedirs(DATA_DIR)\n",
        "  print(\"The data directory is created!\")\n",
        "if not os.path.exists(EVAL_DIR):\n",
        "  # Create a new directory because it does not exist\n",
        "  os.makedirs(EVAL_DIR)\n",
        "  print(\"The evaluation directory is created!\")\n",
        "if not os.path.exists(MODEL_DIR):\n",
        "  # Create a new directory because it does not exist\n",
        "  os.makedirs(MODEL_DIR)\n",
        "  print(\"The model directory is created!\")"
      ]
    },
    {
      "cell_type": "markdown",
      "metadata": {
        "id": "a1BMdG-sst3Z"
      },
      "source": [
        "# 2.&nbsp;Data Source\n",
        "\n",
        "Import and process the Twitter data."
      ]
    },
    {
      "cell_type": "markdown",
      "metadata": {
        "id": "H_1s3y--JSQ6"
      },
      "source": [
        "## Copy Data From Source"
      ]
    },
    {
      "cell_type": "code",
      "execution_count": null,
      "metadata": {
        "colab": {
          "base_uri": "https://localhost:8080/"
        },
        "id": "cAGcm2gxJRQ4",
        "outputId": "9bd0972d-c372-4fe5-dbae-025aef285945"
      },
      "outputs": [
        {
          "output_type": "stream",
          "name": "stdout",
          "text": [
            "--2023-10-10 18:30:53--  https://docs.google.com/uc?export=download&id=12sq73UTafhP6M8iUuP62yr4uRthFEp_-&confirm=t\n",
            "Resolving docs.google.com (docs.google.com)... 142.251.167.100, 142.251.167.101, 142.251.167.138, ...\n",
            "Connecting to docs.google.com (docs.google.com)|142.251.167.100|:443... connected.\n",
            "HTTP request sent, awaiting response... 303 See Other\n",
            "Location: https://doc-0o-58-docs.googleusercontent.com/docs/securesc/ha0ro937gcuc7l7deffksulhg5h7mbp1/q1tu7o7u37oa0sgvgkhf3mb823n146cm/1696962600000/15741694635513001712/*/12sq73UTafhP6M8iUuP62yr4uRthFEp_-?e=download&uuid=4813233d-a485-4496-a70d-399fb5f3e828 [following]\n",
            "Warning: wildcards not supported in HTTP.\n",
            "--2023-10-10 18:30:53--  https://doc-0o-58-docs.googleusercontent.com/docs/securesc/ha0ro937gcuc7l7deffksulhg5h7mbp1/q1tu7o7u37oa0sgvgkhf3mb823n146cm/1696962600000/15741694635513001712/*/12sq73UTafhP6M8iUuP62yr4uRthFEp_-?e=download&uuid=4813233d-a485-4496-a70d-399fb5f3e828\n",
            "Resolving doc-0o-58-docs.googleusercontent.com (doc-0o-58-docs.googleusercontent.com)... 172.253.63.132, 2607:f8b0:4004:c08::84\n",
            "Connecting to doc-0o-58-docs.googleusercontent.com (doc-0o-58-docs.googleusercontent.com)|172.253.63.132|:443... connected.\n",
            "HTTP request sent, awaiting response... 200 OK\n",
            "Length: 101247175 (97M) [application/x-gzip]\n",
            "Saving to: ‘/content/drive/MyDrive/MSDS_marketing_text_analytics/master_files/3_network_analysis/data/nikelululemonadidas_tweets.jsonl.gz’\n",
            "\n",
            "/content/drive/MyDr 100%[===================>]  96.56M  58.2MB/s    in 1.7s    \n",
            "\n",
            "2023-10-10 18:30:55 (58.2 MB/s) - ‘/content/drive/MyDrive/MSDS_marketing_text_analytics/master_files/3_network_analysis/data/nikelululemonadidas_tweets.jsonl.gz’ saved [101247175/101247175]\n",
            "\n"
          ]
        }
      ],
      "source": [
        "#Copy Data From Source\n",
        "#!wget <URL> -P <COLAB PATH>\n",
        "#source_url = 'http://128.138.93.164/nikelululemonadidas_tweets.jsonl.gz' # true source, need better link\n",
        "source_url = 'https://docs.google.com/uc?export=download&id=12sq73UTafhP6M8iUuP62yr4uRthFEp_-&confirm=t' # local source, working for testing\n",
        "dest_path = '%s/nikelululemonadidas_tweets.jsonl.gz' % DATA_DIR\n",
        "!wget \"$source_url\" -O \"$dest_path\""
      ]
    },
    {
      "cell_type": "code",
      "execution_count": null,
      "metadata": {
        "id": "RH_M-2d5KQmb"
      },
      "outputs": [],
      "source": [
        "#tweet_file_path = '%s/nikelululemonadidas_tweets.jsonl.gz' % DATA_DIR\n",
        "#!gzip -d \"$tweet_file_path\""
      ]
    },
    {
      "cell_type": "markdown",
      "metadata": {
        "id": "berzG_GDKyGt"
      },
      "source": [
        "## Inspect Some of the Data"
      ]
    },
    {
      "cell_type": "code",
      "execution_count": null,
      "metadata": {
        "colab": {
          "base_uri": "https://localhost:8080/"
        },
        "id": "oJ2AtGYZKvjX",
        "outputId": "00687191-9a9a-467c-dcd1-ef7e6e819dfd"
      },
      "outputs": [
        {
          "output_type": "stream",
          "name": "stdout",
          "text": [
            "tweet 0 : #ad The Nike Women's Air More Uptempo 96 'White/Opti Yellow' is now available via @footlocker! |$160| #SneakerScouts @Nike https://t.co/5lAq7b2ffU https://t.co/wmjxIcsheP \n",
            "\n",
            "tweet 2 : Proof @LaserShip is stealing. I work from home and have a ring doorbell. @wsoctv @Nike @wcnc @wbtv @bbb_us https://t.co/9o3stezjgs \n",
            "\n",
            "tweet 3 : RT @pyleaks: *LEAK ALERT*: The next Supreme x @Nike collab for Spring 2022 will feature the Nike Shox Ride 2.\n",
            "The duo will be dropping 3 co… \n",
            "\n",
            "tweet 4 : RT @SneakerScouts: #ad The Space Jam x Nike LeBron 18 Low 'Sylvester vs. Tweety' is now available via @snipes_usa! |$160| #SneakerScouts @K… \n",
            "\n"
          ]
        }
      ],
      "source": [
        "LIMIT = 5\n",
        "tweet_file_path = '%s/nikelululemonadidas_tweets.jsonl' % DATA_DIR\n",
        "\n",
        "# Inspect LIMIT number of Tweets that mention Nike\n",
        "with open(tweet_file_path) as data_file:\n",
        "    for i, line in enumerate(data_file):\n",
        "        if i >= LIMIT:\n",
        "            break\n",
        "        tweet = json.loads(line)\n",
        "        text = tweet.get(\"full_text\") or tweet.get(\"text\")\n",
        "        if \"nike\" in text.lower():\n",
        "            print('tweet', i,':', text, '\\n')"
      ]
    },
    {
      "cell_type": "code",
      "execution_count": null,
      "metadata": {
        "colab": {
          "base_uri": "https://localhost:8080/"
        },
        "id": "ILNHCwPpDarX",
        "outputId": "96540135-8c58-4bee-bb79-296010fed3cd"
      },
      "outputs": [
        {
          "output_type": "execute_result",
          "data": {
            "text/plain": [
              "{'created_at': 'Fri Oct 01 06:22:08 +0000 2021',\n",
              " 'id': 1443823529296867300,\n",
              " 'id_str': '1443823529296867350',\n",
              " 'full_text': \"RT @SneakerScouts: #ad The Space Jam x Nike LeBron 18 Low 'Sylvester vs. Tweety' is now available via @snipes_usa! |$160| #SneakerScouts @K…\",\n",
              " 'truncated': False,\n",
              " 'display_text_range': [0, 140],\n",
              " 'entities': {'hashtags': [{'text': 'ad', 'indices': [19, 22]},\n",
              "   {'text': 'SneakerScouts', 'indices': [122, 136]}],\n",
              "  'symbols': [],\n",
              "  'user_mentions': [{'screen_name': 'SneakerScouts',\n",
              "    'name': '#SneakerScouts',\n",
              "    'id': 792182745942233100,\n",
              "    'id_str': '792182745942233089',\n",
              "    'indices': [3, 17]},\n",
              "   {'screen_name': 'snipes_usa',\n",
              "    'name': 'SNIPES_USA',\n",
              "    'id': 83606701,\n",
              "    'id_str': '83606701',\n",
              "    'indices': [102, 113]}],\n",
              "  'urls': []},\n",
              " 'source': '<a href=\"https://mobile.twitter.com\" rel=\"nofollow\">Twitter Web App</a>',\n",
              " 'in_reply_to_status_id': None,\n",
              " 'in_reply_to_status_id_str': None,\n",
              " 'in_reply_to_user_id': None,\n",
              " 'in_reply_to_user_id_str': None,\n",
              " 'in_reply_to_screen_name': None,\n",
              " 'user': {'id': 792182745942233100,\n",
              "  'id_str': '792182745942233089',\n",
              "  'name': '#SneakerScouts',\n",
              "  'screen_name': 'SneakerScouts',\n",
              "  'location': '',\n",
              "  'description': 'The #1 source for sneaker news, release dates, sales, and general information! info@SneakerScouts.com  #SneakerScouts',\n",
              "  'url': 'https://t.co/YBERhCCwh7',\n",
              "  'entities': {'url': {'urls': [{'url': 'https://t.co/YBERhCCwh7',\n",
              "      'expanded_url': 'http://www.SneakerScouts.com',\n",
              "      'display_url': 'SneakerScouts.com',\n",
              "      'indices': [0, 23]}]},\n",
              "   'description': {'urls': []}},\n",
              "  'protected': False,\n",
              "  'followers_count': 18262,\n",
              "  'friends_count': 6397,\n",
              "  'listed_count': 82,\n",
              "  'created_at': 'Sat Oct 29 01:54:19 +0000 2016',\n",
              "  'favourites_count': 169294,\n",
              "  'utc_offset': None,\n",
              "  'time_zone': None,\n",
              "  'geo_enabled': False,\n",
              "  'verified': False,\n",
              "  'statuses_count': 301804,\n",
              "  'lang': None,\n",
              "  'contributors_enabled': False,\n",
              "  'is_translator': False,\n",
              "  'is_translation_enabled': False,\n",
              "  'profile_background_color': '000000',\n",
              "  'profile_background_image_url': 'http://abs.twimg.com/images/themes/theme1/bg.png',\n",
              "  'profile_background_image_url_https': 'https://abs.twimg.com/images/themes/theme1/bg.png',\n",
              "  'profile_background_tile': False,\n",
              "  'profile_image_url': 'http://pbs.twimg.com/profile_images/971422898886868992/K3R78VcP_normal.jpg',\n",
              "  'profile_image_url_https': 'https://pbs.twimg.com/profile_images/971422898886868992/K3R78VcP_normal.jpg',\n",
              "  'profile_banner_url': 'https://pbs.twimg.com/profile_banners/792182745942233089/1540175194',\n",
              "  'profile_link_color': '000000',\n",
              "  'profile_sidebar_border_color': '000000',\n",
              "  'profile_sidebar_fill_color': '000000',\n",
              "  'profile_text_color': '000000',\n",
              "  'profile_use_background_image': False,\n",
              "  'has_extended_profile': False,\n",
              "  'default_profile': False,\n",
              "  'default_profile_image': False,\n",
              "  'following': False,\n",
              "  'follow_request_sent': False,\n",
              "  'notifications': False,\n",
              "  'translator_type': 'none',\n",
              "  'withheld_in_countries': []},\n",
              " 'geo': None,\n",
              " 'coordinates': None,\n",
              " 'place': None,\n",
              " 'contributors': None,\n",
              " 'retweeted_status': {'created_at': 'Thu Sep 30 16:10:08 +0000 2021',\n",
              "  'id': 1443609113901080600,\n",
              "  'id_str': '1443609113901080576',\n",
              "  'full_text': \"#ad The Space Jam x Nike LeBron 18 Low 'Sylvester vs. Tweety' is now available via @snipes_usa! |$160| #SneakerScouts @KingJames @Nike https://t.co/JmXLCWSQB0 https://t.co/qt9BezGxQA\",\n",
              "  'truncated': False,\n",
              "  'display_text_range': [0, 158],\n",
              "  'entities': {'hashtags': [{'text': 'ad', 'indices': [0, 3]},\n",
              "    {'text': 'SneakerScouts', 'indices': [103, 117]}],\n",
              "   'symbols': [],\n",
              "   'user_mentions': [{'screen_name': 'snipes_usa',\n",
              "     'name': 'SNIPES_USA',\n",
              "     'id': 83606701,\n",
              "     'id_str': '83606701',\n",
              "     'indices': [83, 94]},\n",
              "    {'screen_name': 'KingJames',\n",
              "     'name': 'LeBron James',\n",
              "     'id': 23083404,\n",
              "     'id_str': '23083404',\n",
              "     'indices': [118, 128]},\n",
              "    {'screen_name': 'Nike',\n",
              "     'name': 'Nike',\n",
              "     'id': 415859364,\n",
              "     'id_str': '415859364',\n",
              "     'indices': [129, 134]}],\n",
              "   'urls': [{'url': 'https://t.co/JmXLCWSQB0',\n",
              "     'expanded_url': 'https://www.snipesusa.com/lebron-18-low--sylvester-vs-tweety--nike-usa-multi-cv7562-103-1000093902.html?ranMID=39800&ranEAID=zAJE4hSbGa4&ranSiteID=zAJE4hSbGa4-7XC2P.2wCMbckrmfYXeCMQ&utm_source=linkshare&utm_medium=affiliate&utm_campaign=zAJE4hSbGa4&utm_term=10&utm_content=1&siteID=zAJE4hSbGa4-7XC2P.2wCMbckrmfYXeCMQ&utm_campaign=%23SneakerScouts',\n",
              "     'display_url': 'snipesusa.com/lebron-18-low-…',\n",
              "     'indices': [135, 158]}],\n",
              "   'media': [{'id': 1443609112017784800,\n",
              "     'id_str': '1443609112017784836',\n",
              "     'indices': [159, 182],\n",
              "     'media_url': 'http://pbs.twimg.com/media/FAi61rxWUAQ_mE6.png',\n",
              "     'media_url_https': 'https://pbs.twimg.com/media/FAi61rxWUAQ_mE6.png',\n",
              "     'url': 'https://t.co/qt9BezGxQA',\n",
              "     'display_url': 'pic.twitter.com/qt9BezGxQA',\n",
              "     'expanded_url': 'https://twitter.com/SneakerScouts/status/1443609113901080576/photo/1',\n",
              "     'type': 'photo',\n",
              "     'sizes': {'small': {'w': 604, 'h': 680, 'resize': 'fit'},\n",
              "      'large': {'w': 640, 'h': 720, 'resize': 'fit'},\n",
              "      'medium': {'w': 640, 'h': 720, 'resize': 'fit'},\n",
              "      'thumb': {'w': 150, 'h': 150, 'resize': 'crop'}}}]},\n",
              "  'extended_entities': {'media': [{'id': 1443609112017784800,\n",
              "     'id_str': '1443609112017784836',\n",
              "     'indices': [159, 182],\n",
              "     'media_url': 'http://pbs.twimg.com/media/FAi61rxWUAQ_mE6.png',\n",
              "     'media_url_https': 'https://pbs.twimg.com/media/FAi61rxWUAQ_mE6.png',\n",
              "     'url': 'https://t.co/qt9BezGxQA',\n",
              "     'display_url': 'pic.twitter.com/qt9BezGxQA',\n",
              "     'expanded_url': 'https://twitter.com/SneakerScouts/status/1443609113901080576/photo/1',\n",
              "     'type': 'photo',\n",
              "     'sizes': {'small': {'w': 604, 'h': 680, 'resize': 'fit'},\n",
              "      'large': {'w': 640, 'h': 720, 'resize': 'fit'},\n",
              "      'medium': {'w': 640, 'h': 720, 'resize': 'fit'},\n",
              "      'thumb': {'w': 150, 'h': 150, 'resize': 'crop'}}},\n",
              "    {'id': 1443609112055632000,\n",
              "     'id_str': '1443609112055631874',\n",
              "     'indices': [159, 182],\n",
              "     'media_url': 'http://pbs.twimg.com/media/FAi61r6X0AIFRSV.png',\n",
              "     'media_url_https': 'https://pbs.twimg.com/media/FAi61r6X0AIFRSV.png',\n",
              "     'url': 'https://t.co/qt9BezGxQA',\n",
              "     'display_url': 'pic.twitter.com/qt9BezGxQA',\n",
              "     'expanded_url': 'https://twitter.com/SneakerScouts/status/1443609113901080576/photo/1',\n",
              "     'type': 'photo',\n",
              "     'sizes': {'medium': {'w': 640, 'h': 720, 'resize': 'fit'},\n",
              "      'thumb': {'w': 150, 'h': 150, 'resize': 'crop'},\n",
              "      'small': {'w': 604, 'h': 680, 'resize': 'fit'},\n",
              "      'large': {'w': 640, 'h': 720, 'resize': 'fit'}}},\n",
              "    {'id': 1443609112084992000,\n",
              "     'id_str': '1443609112084992009',\n",
              "     'indices': [159, 182],\n",
              "     'media_url': 'http://pbs.twimg.com/media/FAi61sBX0Aksqg1.png',\n",
              "     'media_url_https': 'https://pbs.twimg.com/media/FAi61sBX0Aksqg1.png',\n",
              "     'url': 'https://t.co/qt9BezGxQA',\n",
              "     'display_url': 'pic.twitter.com/qt9BezGxQA',\n",
              "     'expanded_url': 'https://twitter.com/SneakerScouts/status/1443609113901080576/photo/1',\n",
              "     'type': 'photo',\n",
              "     'sizes': {'medium': {'w': 640, 'h': 720, 'resize': 'fit'},\n",
              "      'small': {'w': 604, 'h': 680, 'resize': 'fit'},\n",
              "      'thumb': {'w': 150, 'h': 150, 'resize': 'crop'},\n",
              "      'large': {'w': 640, 'h': 720, 'resize': 'fit'}}},\n",
              "    {'id': 1443609111485206500,\n",
              "     'id_str': '1443609111485206535',\n",
              "     'indices': [159, 182],\n",
              "     'media_url': 'http://pbs.twimg.com/media/FAi61pyX0AcihlU.png',\n",
              "     'media_url_https': 'https://pbs.twimg.com/media/FAi61pyX0AcihlU.png',\n",
              "     'url': 'https://t.co/qt9BezGxQA',\n",
              "     'display_url': 'pic.twitter.com/qt9BezGxQA',\n",
              "     'expanded_url': 'https://twitter.com/SneakerScouts/status/1443609113901080576/photo/1',\n",
              "     'type': 'photo',\n",
              "     'sizes': {'small': {'w': 604, 'h': 680, 'resize': 'fit'},\n",
              "      'large': {'w': 640, 'h': 720, 'resize': 'fit'},\n",
              "      'medium': {'w': 640, 'h': 720, 'resize': 'fit'},\n",
              "      'thumb': {'w': 150, 'h': 150, 'resize': 'crop'}}}]},\n",
              "  'source': '<a href=\"https://www.hootsuite.com\" rel=\"nofollow\">Hootsuite Inc.</a>',\n",
              "  'in_reply_to_status_id': None,\n",
              "  'in_reply_to_status_id_str': None,\n",
              "  'in_reply_to_user_id': None,\n",
              "  'in_reply_to_user_id_str': None,\n",
              "  'in_reply_to_screen_name': None,\n",
              "  'user': {'id': 792182745942233100,\n",
              "   'id_str': '792182745942233089',\n",
              "   'name': '#SneakerScouts',\n",
              "   'screen_name': 'SneakerScouts',\n",
              "   'location': '',\n",
              "   'description': 'The #1 source for sneaker news, release dates, sales, and general information! info@SneakerScouts.com  #SneakerScouts',\n",
              "   'url': 'https://t.co/YBERhCCwh7',\n",
              "   'entities': {'url': {'urls': [{'url': 'https://t.co/YBERhCCwh7',\n",
              "       'expanded_url': 'http://www.SneakerScouts.com',\n",
              "       'display_url': 'SneakerScouts.com',\n",
              "       'indices': [0, 23]}]},\n",
              "    'description': {'urls': []}},\n",
              "   'protected': False,\n",
              "   'followers_count': 18262,\n",
              "   'friends_count': 6397,\n",
              "   'listed_count': 82,\n",
              "   'created_at': 'Sat Oct 29 01:54:19 +0000 2016',\n",
              "   'favourites_count': 169294,\n",
              "   'utc_offset': None,\n",
              "   'time_zone': None,\n",
              "   'geo_enabled': False,\n",
              "   'verified': False,\n",
              "   'statuses_count': 301804,\n",
              "   'lang': None,\n",
              "   'contributors_enabled': False,\n",
              "   'is_translator': False,\n",
              "   'is_translation_enabled': False,\n",
              "   'profile_background_color': '000000',\n",
              "   'profile_background_image_url': 'http://abs.twimg.com/images/themes/theme1/bg.png',\n",
              "   'profile_background_image_url_https': 'https://abs.twimg.com/images/themes/theme1/bg.png',\n",
              "   'profile_background_tile': False,\n",
              "   'profile_image_url': 'http://pbs.twimg.com/profile_images/971422898886868992/K3R78VcP_normal.jpg',\n",
              "   'profile_image_url_https': 'https://pbs.twimg.com/profile_images/971422898886868992/K3R78VcP_normal.jpg',\n",
              "   'profile_banner_url': 'https://pbs.twimg.com/profile_banners/792182745942233089/1540175194',\n",
              "   'profile_link_color': '000000',\n",
              "   'profile_sidebar_border_color': '000000',\n",
              "   'profile_sidebar_fill_color': '000000',\n",
              "   'profile_text_color': '000000',\n",
              "   'profile_use_background_image': False,\n",
              "   'has_extended_profile': False,\n",
              "   'default_profile': False,\n",
              "   'default_profile_image': False,\n",
              "   'following': False,\n",
              "   'follow_request_sent': False,\n",
              "   'notifications': False,\n",
              "   'translator_type': 'none',\n",
              "   'withheld_in_countries': []},\n",
              "  'geo': None,\n",
              "  'coordinates': None,\n",
              "  'place': None,\n",
              "  'contributors': None,\n",
              "  'is_quote_status': False,\n",
              "  'retweet_count': 3,\n",
              "  'favorite_count': 6,\n",
              "  'favorited': False,\n",
              "  'retweeted': False,\n",
              "  'possibly_sensitive': False,\n",
              "  'lang': 'en'},\n",
              " 'is_quote_status': False,\n",
              " 'retweet_count': 3,\n",
              " 'favorite_count': 0,\n",
              " 'favorited': False,\n",
              " 'retweeted': False,\n",
              " 'lang': 'en'}"
            ]
          },
          "metadata": {},
          "execution_count": 12
        }
      ],
      "source": [
        "tweet"
      ]
    },
    {
      "cell_type": "markdown",
      "metadata": {
        "id": "rSBUxu13LPxg"
      },
      "source": [
        "# 3.&nbsp;Create a Mention Network"
      ]
    },
    {
      "cell_type": "markdown",
      "metadata": {
        "id": "4iW3uLzwLB9x"
      },
      "source": [
        "## Load the Corpus of Tweets"
      ]
    },
    {
      "cell_type": "code",
      "execution_count": null,
      "metadata": {
        "id": "zhc_i0hiKcF8"
      },
      "outputs": [],
      "source": [
        "## Load the Product Data\n",
        "##this assigns the filename we're trying to load in to a string variable\n",
        "tweet_file_path = '%s/nikelululemonadidas_tweets.jsonl' % DATA_DIR\n",
        "json_file = open(tweet_file_path, 'r')"
      ]
    },
    {
      "cell_type": "markdown",
      "metadata": {
        "id": "NPvRy3vCLsuf"
      },
      "source": [
        "## Create a List of Unique Users"
      ]
    },
    {
      "cell_type": "code",
      "execution_count": null,
      "metadata": {
        "colab": {
          "base_uri": "https://localhost:8080/"
        },
        "id": "Z-GSlB0_LFUj",
        "outputId": "76712625-1418-4014-e001-221e7e5f3bb5"
      },
      "outputs": [
        {
          "output_type": "stream",
          "name": "stdout",
          "text": [
            "0 tweets iterated\n",
            "10000 tweets iterated\n",
            "20000 tweets iterated\n",
            "30000 tweets iterated\n",
            "40000 tweets iterated\n",
            "50000 tweets iterated\n",
            "60000 tweets iterated\n",
            "70000 tweets iterated\n",
            "80000 tweets iterated\n",
            "90000 tweets iterated\n",
            "100000 tweets iterated\n",
            "110000 tweets iterated\n",
            "120000 tweets iterated\n",
            "130000 tweets iterated\n",
            "140000 tweets iterated\n",
            "150000 tweets iterated\n",
            "160000 tweets iterated\n",
            "170000 tweets iterated\n",
            "175077 total Tweets processed\n"
          ]
        }
      ],
      "source": [
        "# Identify unique users in the mention network\n",
        "unique_users = {}\n",
        "\n",
        "#iterate through each row in the twitter corpus and extract twitter users\n",
        "for i, atweet in enumerate(json_file):\n",
        "    if i % 10000 == 0: # Show a periodic status\n",
        "      print(\"%s tweets iterated\" % i)\n",
        "    tweet_json = json.loads(atweet)\n",
        "    user_who_tweeted = tweet_json['user']['screen_name']\n",
        "    id_who_tweeted = tweet_json['user']['id']\n",
        "    follower_count = tweet_json['user']['followers_count']\n",
        "    if id_who_tweeted in unique_users:\n",
        "      unique_users[id_who_tweeted]['tweet_count'] += 1\n",
        "      if unique_users[id_who_tweeted]['followers_count'] == 0:\n",
        "        unique_users[id_who_tweeted]['followers_count'] = follower_count\n",
        "    if id_who_tweeted not in unique_users:\n",
        "      unique_users[id_who_tweeted] = {}\n",
        "      unique_users[id_who_tweeted]['tweet_count'] = 1\n",
        "      unique_users[id_who_tweeted]['mention_count'] = 0\n",
        "      unique_users[id_who_tweeted]['id'] = id_who_tweeted\n",
        "      unique_users[id_who_tweeted]['followers_count'] = follower_count\n",
        "      unique_users[id_who_tweeted]['screen_name'] = user_who_tweeted.lower()\n",
        "    #add in the mentioned users as well\n",
        "    users_mentioned = tweet_json['entities']['user_mentions']\n",
        "    #if the tweet netions other users in the tweet\n",
        "    if len(users_mentioned) > 0:\n",
        "      # iterate through each mention in the tweet\n",
        "      for user_mentioned in users_mentioned:\n",
        "        #extract details about user\n",
        "        screen_name_mentioned = user_mentioned['screen_name']\n",
        "        id_mentioned = user_mentioned['id']\n",
        "        #if in the list, increase the mention count\n",
        "        if id_mentioned in unique_users:\n",
        "          unique_users[id_mentioned]['mention_count'] += 1\n",
        "        #extract details about the metioned users in the tweet\n",
        "        if id_mentioned not in unique_users:\n",
        "          unique_users[id_mentioned] = {}\n",
        "          unique_users[id_mentioned]['tweet_count'] = 0\n",
        "          unique_users[id_mentioned]['mention_count'] = 1\n",
        "          unique_users[id_mentioned]['id'] = id_mentioned\n",
        "          unique_users[id_mentioned]['followers_count'] = 0\n",
        "          unique_users[id_mentioned]['screen_name'] = screen_name_mentioned.lower()\n",
        "\n",
        "print(f\"{i} total Tweets processed\")"
      ]
    },
    {
      "cell_type": "code",
      "execution_count": null,
      "metadata": {
        "colab": {
          "base_uri": "https://localhost:8080/"
        },
        "id": "3hpL2-87LiSa",
        "outputId": "5b2369f8-be94-49ac-fa2b-083718bd2a59"
      },
      "outputs": [
        {
          "output_type": "stream",
          "name": "stdout",
          "text": [
            "there are 131663 total users in the mention network.\n"
          ]
        }
      ],
      "source": [
        "#print the number of unique users in the corpus\n",
        "print('there are', len(unique_users), 'total users in the mention network.')"
      ]
    },
    {
      "cell_type": "markdown",
      "metadata": {
        "id": "DDmPjsMzLGaT"
      },
      "source": [
        "## Create User Filter List"
      ]
    },
    {
      "cell_type": "code",
      "execution_count": null,
      "metadata": {
        "colab": {
          "base_uri": "https://localhost:8080/"
        },
        "id": "jTwppcYRFNCT",
        "outputId": "6daf94d4-5937-4b78-9b57-c7c83e88a259"
      },
      "outputs": [
        {
          "output_type": "stream",
          "name": "stdout",
          "text": [
            "id: 415859364 \tscreen_name: nike\n",
            "id: 300114634 \tscreen_name: adidas\n",
            "id: 16252784 \tscreen_name: lululemon\n",
            "198\n"
          ]
        }
      ],
      "source": [
        "users_to_include = set()\n",
        "# if any user has more than 2 tweets\n",
        "min_tweet_count = 2\n",
        "# if any user has more than 2500 followers\n",
        "min_followers_count = 100000\n",
        "# create a list of brand users\n",
        "brand_users = ['nike', 'lululemon', 'adidas']\n",
        "\n",
        "# a set is a unique list\n",
        "user_count = 0\n",
        "\n",
        "#iterate through the list of unique users and filter down the list\n",
        "for auser in unique_users:\n",
        "  if unique_users[auser]['screen_name'] in brand_users:\n",
        "      print('id:', auser, '\\tscreen_name:', unique_users[auser]['screen_name'])\n",
        "      user_count += 1\n",
        "      users_to_include.add(auser)\n",
        "  elif unique_users[auser]['tweet_count'] >= min_tweet_count:\n",
        "    if unique_users[auser]['followers_count'] >= min_followers_count:\n",
        "      user_count += 1\n",
        "      users_to_include.add(auser)\n",
        "print(len(users_to_include))"
      ]
    },
    {
      "cell_type": "code",
      "execution_count": null,
      "metadata": {
        "colab": {
          "base_uri": "https://localhost:8080/"
        },
        "id": "RgmBdrqWGIAa",
        "outputId": "699d117f-0361-4cde-9278-c84f710e2109"
      },
      "outputs": [
        {
          "output_type": "stream",
          "name": "stdout",
          "text": [
            "there are 198 users to include in the final mention network.\n",
            "0.15% of the total users are included in the mention network.\n"
          ]
        }
      ],
      "source": [
        "#print the number of unique users to include in the graph\n",
        "print('there are', len(users_to_include), 'users to include in the final mention network.')\n",
        "pct_of_total = round(len(users_to_include) / len(unique_users),4) * 100\n",
        "print(f\"{pct_of_total}% of the total users are included in the mention network.\")"
      ]
    },
    {
      "cell_type": "code",
      "execution_count": null,
      "metadata": {
        "colab": {
          "base_uri": "https://localhost:8080/"
        },
        "id": "O-taDjeclMza",
        "outputId": "ed997a5f-6d48-4960-e814-3819992f7d06"
      },
      "outputs": [
        {
          "output_type": "stream",
          "name": "stdout",
          "text": [
            "Nike: {'tweet_count': 0, 'mention_count': 120125, 'id': 415859364, 'followers_count': 0, 'screen_name': 'nike'}\n",
            "Adidas: {'tweet_count': 3, 'mention_count': 36654, 'id': 300114634, 'followers_count': 4082910, 'screen_name': 'adidas'}\n",
            "Lululemon: {'tweet_count': 0, 'mention_count': 6294, 'id': 16252784, 'followers_count': 0, 'screen_name': 'lululemon'}\n"
          ]
        }
      ],
      "source": [
        "#print the word counts for the major brands\n",
        "print(\"Nike:\", unique_users[415859364])\n",
        "print(\"Adidas:\", unique_users[300114634])\n",
        "print(\"Lululemon:\", unique_users[16252784])"
      ]
    },
    {
      "cell_type": "markdown",
      "metadata": {
        "id": "ggVnB6TIIZEP"
      },
      "source": [
        "##Helper Functions for Analysis"
      ]
    },
    {
      "cell_type": "code",
      "execution_count": null,
      "metadata": {
        "id": "GWb9PQEkIaMS"
      },
      "outputs": [],
      "source": [
        "def graph_summary_stats(G, title='Graph Summary'):\n",
        "  #display a summary of the graph object created\n",
        "  #nx.info(G)\n",
        "  # https://networkx.org/documentation/stable/reference/functions.html\n",
        "  print('----------------------------------------')\n",
        "  print('#####', title, '#####')\n",
        "  print('number of nodes:', nx.number_of_nodes(G))\n",
        "  print('number of edges:', nx.number_of_edges(G))\n",
        "  print()\n",
        "  print('nodes:', nx.nodes(G))\n",
        "  print()\n",
        "  if G.has_node('adidas'):\n",
        "    print('neighbors of adidas:', list(nx.all_neighbors(G, 'adidas')))\n",
        "  if G.has_node('nike'):\n",
        "    print('neighbors of nike:', list(nx.all_neighbors(G, 'nike')))\n",
        "  if G.has_node('lululemon'):\n",
        "   print('neighbors of lululemon:', list(nx.all_neighbors(G, 'lululemon')))\n",
        "  print('----------------------------------------\\n')"
      ]
    },
    {
      "cell_type": "code",
      "source": [
        "#function to plot the graph object and write to png\n",
        "def plot_graph(G, file_path='temp_file', use_edge_weight=True):\n",
        "  #define node colors\n",
        "  default_color = 'blue'\n",
        "  highlight_color = 'red'\n",
        "  brand_users = ['nike', 'lululemon', 'adidas']\n",
        "  node_colors = [highlight_color if node in brand_users else default_color for node in G.nodes()]\n",
        "\n",
        "  #generate a spring layout for the graph\n",
        "  positions = nx.spring_layout(G)\n",
        "\n",
        "  #extract edge weights for drawing\n",
        "  if use_edge_weight == True:\n",
        "    edge_weights = 2*[G[u][v]['weight'] for u, v in G.edges()]\n",
        "  else:\n",
        "    edge_weights = 2\n",
        "\n",
        "  #create a figure and adjust the size of the figure\n",
        "  fig, ax = plt.subplots(1, 1, figsize=(300, 300))\n",
        "  #draw the graph of the network\n",
        "  nx.draw_networkx(G, pos=positions, ax=ax, node_color=node_colors,\n",
        "                   font_color=\"#FFFFFF\", font_size=20,\n",
        "                   node_size=30000, width=edge_weights,\n",
        "                   arrows=True, arrowsize=100)\n",
        "  #save the graph to a file\n",
        "  print_file_path = '%s/%s.png' % (MODEL_DIR,file_path)\n",
        "  plt.savefig(print_file_path, format='PNG')"
      ],
      "metadata": {
        "id": "59WLD2-xaYt2"
      },
      "execution_count": null,
      "outputs": []
    },
    {
      "cell_type": "code",
      "source": [
        "def focus_edges(G, brand_nodes = None, weight_min = None, weight_max = None):\n",
        "  # Filter based on a list of brand nodes to focus\n",
        "  if brand_nodes != None:\n",
        "    # Filter edges based on the weight threshold\n",
        "    filtered_edges = [(u, v) for u, v in G.edges() if u in brand_nodes or v in brand_nodes]\n",
        "    # Create a subgraph based on the filtered edges\n",
        "    G = G.edge_subgraph(filtered_edges)\n",
        "  # Filter based on weight threshold\n",
        "  if weight_min != None:\n",
        "    # Filter edges based on the weight threshold\n",
        "    filtered_edges = [(u, v) for u, v, d in G.edges(data=True) if d['weight'] >= weight_min]\n",
        "    # Create a subgraph based on the filtered edges\n",
        "    G = G.edge_subgraph(filtered_edges)\n",
        "  if weight_max != None:\n",
        "    # Filter edges based on the weight threshold\n",
        "    filtered_edges = [(u, v) for u, v, d in G.edges(data=True) if d['weight'] <= weight_max]\n",
        "    # Create a subgraph based on the filtered edges\n",
        "    G = G.edge_subgraph(filtered_edges)\n",
        "  # Return the filtered subgraph\n",
        "  return G"
      ],
      "metadata": {
        "id": "qliSo-TZz7FK"
      },
      "execution_count": null,
      "outputs": []
    },
    {
      "cell_type": "markdown",
      "metadata": {
        "id": "0bi6NqxoG-NW"
      },
      "source": [
        "## Create a Graph Object"
      ]
    },
    {
      "cell_type": "code",
      "execution_count": null,
      "metadata": {
        "id": "8dVkCg7zHGrM"
      },
      "outputs": [],
      "source": [
        "#load the source data\n",
        "tweet_file_path = '%s/nikelululemonadidas_tweets.jsonl' % DATA_DIR\n",
        "json_file = open(tweet_file_path, 'r')"
      ]
    },
    {
      "cell_type": "code",
      "execution_count": null,
      "metadata": {
        "id": "OcZfT2n_G-Wh"
      },
      "outputs": [],
      "source": [
        "#create a blank graph object\n",
        "MEN_Graph = nx.DiGraph()"
      ]
    },
    {
      "cell_type": "code",
      "execution_count": null,
      "metadata": {
        "colab": {
          "base_uri": "https://localhost:8080/"
        },
        "id": "TrrnoZjlHQ1n",
        "outputId": "072dbf4d-0142-4462-f664-33bedc19fa33"
      },
      "outputs": [
        {
          "output_type": "stream",
          "name": "stdout",
          "text": [
            "0 tweets iterated\n",
            "10000 tweets iterated\n",
            "20000 tweets iterated\n",
            "30000 tweets iterated\n",
            "40000 tweets iterated\n",
            "50000 tweets iterated\n",
            "60000 tweets iterated\n",
            "70000 tweets iterated\n",
            "80000 tweets iterated\n",
            "90000 tweets iterated\n",
            "100000 tweets iterated\n",
            "110000 tweets iterated\n",
            "120000 tweets iterated\n",
            "130000 tweets iterated\n",
            "140000 tweets iterated\n",
            "150000 tweets iterated\n",
            "160000 tweets iterated\n",
            "170000 tweets iterated\n",
            "175077 total tweets processed\n"
          ]
        }
      ],
      "source": [
        "# Identify unique users in the mention network\n",
        "for i, atweet in enumerate(json_file):\n",
        "    #provide an update on processing progress\n",
        "    if i % 10000 == 0:\n",
        "      print(\"%s tweets iterated\" % i)\n",
        "    #load a line of the twitter corpus\n",
        "    tweet_json = json.loads(atweet)\n",
        "    #extract details from the tweet\n",
        "    user_who_tweeted = tweet_json['user']['screen_name'].lower()\n",
        "    id_who_tweeted = tweet_json['user']['id']\n",
        "    follower_count = tweet_json['user']['followers_count']\n",
        "    #check if the user id is in the list to include\n",
        "    if id_who_tweeted in users_to_include:\n",
        "      users = tweet_json['entities']['user_mentions']\n",
        "      #if the tweet netions other users in the tweet\n",
        "      if len(users) > 0:\n",
        "          # iterate through each mention in the tweet\n",
        "          for auser in users:\n",
        "              #extract details about the metioned users in the tweet\n",
        "              screen_name = auser['screen_name'].lower()\n",
        "              mention_id = auser['id']\n",
        "              #if the mentioned user is on the list to included\n",
        "              if mention_id in users_to_include:\n",
        "                if user_who_tweeted != screen_name:\n",
        "                  #add an edge to the graph\n",
        "                  if MEN_Graph.has_edge(user_who_tweeted, screen_name):\n",
        "                    # If the edge exists, increment its weight\n",
        "                    MEN_Graph[user_who_tweeted][screen_name]['weight'] += 1\n",
        "                  else:\n",
        "                    # If the edge doesn't exist, add it with weight=1\n",
        "                    MEN_Graph.add_edge(user_who_tweeted, screen_name, weight=1)\n",
        "print(f\"{i} total tweets processed\")"
      ]
    },
    {
      "cell_type": "code",
      "source": [
        "graph_summary_stats(G = MEN_Graph)"
      ],
      "metadata": {
        "colab": {
          "base_uri": "https://localhost:8080/"
        },
        "id": "vWBoO0rwgOkE",
        "outputId": "64279aa0-83d5-4ce2-9291-b13f4f366afc"
      },
      "execution_count": null,
      "outputs": [
        {
          "output_type": "stream",
          "name": "stdout",
          "text": [
            "----------------------------------------\n",
            "##### Graph Summary #####\n",
            "number of nodes: 194\n",
            "number of edges: 339\n",
            "\n",
            "nodes: ['kiganyi_', 'adidas', 'undefeatedinc', 'uniwatch', 'nike', 'atari_jones', 'adidasoriginals', 'solefed', 'jumpman23', 'bajabiri', 'golfdigest', 'lululemon', 'jonahlupton', 'nikestore', 'jermainedupri', 'finishline', 'wwd', 'hiphopwired', 'xboxwire', 'aarongreenberg', 'xbox', 'xboxp3', 'predsnhl', 'lakings', 'dashiexp', 'fastcompany', 'reignofapril', 'nrarmour', 'sbjsbd', 'barcaacademy', 'khou', 'oakley', 'marshablackburn', 'senrickscott', 'schuh', 'dezeen', 'lebatardshow', 'billiejeanking', 'barrysanders', 'complex', 'brooksrunning', 'adidasrunning', 'wiedenkennedy', 'bottom2thatop', 'candace_parker', 'snkr_twitr', 'katgraham', 'joshog', 'adweek', 'kingjames', 'jamesgunn', 'pomklementieff', 'loyalty360', 'jasonlacanfora', 'kohls', '7newsdc', 'realrclark25', 'adidashoops', 'wnba', 'barondavis', 'metropolismag', 'legiqn', 'fatkiddeals', 'jack_p', 'nyctsubway', 'nikebasketball', 'slamonline', 'rga', 'stockx', 'gladstein', 'msmelchen', 'sproutsocial', 'orioles', 'natbrunell', 'fousey', 'okayplayer', 'sacramentokings', 'yahoofinance', 'enesfreedom', 'redsteeze', 'sethamandel', 'slimjim', 'tengbiao', 'hughhewitt', 'muslimmatters', 'nedryun', 'ericmmatheny', 'lifeatpurdue', 'epochtimes', 'suns', 'donaldjtrumpjr', 'joshrogin', 'yesnicksearcy', 'highsnobiety', 'lasparks', 'realunogame', 'giannis_an34', 'deezefi', 'mrleonardkim', 'evankirstel', 'mattel', 'reebok', 'pennstatefball', 'stevedeaceshow', 'girlsintech', 'uoregon', 'mystic7', 'ericpmusselman', 'qrich', 'cointelegraph', 'houstondynamo', 'threadreaderapp', 'prestonpysh', 'rwang0', 'tandfn', 'thebussypleaser', 'techinsider', 'jdofficial', 'xlr8r', 'onsoranje', 'liekemartens1', 'knvb', 'realshellyannfp', 'kicksdeals', 'lafc', 'thegrovela', 'lagalaxy', 'adamsconsulting', 'coindesk', 'adidasfootball', 'spicer', 'kieraplease', 'jkylebass', 'kfile', 'sportsiren', 'nicekicks', 'scottwarner18', 'complexstyle', 'tinashe', 'rosgo21', 'roblox', 'bloxy_news', 'insideroblox', 'atmos_usa', 'nwsl', 'adamjacksonsf', 'novambb', 'solomonyue', 'angelaruggiero', 'bauerhockey', 'jenniferwalcott', 'road_2_ft_worth', 'vampybitme', 'iamwellandgood', 'tropofarmer', 'boredelonmusk', 'mattsteffanina', 'mediapost', 'brooklynnets', 'vidcon', 'uninterrupted', 'hunterheather', 'misstabstevens', 'chainlinkgod', '1djfirstclass', 'chsommers', 'tonipayne', 'cowhercbs', 'detroitpistons', 'cory_shoff', 'usa_lacrosse', 'xxxcrypt0', 'ijustine', 'hackapreneur', 'burgerking', 'namecheap', 'campaignbrands', 'elmaaelmoo', 'colethereum', 'nebraskancrypto', 'vaynermedia', 'schmittnyc', 'mpinoe', 'seanmdav', 'hunterw', 'realvision', 'reallisariley', 'rexchapman', 'qiasomar', 'kingofthecrane', 'cnbc', 'ericvdunn', 'trustlessstate', 'lopp']\n",
            "\n",
            "neighbors of adidas: ['kiganyi_', 'undefeatedinc', 'atari_jones', 'bajabiri', 'jermainedupri', 'xboxwire', 'aarongreenberg', 'xboxp3', 'lakings', 'dashiexp', 'xbox', 'wwd', 'hiphopwired', 'billiejeanking', 'complex', 'bottom2thatop', 'katgraham', 'jamesgunn', 'pomklementieff', 'loyalty360', 'kohls', 'uniwatch', 'adidashoops', 'metropolismag', 'adidasrunning', 'legiqn', 'fatkiddeals', 'jack_p', 'nyctsubway', 'snkr_twitr', 'stockx', 'adweek', 'houstondynamo', 'reebok', 'finishline', 'sbjsbd', 'techinsider', 'kicksdeals', 'lafc', 'lagalaxy', 'adidasfootball', 'spicer', 'kfile', 'sportsiren', 'highsnobiety', 'nicekicks', 'adidasoriginals', 'coindesk', 'jenniferwalcott', 'thebussypleaser', 'vampybitme', 'tropofarmer', 'boredelonmusk', 'mattsteffanina', 'brooklynnets', 'hunterheather', 'jdofficial', 'misstabstevens', 'complexstyle', 'chainlinkgod', 'wnba', 'tonipayne', 'predsnhl', 'slamonline', 'schuh', 'xxxcrypt0', 'candace_parker', 'burgerking', 'namecheap', 'iamwellandgood', 'deezefi', 'dezeen', 'hunterw', 'cointelegraph', 'ericvdunn', 'burgerking', 'xbox', 'nike']\n",
            "neighbors of nike: ['uniwatch', 'solefed', 'nikestore', 'undefeatedinc', 'finishline', 'wwd', 'hiphopwired', 'fastcompany', 'reignofapril', 'nrarmour', 'sbjsbd', 'barcaacademy', 'marshablackburn', 'senrickscott', 'schuh', 'dezeen', 'lebatardshow', 'barrysanders', 'brooksrunning', 'wiedenkennedy', 'snkr_twitr', 'jumpman23', 'kingjames', 'jasonlacanfora', '7newsdc', 'barondavis', 'nikebasketball', 'slamonline', 'rga', 'msmelchen', 'sproutsocial', 'orioles', 'natbrunell', 'fousey', 'okayplayer', 'sacramentokings', 'realrclark25', 'enesfreedom', 'redsteeze', 'sethamandel', 'slimjim', 'tengbiao', 'gladstein', 'hughhewitt', 'muslimmatters', 'nedryun', 'ericmmatheny', 'lifeatpurdue', 'epochtimes', 'suns', 'donaldjtrumpjr', 'joshrogin', 'yesnicksearcy', 'highsnobiety', 'lasparks', 'realunogame', 'mrleonardkim', 'evankirstel', 'mattel', 'reebok', 'pennstatefball', 'stevedeaceshow', 'girlsintech', 'uoregon', 'ericpmusselman', 'qrich', 'wnba', 'cointelegraph', 'threadreaderapp', 'prestonpysh', 'rwang0', 'tandfn', 'thebussypleaser', 'techinsider', 'jdofficial', 'xlr8r', 'onsoranje', 'knvb', 'liekemartens1', 'realshellyannfp', 'thegrovela', 'adamsconsulting', 'coindesk', 'giannis_an34', 'kieraplease', 'jkylebass', 'khou', 'scottwarner18', 'kicksdeals', 'nicekicks', 'complexstyle', 'rosgo21', 'roblox', 'bloxy_news', 'insideroblox', 'nwsl', 'adamjacksonsf', 'novambb', 'solomonyue', 'angelaruggiero', 'boredelonmusk', 'vidcon', 'uninterrupted', '1djfirstclass', 'chsommers', 'tonipayne', 'cowhercbs', 'detroitpistons', 'cory_shoff', 'usa_lacrosse', 'hackapreneur', 'tropofarmer', 'burgerking', 'deezefi', 'namecheap', 'mattsteffanina', 'campaignbrands', 'elmaaelmoo', 'mediapost', 'adidas', 'colethereum', 'nebraskancrypto', 'vaynermedia', 'tinashe', 'schmittnyc', 'mpinoe', 'seanmdav', 'realvision', 'xxxcrypt0', 'ijustine', 'bajabiri', 'rexchapman', 'qiasomar', 'kingofthecrane', 'trustlessstate', 'lopp']\n",
            "neighbors of lululemon: ['golfdigest', 'jonahlupton', 'predsnhl', 'khou', 'oakley', 'brooksrunning', 'joshog', 'adweek', 'realrclark25', 'yahoofinance', 'uniwatch', 'deezefi', 'mrleonardkim', 'mystic7', 'evankirstel', 'bauerhockey', 'thegrovela', 'road_2_ft_worth', 'iamwellandgood', 'mediapost', 'ijustine', 'reallisariley', 'wwd', 'cnbc']\n",
            "----------------------------------------\n",
            "\n"
          ]
        }
      ]
    },
    {
      "cell_type": "code",
      "source": [
        "MEN_Graph.edges(data=True)"
      ],
      "metadata": {
        "colab": {
          "base_uri": "https://localhost:8080/"
        },
        "id": "MtWHqJ9OVqJN",
        "outputId": "c84639bc-6018-4993-84a4-e657d39aafdc"
      },
      "execution_count": null,
      "outputs": [
        {
          "output_type": "execute_result",
          "data": {
            "text/plain": [
              "OutEdgeDataView([('kiganyi_', 'adidas', {'weight': 2}), ('kiganyi_', 'bajabiri', {'weight': 1}), ('adidas', 'burgerking', {'weight': 2}), ('adidas', 'xbox', {'weight': 2}), ('adidas', 'nike', {'weight': 2}), ('undefeatedinc', 'adidas', {'weight': 13}), ('undefeatedinc', 'nike', {'weight': 29}), ('uniwatch', 'nike', {'weight': 11}), ('uniwatch', 'lakings', {'weight': 1}), ('uniwatch', 'adidas', {'weight': 3}), ('uniwatch', 'lululemon', {'weight': 1}), ('uniwatch', 'sacramentokings', {'weight': 1}), ('atari_jones', 'adidasoriginals', {'weight': 2}), ('atari_jones', 'adidas', {'weight': 5}), ('adidasoriginals', 'adidas', {'weight': 2}), ('solefed', 'jumpman23', {'weight': 31}), ('solefed', 'nike', {'weight': 39}), ('solefed', 'nikestore', {'weight': 13}), ('solefed', 'snkr_twitr', {'weight': 1}), ('jumpman23', 'nike', {'weight': 1}), ('bajabiri', 'adidas', {'weight': 9}), ('bajabiri', 'nike', {'weight': 1}), ('golfdigest', 'lululemon', {'weight': 4}), ('jonahlupton', 'lululemon', {'weight': 3}), ('nikestore', 'nike', {'weight': 7}), ('nikestore', 'roblox', {'weight': 1}), ('nikestore', 'jumpman23', {'weight': 1}), ('jermainedupri', 'adidas', {'weight': 6}), ('finishline', 'nike', {'weight': 16}), ('finishline', 'adidas', {'weight': 3}), ('wwd', 'nike', {'weight': 6}), ('wwd', 'adidas', {'weight': 1}), ('wwd', 'lululemon', {'weight': 1}), ('hiphopwired', 'nike', {'weight': 8}), ('hiphopwired', 'xbox', {'weight': 2}), ('hiphopwired', 'adidas', {'weight': 6}), ('hiphopwired', 'jumpman23', {'weight': 3}), ('xboxwire', 'adidas', {'weight': 2}), ('aarongreenberg', 'adidas', {'weight': 4}), ('aarongreenberg', 'xbox', {'weight': 4}), ('aarongreenberg', 'stockx', {'weight': 1}), ('xbox', 'adidas', {'weight': 6}), ('xbox', 'adidasoriginals', {'weight': 1}), ('xbox', 'stockx', {'weight': 1}), ('xboxp3', 'aarongreenberg', {'weight': 1}), ('xboxp3', 'adidas', {'weight': 2}), ('xboxp3', 'xbox', {'weight': 1}), ('predsnhl', 'lululemon', {'weight': 1}), ('predsnhl', 'adidas', {'weight': 1}), ('lakings', 'adidas', {'weight': 2}), ('dashiexp', 'xbox', {'weight': 2}), ('dashiexp', 'adidas', {'weight': 2}), ('fastcompany', 'nike', {'weight': 4}), ('fastcompany', 'lifeatpurdue', {'weight': 1}), ('reignofapril', 'nike', {'weight': 5}), ('nrarmour', 'nike', {'weight': 2}), ('nrarmour', 'nwsl', {'weight': 1}), ('sbjsbd', 'nike', {'weight': 6}), ('sbjsbd', 'adidas', {'weight': 3}), ('sbjsbd', 'nwsl', {'weight': 1}), ('sbjsbd', 'predsnhl', {'weight': 1}), ('sbjsbd', 'mpinoe', {'weight': 1}), ('sbjsbd', 'wwd', {'weight': 1}), ('sbjsbd', 'adidasoriginals', {'weight': 1}), ('barcaacademy', 'nike', {'weight': 2}), ('khou', 'lululemon', {'weight': 1}), ('khou', 'nike', {'weight': 1}), ('oakley', 'lululemon', {'weight': 2}), ('marshablackburn', 'nike', {'weight': 3}), ('senrickscott', 'nike', {'weight': 2}), ('schuh', 'nike', {'weight': 3}), ('schuh', 'adidas', {'weight': 1}), ('dezeen', 'nike', {'weight': 5}), ('dezeen', 'adidas', {'weight': 1}), ('lebatardshow', 'nike', {'weight': 1}), ('billiejeanking', 'adidas', {'weight': 2}), ('barrysanders', 'nike', {'weight': 2}), ('complex', 'adidas', {'weight': 5}), ('complex', 'complexstyle', {'weight': 3}), ('complex', 'tinashe', {'weight': 1}), ('brooksrunning', 'nike', {'weight': 2}), ('brooksrunning', 'adidasrunning', {'weight': 1}), ('brooksrunning', 'lululemon', {'weight': 2}), ('adidasrunning', 'adidas', {'weight': 3}), ('wiedenkennedy', 'nike', {'weight': 10}), ('bottom2thatop', 'adidas', {'weight': 2}), ('bottom2thatop', 'candace_parker', {'weight': 1}), ('candace_parker', 'adidas', {'weight': 1}), ('snkr_twitr', 'nike', {'weight': 13}), ('snkr_twitr', 'adidas', {'weight': 4}), ('snkr_twitr', 'solefed', {'weight': 2}), ('snkr_twitr', 'adidasoriginals', {'weight': 1}), ('snkr_twitr', 'nikestore', {'weight': 1}), ('snkr_twitr', 'nicekicks', {'weight': 1}), ('snkr_twitr', 'jumpman23', {'weight': 2}), ('katgraham', 'adidas', {'weight': 17}), ('joshog', 'lululemon', {'weight': 2}), ('adweek', 'lululemon', {'weight': 2}), ('adweek', 'adidas', {'weight': 3}), ('kingjames', 'nike', {'weight': 2}), ('kingjames', 'uninterrupted', {'weight': 1}), ('jamesgunn', 'adidasoriginals', {'weight': 7}), ('jamesgunn', 'adidas', {'weight': 7}), ('jamesgunn', 'pomklementieff', {'weight': 3}), ('pomklementieff', 'jamesgunn', {'weight': 3}), ('pomklementieff', 'adidasoriginals', {'weight': 3}), ('pomklementieff', 'adidas', {'weight': 3}), ('loyalty360', 'adidas', {'weight': 2}), ('jasonlacanfora', 'nike', {'weight': 2}), ('jasonlacanfora', 'orioles', {'weight': 2}), ('kohls', 'adidas', {'weight': 2}), ('7newsdc', 'nike', {'weight': 2}), ('realrclark25', 'lululemon', {'weight': 5}), ('realrclark25', 'nike', {'weight': 1}), ('realrclark25', 'jumpman23', {'weight': 2}), ('adidashoops', 'candace_parker', {'weight': 1}), ('adidashoops', 'wnba', {'weight': 1}), ('adidashoops', 'adidas', {'weight': 4}), ('wnba', 'nike', {'weight': 2}), ('wnba', 'candace_parker', {'weight': 2}), ('wnba', 'adidashoops', {'weight': 1}), ('wnba', 'adidas', {'weight': 1}), ('barondavis', 'nike', {'weight': 2}), ('metropolismag', 'adidas', {'weight': 2}), ('legiqn', 'xbox', {'weight': 21}), ('legiqn', 'adidas', {'weight': 21}), ('legiqn', 'fatkiddeals', {'weight': 2}), ('fatkiddeals', 'legiqn', {'weight': 2}), ('fatkiddeals', 'xbox', {'weight': 2}), ('fatkiddeals', 'adidas', {'weight': 2}), ('jack_p', 'xbox', {'weight': 2}), ('jack_p', 'adidas', {'weight': 2}), ('nyctsubway', 'adidas', {'weight': 3}), ('nikebasketball', 'nike', {'weight': 4}), ('nikebasketball', 'giannis_an34', {'weight': 1}), ('nikebasketball', 'wnba', {'weight': 1}), ('nikebasketball', 'nikestore', {'weight': 1}), ('slamonline', 'nike', {'weight': 3}), ('slamonline', 'nikebasketball', {'weight': 3}), ('slamonline', 'adidas', {'weight': 1}), ('slamonline', 'adidashoops', {'weight': 1}), ('rga', 'nike', {'weight': 2}), ('stockx', 'adidas', {'weight': 3}), ('stockx', 'xbox', {'weight': 2}), ('gladstein', 'msmelchen', {'weight': 1}), ('gladstein', 'nike', {'weight': 2}), ('msmelchen', 'nike', {'weight': 2}), ('sproutsocial', 'nike', {'weight': 2}), ('orioles', 'nike', {'weight': 6}), ('natbrunell', 'nike', {'weight': 2}), ('fousey', 'nike', {'weight': 3}), ('okayplayer', 'nike', {'weight': 1}), ('sacramentokings', 'nike', {'weight': 3}), ('yahoofinance', 'lululemon', {'weight': 3}), ('enesfreedom', 'nike', {'weight': 3}), ('enesfreedom', 'kingjames', {'weight': 1}), ('enesfreedom', 'jumpman23', {'weight': 1}), ('redsteeze', 'nike', {'weight': 2}), ('sethamandel', 'nike', {'weight': 2}), ('slimjim', 'adweek', {'weight': 1}), ('slimjim', 'nike', {'weight': 2}), ('slimjim', 'burgerking', {'weight': 1}), ('slimjim', 'adidasoriginals', {'weight': 1}), ('tengbiao', 'nike', {'weight': 2}), ('hughhewitt', 'nike', {'weight': 1}), ('muslimmatters', 'nike', {'weight': 2}), ('muslimmatters', 'enesfreedom', {'weight': 1}), ('nedryun', 'nike', {'weight': 2}), ('ericmmatheny', 'nike', {'weight': 2}), ('lifeatpurdue', 'nike', {'weight': 3}), ('lifeatpurdue', 'fastcompany', {'weight': 2}), ('epochtimes', 'nike', {'weight': 2}), ('suns', 'nike', {'weight': 2}), ('suns', 'wnba', {'weight': 1}), ('donaldjtrumpjr', 'nike', {'weight': 3}), ('joshrogin', 'nike', {'weight': 2}), ('yesnicksearcy', 'kingjames', {'weight': 1}), ('yesnicksearcy', 'nike', {'weight': 1}), ('highsnobiety', 'nike', {'weight': 1}), ('highsnobiety', 'adidas', {'weight': 1}), ('lasparks', 'nike', {'weight': 4}), ('realunogame', 'nike', {'weight': 15}), ('realunogame', 'giannis_an34', {'weight': 16}), ('giannis_an34', 'realunogame', {'weight': 1}), ('giannis_an34', 'nike', {'weight': 2}), ('giannis_an34', 'nikebasketball', {'weight': 1}), ('deezefi', 'lululemon', {'weight': 14}), ('deezefi', 'nike', {'weight': 2}), ('deezefi', 'tropofarmer', {'weight': 1}), ('deezefi', 'adidas', {'weight': 1}), ('mrleonardkim', 'nike', {'weight': 3}), ('mrleonardkim', 'lululemon', {'weight': 14}), ('mrleonardkim', 'fastcompany', {'weight': 2}), ('evankirstel', 'nike', {'weight': 1}), ('evankirstel', 'xbox', {'weight': 1}), ('evankirstel', 'lululemon', {'weight': 3}), ('mattel', 'realunogame', {'weight': 6}), ('mattel', 'nike', {'weight': 6}), ('mattel', 'giannis_an34', {'weight': 6}), ('reebok', 'nike', {'weight': 2}), ('reebok', 'jumpman23', {'weight': 1}), ('reebok', 'adidas', {'weight': 1}), ('pennstatefball', 'nike', {'weight': 2}), ('stevedeaceshow', 'nike', {'weight': 1}), ('girlsintech', 'nike', {'weight': 2}), ('uoregon', 'nike', {'weight': 2}), ('mystic7', 'deezefi', {'weight': 1}), ('mystic7', 'lululemon', {'weight': 1}), ('ericpmusselman', 'nike', {'weight': 3}), ('ericpmusselman', 'nicekicks', {'weight': 1}), ('qrich', 'nike', {'weight': 4}), ('cointelegraph', 'nike', {'weight': 6}), ('cointelegraph', 'adidas', {'weight': 1}), ('houstondynamo', 'adidas', {'weight': 4}), ('threadreaderapp', 'nike', {'weight': 3}), ('prestonpysh', 'nike', {'weight': 1}), ('rwang0', 'nike', {'weight': 2}), ('tandfn', 'nike', {'weight': 3}), ('thebussypleaser', 'nike', {'weight': 1}), ('thebussypleaser', 'adidas', {'weight': 1}), ('techinsider', 'nike', {'weight': 1}), ('techinsider', 'adidas', {'weight': 1}), ('jdofficial', 'nike', {'weight': 20}), ('jdofficial', 'adidas', {'weight': 4}), ('jdofficial', 'adidasoriginals', {'weight': 1}), ('xlr8r', 'nike', {'weight': 2}), ('onsoranje', 'liekemartens1', {'weight': 1}), ('onsoranje', 'nike', {'weight': 5}), ('onsoranje', 'knvb', {'weight': 1}), ('liekemartens1', 'knvb', {'weight': 2}), ('liekemartens1', 'nike', {'weight': 2}), ('knvb', 'liekemartens1', {'weight': 1}), ('knvb', 'nike', {'weight': 2}), ('realshellyannfp', 'nike', {'weight': 3}), ('kicksdeals', 'adidas', {'weight': 19}), ('kicksdeals', 'nike', {'weight': 9}), ('lafc', 'adidas', {'weight': 7}), ('thegrovela', 'nike', {'weight': 2}), ('thegrovela', 'lululemon', {'weight': 1}), ('lagalaxy', 'adidas', {'weight': 12}), ('adamsconsulting', 'nike', {'weight': 4}), ('coindesk', 'nike', {'weight': 3}), ('coindesk', 'adidas', {'weight': 1}), ('adidasfootball', 'lafc', {'weight': 1}), ('adidasfootball', 'lagalaxy', {'weight': 1}), ('adidasfootball', 'adidas', {'weight': 3}), ('spicer', 'adidas', {'weight': 3}), ('kieraplease', 'nike', {'weight': 2}), ('jkylebass', 'nike', {'weight': 6}), ('jkylebass', 'kingjames', {'weight': 4}), ('kfile', 'adidas', {'weight': 2}), ('sportsiren', 'adidas', {'weight': 2}), ('sportsiren', 'candace_parker', {'weight': 1}), ('nicekicks', 'adidas', {'weight': 1}), ('nicekicks', 'nike', {'weight': 2}), ('scottwarner18', 'nike', {'weight': 4}), ('complexstyle', 'tinashe', {'weight': 1}), ('complexstyle', 'nike', {'weight': 2}), ('complexstyle', 'adidas', {'weight': 3}), ('tinashe', 'nike', {'weight': 2}), ('rosgo21', 'nike', {'weight': 2}), ('roblox', 'nike', {'weight': 2}), ('bloxy_news', 'nike', {'weight': 2}), ('bloxy_news', 'roblox', {'weight': 2}), ('insideroblox', 'nike', {'weight': 2}), ('insideroblox', 'roblox', {'weight': 2}), ('atmos_usa', 'nikestore', {'weight': 1}), ('nwsl', 'nike', {'weight': 2}), ('adamjacksonsf', 'nike', {'weight': 1}), ('novambb', 'nike', {'weight': 2}), ('solomonyue', 'nike', {'weight': 1}), ('angelaruggiero', 'nwsl', {'weight': 2}), ('angelaruggiero', 'nike', {'weight': 2}), ('bauerhockey', 'lululemon', {'weight': 2}), ('jenniferwalcott', 'adidas', {'weight': 2}), ('road_2_ft_worth', 'lululemon', {'weight': 2}), ('vampybitme', 'xbox', {'weight': 3}), ('vampybitme', 'adidas', {'weight': 3}), ('iamwellandgood', 'lululemon', {'weight': 1}), ('iamwellandgood', 'adidas', {'weight': 1}), ('tropofarmer', 'adidas', {'weight': 6}), ('tropofarmer', 'nike', {'weight': 11}), ('tropofarmer', 'deezefi', {'weight': 1}), ('boredelonmusk', 'nike', {'weight': 1}), ('boredelonmusk', 'adidas', {'weight': 1}), ('mattsteffanina', 'adidas', {'weight': 2}), ('mattsteffanina', 'nike', {'weight': 1}), ('mediapost', 'lululemon', {'weight': 3}), ('mediapost', 'nike', {'weight': 2}), ('brooklynnets', 'adidas', {'weight': 4}), ('vidcon', 'nike', {'weight': 2}), ('uninterrupted', 'nike', {'weight': 2}), ('hunterheather', 'adidas', {'weight': 2}), ('hunterheather', 'misstabstevens', {'weight': 1}), ('misstabstevens', 'hunterheather', {'weight': 2}), ('misstabstevens', 'adidas', {'weight': 2}), ('chainlinkgod', 'adidas', {'weight': 1}), ('1djfirstclass', 'nike', {'weight': 4}), ('chsommers', 'nike', {'weight': 2}), ('tonipayne', 'nike', {'weight': 4}), ('tonipayne', 'adidas', {'weight': 3}), ('cowhercbs', 'nike', {'weight': 2}), ('detroitpistons', 'nike', {'weight': 2}), ('cory_shoff', 'nike', {'weight': 2}), ('usa_lacrosse', 'nike', {'weight': 2}), ('xxxcrypt0', 'adidas', {'weight': 1}), ('xxxcrypt0', 'nike', {'weight': 1}), ('ijustine', 'lululemon', {'weight': 1}), ('ijustine', 'nike', {'weight': 1}), ('hackapreneur', 'nike', {'weight': 4}), ('burgerking', 'xbox', {'weight': 3}), ('burgerking', 'nike', {'weight': 4}), ('burgerking', 'adidas', {'weight': 3}), ('burgerking', 'adidasoriginals', {'weight': 1}), ('burgerking', 'slimjim', {'weight': 1}), ('namecheap', 'nike', {'weight': 2}), ('namecheap', 'adidas', {'weight': 1}), ('campaignbrands', 'nike', {'weight': 5}), ('elmaaelmoo', 'nike', {'weight': 1}), ('colethereum', 'nike', {'weight': 2}), ('nebraskancrypto', 'nike', {'weight': 2}), ('vaynermedia', 'nike', {'weight': 5}), ('schmittnyc', 'nike', {'weight': 3}), ('mpinoe', 'nike', {'weight': 4}), ('seanmdav', 'nike', {'weight': 2}), ('hunterw', 'adidas', {'weight': 2}), ('realvision', 'nike', {'weight': 1}), ('reallisariley', 'lululemon', {'weight': 2}), ('rexchapman', 'nike', {'weight': 1}), ('qiasomar', 'nike', {'weight': 1}), ('kingofthecrane', 'nike', {'weight': 2}), ('cnbc', 'lululemon', {'weight': 1}), ('ericvdunn', 'adidas', {'weight': 2}), ('trustlessstate', 'lopp', {'weight': 4}), ('trustlessstate', 'nike', {'weight': 4}), ('trustlessstate', 'adidasoriginals', {'weight': 4}), ('lopp', 'trustlessstate', {'weight': 2}), ('lopp', 'nike', {'weight': 2}), ('lopp', 'adidasoriginals', {'weight': 2})])"
            ]
          },
          "metadata": {},
          "execution_count": 26
        }
      ]
    },
    {
      "cell_type": "markdown",
      "source": [
        "## Create Subgraphs for Analysis"
      ],
      "metadata": {
        "id": "k1JUBYWd7Oxc"
      }
    },
    {
      "cell_type": "code",
      "source": [
        "##### Shared Sets of Node Intersetions #####\n",
        "\n",
        "# Define key nodes\n",
        "key_nodes_all = ['nike', 'lululemon', 'adidas']\n",
        "key_nodes_nl = ['nike', 'lululemon']\n",
        "key_nodes_na = ['nike', 'adidas']\n",
        "key_nodes_al = ['adidas', 'lululemon']\n",
        "\n",
        "# Find neighbors of the key nodes\n",
        "neighbors_sets_all = [set(nx.all_neighbors(MEN_Graph, node)) for node in key_nodes_all]\n",
        "neighbors_sets_nl = [set(nx.all_neighbors(MEN_Graph, node)) for node in key_nodes_nl]\n",
        "neighbors_sets_na = [set(nx.all_neighbors(MEN_Graph, node)) for node in key_nodes_na]\n",
        "neighbors_sets_al = [set(nx.all_neighbors(MEN_Graph, node)) for node in key_nodes_al]\n",
        "\n",
        "# Intersect the sets to get nodes connected to all key nodes\n",
        "common_neighbors_all = set.intersection(*neighbors_sets_all)\n",
        "\n",
        "# Intersect the sets to get nodes connected to only 2 key nodes\n",
        "\n",
        "common_neighbors_nl = set.intersection(*neighbors_sets_nl) - common_neighbors_all\n",
        "common_neighbors_na = set.intersection(*neighbors_sets_na) - common_neighbors_all\n",
        "common_neighbors_al = set.intersection(*neighbors_sets_al) - common_neighbors_all\n",
        "\n",
        "# Get nodes connected to any one of the key nodes but not all of them\n",
        "union_neighbors = set.union(*neighbors_sets_all)\n",
        "\n",
        "# Get nodes connected to only 1 brand\n",
        "exclusive_neighbors = (union_neighbors - common_neighbors_all\n",
        "                       - common_neighbors_nl - common_neighbors_na - common_neighbors_al)"
      ],
      "metadata": {
        "id": "9Kdcje-G0JuH"
      },
      "execution_count": null,
      "outputs": []
    },
    {
      "cell_type": "code",
      "source": [
        "##### Bridging to All Brands Nodes #####\n",
        "# Create a subgraph\n",
        "nodes_to_keep = list(common_neighbors_all) + key_nodes_all\n",
        "MEN_Graph_bridge_3 = MEN_Graph.subgraph(nodes_to_keep)\n",
        "#display a summary of the subgraph\n",
        "graph_summary_stats(G = MEN_Graph_bridge_3, title='Bridging to All Brands Nodes')\n",
        "\n",
        "##### Nike to Adidas Bridges #####\n",
        "# Create a subgraph\n",
        "nodes_to_keep = list(common_neighbors_na) + key_nodes_all\n",
        "MEN_Graph_bridge_na = MEN_Graph.subgraph(nodes_to_keep)\n",
        "#display a summary of the subgraph\n",
        "graph_summary_stats(G = MEN_Graph_bridge_na, title='Nike to Adidas Bridges')\n",
        "\n",
        "##### Nike to Lululemon Bridges #####\n",
        "# Create a subgraph\n",
        "nodes_to_keep = list(common_neighbors_nl) + key_nodes_all\n",
        "MEN_Graph_bridge_nl = MEN_Graph.subgraph(nodes_to_keep)\n",
        "#display a summary of the subgraph\n",
        "graph_summary_stats(G = MEN_Graph_bridge_nl, title='Nike to Lululemon Bridges')\n",
        "\n",
        "##### Adidas to Lululemon Bridges #####\n",
        "# Create a subgraph\n",
        "nodes_to_keep = list(common_neighbors_al) + key_nodes_all\n",
        "MEN_Graph_bridge_al = MEN_Graph.subgraph(nodes_to_keep)\n",
        "#display a summary of the subgraph\n",
        "graph_summary_stats(G = MEN_Graph_bridge_al, title='Adidas to Lululemon Bridges')"
      ],
      "metadata": {
        "colab": {
          "base_uri": "https://localhost:8080/"
        },
        "id": "8yGHLF-v5_pE",
        "outputId": "099e29b4-9bb4-4584-b7a6-2cd2df8c62d5"
      },
      "execution_count": null,
      "outputs": [
        {
          "output_type": "stream",
          "name": "stdout",
          "text": [
            "----------------------------------------\n",
            "##### Bridging to All Brands Nodes #####\n",
            "number of nodes: 6\n",
            "number of edges: 10\n",
            "\n",
            "nodes: ['deezefi', 'lululemon', 'nike', 'wwd', 'adidas', 'uniwatch']\n",
            "\n",
            "neighbors of adidas: ['wwd', 'uniwatch', 'deezefi', 'nike']\n",
            "neighbors of nike: ['uniwatch', 'wwd', 'deezefi', 'adidas']\n",
            "neighbors of lululemon: ['uniwatch', 'deezefi', 'wwd']\n",
            "----------------------------------------\n",
            "\n",
            "----------------------------------------\n",
            "##### Nike to Adidas Bridges #####\n",
            "number of nodes: 30\n",
            "number of edges: 57\n",
            "\n",
            "nodes: ['schuh', 'lululemon', 'coindesk', 'namecheap', 'complexstyle', 'thebussypleaser', 'sbjsbd', 'wnba', 'cointelegraph', 'nike', 'finishline', 'highsnobiety', 'slamonline', 'reebok', 'snkr_twitr', 'boredelonmusk', 'dezeen', 'jdofficial', 'burgerking', 'mattsteffanina', 'hiphopwired', 'techinsider', 'undefeatedinc', 'kicksdeals', 'adidas', 'nicekicks', 'bajabiri', 'tropofarmer', 'xxxcrypt0', 'tonipayne']\n",
            "\n",
            "neighbors of adidas: ['undefeatedinc', 'bajabiri', 'hiphopwired', 'snkr_twitr', 'reebok', 'finishline', 'sbjsbd', 'techinsider', 'kicksdeals', 'highsnobiety', 'nicekicks', 'coindesk', 'thebussypleaser', 'tropofarmer', 'boredelonmusk', 'mattsteffanina', 'jdofficial', 'complexstyle', 'wnba', 'tonipayne', 'slamonline', 'schuh', 'xxxcrypt0', 'burgerking', 'namecheap', 'dezeen', 'cointelegraph', 'burgerking', 'nike']\n",
            "neighbors of nike: ['undefeatedinc', 'finishline', 'hiphopwired', 'sbjsbd', 'schuh', 'dezeen', 'snkr_twitr', 'slamonline', 'highsnobiety', 'reebok', 'wnba', 'cointelegraph', 'thebussypleaser', 'techinsider', 'jdofficial', 'coindesk', 'kicksdeals', 'nicekicks', 'complexstyle', 'boredelonmusk', 'tonipayne', 'tropofarmer', 'burgerking', 'namecheap', 'mattsteffanina', 'adidas', 'xxxcrypt0', 'bajabiri']\n",
            "neighbors of lululemon: []\n",
            "----------------------------------------\n",
            "\n",
            "----------------------------------------\n",
            "##### Nike to Lululemon Bridges #####\n",
            "number of nodes: 11\n",
            "number of edges: 17\n",
            "\n",
            "nodes: ['evankirstel', 'khou', 'lululemon', 'nike', 'ijustine', 'thegrovela', 'mediapost', 'brooksrunning', 'adidas', 'realrclark25', 'mrleonardkim']\n",
            "\n",
            "neighbors of adidas: ['nike']\n",
            "neighbors of nike: ['brooksrunning', 'realrclark25', 'mrleonardkim', 'evankirstel', 'thegrovela', 'khou', 'mediapost', 'adidas', 'ijustine']\n",
            "neighbors of lululemon: ['khou', 'brooksrunning', 'realrclark25', 'mrleonardkim', 'evankirstel', 'thegrovela', 'mediapost', 'ijustine']\n",
            "----------------------------------------\n",
            "\n",
            "----------------------------------------\n",
            "##### Adidas to Lululemon Bridges #####\n",
            "number of nodes: 6\n",
            "number of edges: 7\n",
            "\n",
            "nodes: ['iamwellandgood', 'lululemon', 'nike', 'adweek', 'adidas', 'predsnhl']\n",
            "\n",
            "neighbors of adidas: ['adweek', 'predsnhl', 'iamwellandgood', 'nike']\n",
            "neighbors of nike: ['adidas']\n",
            "neighbors of lululemon: ['predsnhl', 'adweek', 'iamwellandgood']\n",
            "----------------------------------------\n",
            "\n"
          ]
        }
      ]
    },
    {
      "cell_type": "code",
      "source": [
        "##### Exclusive Nodes: Unique to Only 1 Brand #####\n",
        "\n",
        "# Create a subgraph\n",
        "nodes_to_keep_exc = list(exclusive_neighbors) + key_nodes_all\n",
        "MEN_Graph_exc = MEN_Graph.subgraph(nodes_to_keep_exc)\n",
        "\n",
        "#filter the graph edges to focus on influential to brands\n",
        "MEN_Graph_exc = focus_edges(G = MEN_Graph_exc,\n",
        "                            brand_nodes = key_nodes_all,\n",
        "                            weight_min = 3)\n",
        "\n",
        "#display a summary of the subgraph\n",
        "graph_summary_stats(G = MEN_Graph_exc, title='Exclusive Nodes: Unique to Only 1 Brand')"
      ],
      "metadata": {
        "colab": {
          "base_uri": "https://localhost:8080/"
        },
        "id": "7sKyFbNd0EMQ",
        "outputId": "e775beea-b339-4ce5-aa00-6cc03bcf1e73"
      },
      "execution_count": null,
      "outputs": [
        {
          "output_type": "stream",
          "name": "stdout",
          "text": [
            "----------------------------------------\n",
            "##### Exclusive Nodes: Unique to Only 1 Brand #####\n",
            "number of nodes: 58\n",
            "number of edges: 55\n",
            "\n",
            "nodes: ['realunogame', 'lululemon', 'reignofapril', 'solefed', 'threadreaderapp', 'orioles', 'wiedenkennedy', 'stockx', 'spicer', 'sacramentokings', 'adidasfootball', 'tandfn', 'fousey', 'trustlessstate', 'pomklementieff', 'marshablackburn', 'adidashoops', 'schmittnyc', 'nike', 'lagalaxy', 'realshellyannfp', 'jonahlupton', 'vaynermedia', 'mpinoe', 'lasparks', 'katgraham', 'vampybitme', 'qrich', 'campaignbrands', 'fastcompany', 'yahoofinance', 'lifeatpurdue', 'hackapreneur', 'complex', 'aarongreenberg', 'nikebasketball', 'atari_jones', 'adidas', 'donaldjtrumpjr', 'jkylebass', 'mattel', 'nyctsubway', 'xbox', 'jermainedupri', 'onsoranje', 'adidasrunning', 'scottwarner18', '1djfirstclass', 'houstondynamo', 'nikestore', 'jamesgunn', 'ericpmusselman', 'adamsconsulting', 'golfdigest', 'brooklynnets', 'lafc', 'legiqn', 'enesfreedom']\n",
            "\n",
            "neighbors of adidas: ['atari_jones', 'jermainedupri', 'aarongreenberg', 'xbox', 'complex', 'katgraham', 'jamesgunn', 'pomklementieff', 'adidashoops', 'adidasrunning', 'legiqn', 'nyctsubway', 'stockx', 'houstondynamo', 'lafc', 'lagalaxy', 'adidasfootball', 'spicer', 'vampybitme', 'brooklynnets']\n",
            "neighbors of nike: ['solefed', 'nikestore', 'fastcompany', 'reignofapril', 'marshablackburn', 'wiedenkennedy', 'nikebasketball', 'orioles', 'fousey', 'sacramentokings', 'enesfreedom', 'lifeatpurdue', 'donaldjtrumpjr', 'lasparks', 'realunogame', 'mattel', 'ericpmusselman', 'qrich', 'threadreaderapp', 'tandfn', 'onsoranje', 'realshellyannfp', 'adamsconsulting', 'jkylebass', 'scottwarner18', '1djfirstclass', 'hackapreneur', 'campaignbrands', 'vaynermedia', 'schmittnyc', 'mpinoe', 'trustlessstate']\n",
            "neighbors of lululemon: ['golfdigest', 'jonahlupton', 'yahoofinance']\n",
            "----------------------------------------\n",
            "\n"
          ]
        }
      ]
    },
    {
      "cell_type": "markdown",
      "source": [
        "##Plot All the Graphs"
      ],
      "metadata": {
        "id": "PtE6MlQy1vyG"
      }
    },
    {
      "cell_type": "code",
      "source": [
        "#plot the baseline graph\n",
        "plot_graph(G = MEN_Graph, file_path='mention_network')"
      ],
      "metadata": {
        "id": "dZlX_cnnW-N7"
      },
      "execution_count": null,
      "outputs": []
    },
    {
      "cell_type": "markdown",
      "source": [
        "![picture](https://drive.google.com/uc?id=13IO-hKQB2S_3O9ZLC4cfnmOIt3NEv2hj)"
      ],
      "metadata": {
        "id": "CAarktVKW-Z6"
      }
    },
    {
      "cell_type": "code",
      "source": [
        "#plot the graph\n",
        "plot_graph(G = MEN_Graph_bridge_3, file_path='mention_network_bridge_all_3')\n",
        "\n",
        "#plot the graph\n",
        "plot_graph(G = MEN_Graph_bridge_na, file_path='mention_network_bridge_nike_adidas')\n",
        "\n",
        "#plot the graph\n",
        "plot_graph(G = MEN_Graph_bridge_nl, file_path='mention_network_bridge_nike_lululemon')\n",
        "\n",
        "#plot the graph\n",
        "plot_graph(G = MEN_Graph_bridge_al, file_path='mention_network_bridge_adidas_lululemon')\n",
        "\n",
        "#plot the exclusive node graph\n",
        "plot_graph(G = MEN_Graph_exc, file_path='mention_network_exclusive')"
      ],
      "metadata": {
        "id": "vxtr5lA11wFf"
      },
      "execution_count": null,
      "outputs": []
    },
    {
      "cell_type": "markdown",
      "metadata": {
        "id": "6jlAjfjMKsS-"
      },
      "source": [
        "# 4.&nbsp;Create a Semantic Network"
      ]
    },
    {
      "cell_type": "markdown",
      "metadata": {
        "id": "5YXDi7s0MjCs"
      },
      "source": [
        "## Data Prep Functions for NLP"
      ]
    },
    {
      "cell_type": "code",
      "execution_count": null,
      "metadata": {
        "id": "8sbt2BvpMmkE"
      },
      "outputs": [],
      "source": [
        "TWEET_TOKENIZER = nltk.TweetTokenizer().tokenize\n",
        "WORD_TOKENIZER = nltk.tokenize.word_tokenize\n",
        "\n",
        "#Removing urls\n",
        "def remove_links(tokens):\n",
        "    \"\"\"Removes http/s links from the tokens.\n",
        "\n",
        "    This simple implementation assumes links have been kept intact as whole\n",
        "    tokens. E.g. the way the Tweet Tokenizer works.\n",
        "    \"\"\"\n",
        "    return [ t for t in tokens\n",
        "            if not t.startswith(\"http://\")\n",
        "            and not t.startswith(\"https://\")\n",
        "        ]\n",
        "\n",
        "#Extracting contextual words from a sentence\n",
        "# tokenizing is taking out all the words in a sentence and turning it into tokens/words\n",
        "def tokenize(text, lowercase=True, tweet=False):\n",
        "    \"\"\"Tokenize the text. By default, also normalizes text to lowercase.\n",
        "    Optionally uses the Tweet Tokenizer.\n",
        "    \"\"\"\n",
        "    if lowercase:\n",
        "        text = text.lower()\n",
        "    if tweet:\n",
        "        return TWEET_TOKENIZER(text)\n",
        "    else:\n",
        "        return WORD_TOKENIZER(text)\n",
        "\n",
        "STEMMER = nltk.PorterStemmer()\n",
        "\n",
        "#stem - peaches : peach : reduce the number of repeated words\n",
        "def stem(tokens):\n",
        "    \"\"\"Stem the tokens. I.e., remove morphological affixes and\n",
        "    normalize to standardized stem forms.\n",
        "\n",
        "    Has the side effective of producing \"unnatural\" forms due to\n",
        "    stemming standards. E.g. quickly becomes quickli\n",
        "    \"\"\"\n",
        "    return [ STEMMER.stem(token) for token in tokens ]\n",
        "\n",
        "LEMMATIZER = nltk.WordNetLemmatizer()\n",
        "\n",
        "# feature reduction. taking words and getting their roots and graphing only the root words\n",
        "def lemmatize(tokens):\n",
        "    \"\"\"Lemmatize the tokens.\n",
        "\n",
        "    Retains more natural word forms than stemming, but assumes all\n",
        "    tokens are nouns unless tokens are passed as (word, pos) tuples.\n",
        "    \"\"\"\n",
        "    lemmas = []\n",
        "    for token in tokens:\n",
        "        if isinstance(token, str):\n",
        "            lemmas.append(LEMMATIZER.lemmatize(token)) # treats token like a noun\n",
        "        else: # assume a tuple of (word, pos)\n",
        "            lemmas.append(LEMMATIZER.lemmatize(*token))\n",
        "    return lemmas\n",
        "\n",
        "# feature reduction. taking words and removing any stopwords\n",
        "def remove_stopwords(tokens, stopwords=None):\n",
        "    \"\"\"Remove stopwords, i.e. words that we don't want as part of our\n",
        "    analysis. Defaults to the default set of nltk english stopwords.\n",
        "    \"\"\"\n",
        "    if stopwords is None:\n",
        "        stopwords = nltk.corpus.stopwords.words(\"english\")\n",
        "    return [ token for token in tokens if token not in stopwords]\n",
        "\n",
        "#inputs a list of tokens and returns a list of unpunctuated tokens/words\n",
        "def remove_punctuation(tokens,\n",
        "                       strip_mentions=False,\n",
        "                       strip_hashtags=False,\n",
        "                       strict=False):\n",
        "    \"\"\"Remove punctuation from a list of tokens.\n",
        "\n",
        "    Has some specialized options for dealing with Tweets:\n",
        "\n",
        "    strip_mentions=True will strip the @ off of @ mentions\n",
        "    strip_hashtags=True will strip the # from hashtags\n",
        "\n",
        "    strict=True will remove all punctuation from all tokens, not merely\n",
        "    just tokens that are punctuation per se.\n",
        "    \"\"\"\n",
        "    tokens = [t for t in tokens if t not in string.punctuation]\n",
        "    if strip_mentions:\n",
        "        tokens = [t.lstrip('@') for t in tokens]\n",
        "    if strip_hashtags:\n",
        "        tokens = [t.lstrip('#') for t in tokens]\n",
        "    if strict:\n",
        "        cleaned = []\n",
        "        for t in tokens:\n",
        "            cleaned.append(\n",
        "                t.translate(str.maketrans('', '', string.punctuation)).strip())\n",
        "        tokens = [t for t in cleaned if t]\n",
        "    return tokens\n",
        "\n",
        "#remove single charecter words\n",
        "def remove_single_words(tokens):\n",
        "  goodwords = []\n",
        "  for a_feature in tokens:\n",
        "    if len(a_feature) > 1:\n",
        "      goodwords.append(a_feature)\n",
        "  return goodwords"
      ]
    },
    {
      "cell_type": "code",
      "source": [
        "def filter_part_of_speech(tokens, tagger=nltk.tag.PerceptronTagger().tag, parts_of_speech=None):\n",
        "  # tokenize text\n",
        "  words = tokens\n",
        "  tags = tagger(words)\n",
        "  tokens = []\n",
        "  # iterate through all the tags and count\n",
        "  for tag in tags:\n",
        "      if parts_of_speech is None or tag[1] in parts_of_speech:\n",
        "        if tag[0] not in tokens:\n",
        "          tokens.append(tag[0])\n",
        "  return tokens"
      ],
      "metadata": {
        "id": "YeHypDow9jeI"
      },
      "execution_count": null,
      "outputs": []
    },
    {
      "cell_type": "code",
      "source": [
        "def data_prep(text):\n",
        "    #natural language pre processing : clean the tweet\n",
        "    tokens = tokenize(text, lowercase=True, tweet=True)\n",
        "    #POS List https://www.ling.upenn.edu/courses/Fall_2003/ling001/penn_treebank_pos.html\n",
        "    tokens = filter_part_of_speech(tokens, parts_of_speech=['NNP', 'NN', 'NNS', 'NNPS', # Nouns of all types\n",
        "                                                            'JJ', 'JJR', 'JJS', # Adjectives of all types\n",
        "                                                            'VB', 'VBD', 'VBG', 'VBN', 'VBP', 'VBZ']) #Verbs of all types\n",
        "    tokens = remove_links(tokens)\n",
        "    tokens = remove_stopwords(tokens, stopwords=stopwords_set)\n",
        "    tokens = remove_punctuation(tokens, strip_mentions=True, strip_hashtags=True)\n",
        "    tokens = lemmatize(tokens)\n",
        "    tokens = remove_single_words(tokens)\n",
        "    #return the processed tokens\n",
        "    return tokens"
      ],
      "metadata": {
        "id": "FLQkd6NfGRIJ"
      },
      "execution_count": null,
      "outputs": []
    },
    {
      "cell_type": "markdown",
      "metadata": {
        "id": "QLWGkRr5LWaW"
      },
      "source": [
        "## Load the Corpus of Tweets"
      ]
    },
    {
      "cell_type": "code",
      "execution_count": null,
      "metadata": {
        "id": "zpWgUpApMxa3"
      },
      "outputs": [],
      "source": [
        "## Load the Product Data\n",
        "##this assigns the filename we're trying to load in to a string variable\n",
        "tweet_file_path = '%s/nikelululemonadidas_tweets.jsonl' % DATA_DIR\n",
        "json_file = open(tweet_file_path, 'r')"
      ]
    },
    {
      "cell_type": "markdown",
      "metadata": {
        "id": "ulBAeClRLzBH"
      },
      "source": [
        "##Create a List of Unique Words"
      ]
    },
    {
      "cell_type": "code",
      "execution_count": null,
      "metadata": {
        "id": "XRCm1AUgaHah"
      },
      "outputs": [],
      "source": [
        "# expand the list of stopwords to use\n",
        "stopwords_set = set(nltk.corpus.stopwords.words(\"english\"))\n",
        "stopwords_set.add('rt')\n",
        "stopwords_set.add(\"'s\")\n",
        "stopwords_set.add('...')\n",
        "stopwords_set.add('..')\n",
        "stopwords_set.add(':/')"
      ]
    },
    {
      "cell_type": "code",
      "execution_count": null,
      "metadata": {
        "colab": {
          "base_uri": "https://localhost:8080/"
        },
        "id": "qDw6CO2IM1t8",
        "outputId": "506f6b48-de82-40f2-8a4c-7b8ffd565cee"
      },
      "outputs": [
        {
          "output_type": "stream",
          "name": "stdout",
          "text": [
            "0 tweets iterated\n",
            "10000 tweets iterated\n",
            "20000 tweets iterated\n",
            "30000 tweets iterated\n",
            "40000 tweets iterated\n",
            "50000 tweets iterated\n",
            "60000 tweets iterated\n",
            "70000 tweets iterated\n",
            "80000 tweets iterated\n",
            "90000 tweets iterated\n",
            "100000 tweets iterated\n",
            "110000 tweets iterated\n",
            "120000 tweets iterated\n",
            "130000 tweets iterated\n",
            "140000 tweets iterated\n",
            "150000 tweets iterated\n",
            "160000 tweets iterated\n",
            "170000 tweets iterated\n",
            "175077 total tweets processed\n"
          ]
        }
      ],
      "source": [
        "unique_words = {}\n",
        "\n",
        "#iterate through all tweets in the corpus\n",
        "for i, line in enumerate(json_file):\n",
        "    if i % 10000 == 0: # Show a periodic status\n",
        "      print(\"%s tweets iterated\" % i)\n",
        "    #load a single tweet and its text\n",
        "          # convert the json list to a dict\n",
        "    if not isinstance(line, dict):\n",
        "        tweet_json = json.loads(line)\n",
        "    else:\n",
        "        tweet_json = line\n",
        "    # get the text from the tweet\n",
        "    text = tweet_json.get(\"full_text\") or tweet_json.get(\"text\")\n",
        "    #natural language pre processing : clean the tweet\n",
        "    tokens = data_prep(text)\n",
        "    # iterate through the tokens, summerize, and count\n",
        "    for aword in tokens:\n",
        "        if aword in unique_words:\n",
        "            unique_words[aword] += 1\n",
        "        if aword not in unique_words:\n",
        "            unique_words[aword] = 1\n",
        "print(f\"{i} total tweets processed\")"
      ]
    },
    {
      "cell_type": "code",
      "execution_count": null,
      "metadata": {
        "colab": {
          "base_uri": "https://localhost:8080/"
        },
        "id": "hp20IqpnM2Ox",
        "outputId": "29082f5f-0829-47cc-bc2b-c5c6090af3ad"
      },
      "outputs": [
        {
          "output_type": "stream",
          "name": "stdout",
          "text": [
            "there are 78327 total words in the sematic network.\n"
          ]
        }
      ],
      "source": [
        "#print the number of unique words in the corpus\n",
        "print('there are', len(unique_words), 'total words in the sematic network.')"
      ]
    },
    {
      "cell_type": "markdown",
      "metadata": {
        "id": "TwlBp_ACLWnB"
      },
      "source": [
        "## Create Word Filter List"
      ]
    },
    {
      "cell_type": "code",
      "execution_count": null,
      "metadata": {
        "colab": {
          "base_uri": "https://localhost:8080/"
        },
        "id": "TQ9-thCwRNrN",
        "outputId": "ad54a0fd-0465-43c1-d283-d780a41f7145"
      },
      "outputs": [
        {
          "output_type": "execute_result",
          "data": {
            "text/plain": [
              "['nike',\n",
              " 'adidas',\n",
              " 'sneakerscouts',\n",
              " 'eneskanter',\n",
              " 'xbox',\n",
              " 'available',\n",
              " 'day',\n",
              " 'air',\n",
              " 'china',\n",
              " 'kingjames']"
            ]
          },
          "metadata": {},
          "execution_count": 38
        }
      ],
      "source": [
        "#create a sorted list of words\n",
        "sorted_counts = sorted(unique_words.items(), key=lambda item: item[1], reverse=True)\n",
        "sorted_words = [word for word, count in sorted_counts]\n",
        "#print the top 10 words in the unique word list\n",
        "sorted_words[:10]"
      ]
    },
    {
      "cell_type": "code",
      "execution_count": null,
      "metadata": {
        "colab": {
          "base_uri": "https://localhost:8080/"
        },
        "id": "jM4_e4LwRdA4",
        "outputId": "5170d966-da19-4a69-a933-d91bb348736c"
      },
      "outputs": [
        {
          "output_type": "stream",
          "name": "stdout",
          "text": [
            "Nike: 102691\n",
            "Adidas: 36256\n",
            "Lululemon: 6226\n"
          ]
        }
      ],
      "source": [
        "#print the word counts for the major brands\n",
        "print(\"Nike:\", unique_words[\"nike\"])\n",
        "print(\"Adidas:\", unique_words[\"adidas\"])\n",
        "print(\"Lululemon:\", unique_words[\"lululemon\"])"
      ]
    },
    {
      "cell_type": "code",
      "execution_count": null,
      "metadata": {
        "colab": {
          "base_uri": "https://localhost:8080/"
        },
        "id": "xZZnqVP3ROME",
        "outputId": "b1517145-dd38-447f-aa99-66c03797e5cc"
      },
      "outputs": [
        {
          "output_type": "stream",
          "name": "stdout",
          "text": [
            "the top terms to include in the graph:\n",
            " ['ene', \"we're\", 'metaverse', 'knight', 'business', 'kick', 'http', 'giannis_an34', 'happy', 'report', 'thank', 'launch', 'sure', 'app', 'fedex', 'nikesb', 'kaya_alexander5', 'fan', 'michael', 'wait', 'buy', 'adidasfballus', 'put', 'mean', 'black', 'running', 'dunk', 'inspired', 'china', \"i'm\", 'slavery', 'give', 'em', 'topps', 'lot', 'damn', 'hey', 'go', 'coming', 'jersey', 'phil', 'campaign', 'rtfktstudios', 'turn', 'eneskanter', 'point', 'book', 'cool', 'product', 'dick', 'woman', 'went', 'nikebasketball', 'man', 'start', 'best', 'send', 'white', 'take', 'follow', 'max', 'change', 'nba', 'know', 'thanks', 'nfl', 'world', 'pink', 'player', 'made', 'real', 'come', 'friend', 'kingjames', 'family', 'favorite', 'release', 'mitchell', 'lululemon', 'want', 'support', 'gear', 'blazer', 'looking', 'air', 'listen', 'austinekeler', 'shit', 'watch', 'heartbroken', 'exclusive', 'partnership', 'inspire', 'time', 'order', 'roblox', 'fly', 'play', 'hyperkin', 'hit', 'lol', 'store', 'find', 'work', 'jumpman23', 'wear', 'people', 'slave', 'story', 'xboxsweepstakes', 'life', 'cnn', 'james', 'atmos_usa', 'using', \"women's\", 'trying', 'theestallion', 'news', 'big', 'brilliant', 'ticket', 'check', 'prize', 'kid', 'true', 'low', 'proud', 'fashion', 'please', 'available', 'snipes_usa', 'shoe', 'use', 'kit', 'course', 'donovan', 'see', 'right', 'feel', 'athlete', 'instagram', 'grey', 'chance', 'drop', \"abloh's\", 'owner', 'week', 'making', 'bring', 'wearing', 'got', 'said', 'fuck', 'community', 'excited', 'love', 'day', 'adidasoriginals', 'way', 'chose', 'ya', 'celtic', 'jordan', 'amazing', 'done', 'girl', 'lfc', 'something', 'icon', 'giving', 'next', 'space', 'snkrs', 'sneakerscouts', 'package', 'thee', 'nike', 'make', 'great', 'bro', 'christmas', 'gonna', 'graduation', 'snkr_twitr', 'first', 'plane', 'year', 'congrats', 'let', 'date', 'virgil', 'link', 'scctradingcards', 'night', 'lexxdaturtle', 'pack', 'se', 'sneakeradmirals', 'ronwyden', 'brand', 'lasership', 'amazon', 'number', 'get', 'sneaker', 'name', 'size', 'getting', 'money', 'care', 'force', 'win', 'generation', 'ad', 'much', 'nicekicks', 'innovation', 'look', 'company', 'stay', 'yardrunner', 'modern', 'customer', 'nothing', 'need', 'one', 'good', 'nikestore', 'anything', 'dear', 'baseball', 'try', 'nikenyc', 'including', 'kanter', 'impossibleisnothing', 'maybes', 'bought', 'guy', 'better', 'nba_newyork', 'congratulation', 'footlocker', 'going', 'top', \"let's\", 'pair', 'game', 'someone', 'solefed', 'forced', 'month', 'call', 'say', 'high', 'sport', 'deal', 'welcome', 'stop', 'finishline', 'enduyghurforcedlabor', 'nft', 'card', 'today', 'hope', 'logo', 'service', 'everyone', 'ht', 'show', 'ebay', 'thing', 'issue', 'purple', 'boredapeyc', 'keep', 'centre', 'passing', 'tell', 'part', 'future', 'adidas', 'crazy', 'flyknit', 'labor', 'think', 'last', 'new', 'xbox', 'help', 'red', 'season', 'nice', 'lebron', 'run', 'blue', 'team', 'vapormax', 'many']\n"
          ]
        }
      ],
      "source": [
        "#select the top N words to include in the sematic graph\n",
        "brand_users = ['nike', 'lululemon', 'adidas']\n",
        "N = 300\n",
        "top_terms = list(set(sorted_words[:N] + brand_users))\n",
        "print('the top terms to include in the graph:\\n', top_terms)"
      ]
    },
    {
      "cell_type": "code",
      "source": [
        "#top_terms"
      ],
      "metadata": {
        "id": "T5yPk-U3mFWH"
      },
      "execution_count": null,
      "outputs": []
    },
    {
      "cell_type": "code",
      "execution_count": null,
      "metadata": {
        "colab": {
          "base_uri": "https://localhost:8080/"
        },
        "id": "_2aVNGg9YwHk",
        "outputId": "0dde815e-68dd-4a61-ab82-d6a10514873e"
      },
      "outputs": [
        {
          "output_type": "stream",
          "name": "stdout",
          "text": [
            "770\n"
          ]
        }
      ],
      "source": [
        "words_to_include = set()\n",
        "#play with this number to get around 1000 words\n",
        "min_word_count = 300\n",
        "\n",
        "# a set is a unique list\n",
        "word_count = 0\n",
        "\n",
        "#iterate through the list of unique users and filter down the list\n",
        "for aword in unique_words:\n",
        "    if unique_words[aword] >= min_word_count:\n",
        "        word_count += 1\n",
        "        words_to_include.add(aword)\n",
        "print(len(words_to_include))"
      ]
    },
    {
      "cell_type": "code",
      "execution_count": null,
      "metadata": {
        "colab": {
          "base_uri": "https://localhost:8080/"
        },
        "id": "4Nerhc7eZNrB",
        "outputId": "cd483ce0-6bbd-4bbe-fe47-03b1437690c3"
      },
      "outputs": [
        {
          "output_type": "stream",
          "name": "stdout",
          "text": [
            "there are 770 words to include in the final semantic network.\n",
            "0.98% of the total users are included in the mention network.\n"
          ]
        }
      ],
      "source": [
        "#print the number of unique users to include in the graph\n",
        "print('there are', len(words_to_include), 'words to include in the final semantic network.')\n",
        "pct_of_total = round(len(words_to_include) / len(unique_words),4) * 100\n",
        "print(f\"{pct_of_total}% of the total users are included in the mention network.\")"
      ]
    },
    {
      "cell_type": "markdown",
      "metadata": {
        "id": "lHfRCS7URDpj"
      },
      "source": [
        "## Create the Semantic Graph Object"
      ]
    },
    {
      "cell_type": "code",
      "execution_count": null,
      "metadata": {
        "id": "tbm3ChsRS-D9"
      },
      "outputs": [],
      "source": [
        "#load the source data\n",
        "tweet_file_path = '%s/nikelululemonadidas_tweets.jsonl' % DATA_DIR\n",
        "json_file = open(tweet_file_path, 'r')"
      ]
    },
    {
      "cell_type": "code",
      "execution_count": null,
      "metadata": {
        "id": "0f_asBLOS-IV"
      },
      "outputs": [],
      "source": [
        "#create a blank graph object\n",
        "SEM_Graph = nx.Graph()"
      ]
    },
    {
      "cell_type": "code",
      "execution_count": null,
      "metadata": {
        "colab": {
          "base_uri": "https://localhost:8080/"
        },
        "id": "voZ8YW8sSSnm",
        "outputId": "afbe0f92-1130-41c2-d373-46ff515e73d0"
      },
      "outputs": [
        {
          "output_type": "stream",
          "name": "stdout",
          "text": [
            "0 tweets iterated\n",
            "\n",
            "Just a glimpse so you can see what the cooccurrences for a tweet look like:\n",
            "[('nike', \"women's\"), ('nike', 'air'), ('nike', 'white'), ('nike', 'available'), ('nike', 'footlocker'), ('nike', 'sneakerscouts'), ('nike', 'nike'), (\"women's\", 'air'), (\"women's\", 'white'), (\"women's\", 'available'), (\"women's\", 'footlocker'), (\"women's\", 'sneakerscouts'), (\"women's\", 'nike'), ('air', 'white'), ('air', 'available'), ('air', 'footlocker'), ('air', 'sneakerscouts'), ('air', 'nike'), ('white', 'available'), ('white', 'footlocker'), ('white', 'sneakerscouts'), ('white', 'nike'), ('available', 'footlocker'), ('available', 'sneakerscouts'), ('available', 'nike'), ('footlocker', 'sneakerscouts'), ('footlocker', 'nike'), ('sneakerscouts', 'nike')] \n",
            "\n",
            "10000 tweets iterated\n",
            "\n",
            "Just a glimpse so you can see what the cooccurrences for a tweet look like:\n",
            "[('nike', 'order'), ('nike', 'look'), ('nike', 'someone'), ('order', 'look'), ('order', 'someone'), ('look', 'someone')] \n",
            "\n",
            "20000 tweets iterated\n",
            "\n",
            "Just a glimpse so you can see what the cooccurrences for a tweet look like:\n",
            "[('austinekeler', 'adidas')] \n",
            "\n",
            "30000 tweets iterated\n",
            "\n",
            "Just a glimpse so you can see what the cooccurrences for a tweet look like:\n",
            "[('xbox', 'adidas'), ('xbox', 'hyperkin'), ('xbox', 'xboxsweepstakes'), ('adidas', 'hyperkin'), ('adidas', 'xboxsweepstakes'), ('hyperkin', 'xboxsweepstakes')] \n",
            "\n",
            "40000 tweets iterated\n",
            "\n",
            "Just a glimpse so you can see what the cooccurrences for a tweet look like:\n",
            "[('xbox', 'icon'), ('xbox', 'adidas'), ('xbox', 'xbox'), ('xbox', 'follow'), ('xbox', 'xboxsweepstakes'), ('xbox', 'chance'), ('xbox', 'win'), ('xbox', 'exclusive'), ('xbox', 'kit'), ('xbox', 'including'), ('icon', 'adidas'), ('icon', 'xbox'), ('icon', 'follow'), ('icon', 'xboxsweepstakes'), ('icon', 'chance'), ('icon', 'win'), ('icon', 'exclusive'), ('icon', 'kit'), ('icon', 'including'), ('adidas', 'xbox'), ('adidas', 'follow'), ('adidas', 'xboxsweepstakes'), ('adidas', 'chance'), ('adidas', 'win'), ('adidas', 'exclusive'), ('adidas', 'kit'), ('adidas', 'including'), ('xbox', 'follow'), ('xbox', 'xboxsweepstakes'), ('xbox', 'chance'), ('xbox', 'win'), ('xbox', 'exclusive'), ('xbox', 'kit'), ('xbox', 'including'), ('follow', 'xboxsweepstakes'), ('follow', 'chance'), ('follow', 'win'), ('follow', 'exclusive'), ('follow', 'kit'), ('follow', 'including'), ('xboxsweepstakes', 'chance'), ('xboxsweepstakes', 'win'), ('xboxsweepstakes', 'exclusive'), ('xboxsweepstakes', 'kit'), ('xboxsweepstakes', 'including'), ('chance', 'win'), ('chance', 'exclusive'), ('chance', 'kit'), ('chance', 'including'), ('win', 'exclusive'), ('win', 'kit'), ('win', 'including'), ('exclusive', 'kit'), ('exclusive', 'including'), ('kit', 'including')] \n",
            "\n",
            "50000 tweets iterated\n",
            "\n",
            "Just a glimpse so you can see what the cooccurrences for a tweet look like:\n",
            "[('eneskanter', 'dear'), ('eneskanter', 'stop'), ('eneskanter', 'modern'), ('eneskanter', 'day'), ('eneskanter', 'slavery'), ('eneskanter', 'enduyghurforcedlabor'), ('dear', 'stop'), ('dear', 'modern'), ('dear', 'day'), ('dear', 'slavery'), ('dear', 'enduyghurforcedlabor'), ('stop', 'modern'), ('stop', 'day'), ('stop', 'slavery'), ('stop', 'enduyghurforcedlabor'), ('modern', 'day'), ('modern', 'slavery'), ('modern', 'enduyghurforcedlabor'), ('day', 'slavery'), ('day', 'enduyghurforcedlabor'), ('slavery', 'enduyghurforcedlabor')] \n",
            "\n",
            "60000 tweets iterated\n",
            "\n",
            "Just a glimpse so you can see what the cooccurrences for a tweet look like:\n",
            "[('eneskanter', 'owner'), ('eneskanter', 'nike'), ('eneskanter', 'phil'), ('eneskanter', 'knight'), ('eneskanter', 'book'), ('eneskanter', 'plane'), ('eneskanter', 'ticket'), ('eneskanter', \"let's\"), ('eneskanter', 'fly'), ('eneskanter', 'china'), ('eneskanter', 'try'), ('owner', 'nike'), ('owner', 'phil'), ('owner', 'knight'), ('owner', 'book'), ('owner', 'plane'), ('owner', 'ticket'), ('owner', \"let's\"), ('owner', 'fly'), ('owner', 'china'), ('owner', 'try'), ('nike', 'phil'), ('nike', 'knight'), ('nike', 'book'), ('nike', 'plane'), ('nike', 'ticket'), ('nike', \"let's\"), ('nike', 'fly'), ('nike', 'china'), ('nike', 'try'), ('phil', 'knight'), ('phil', 'book'), ('phil', 'plane'), ('phil', 'ticket'), ('phil', \"let's\"), ('phil', 'fly'), ('phil', 'china'), ('phil', 'try'), ('knight', 'book'), ('knight', 'plane'), ('knight', 'ticket'), ('knight', \"let's\"), ('knight', 'fly'), ('knight', 'china'), ('knight', 'try'), ('book', 'plane'), ('book', 'ticket'), ('book', \"let's\"), ('book', 'fly'), ('book', 'china'), ('book', 'try'), ('plane', 'ticket'), ('plane', \"let's\"), ('plane', 'fly'), ('plane', 'china'), ('plane', 'try'), ('ticket', \"let's\"), ('ticket', 'fly'), ('ticket', 'china'), ('ticket', 'try'), (\"let's\", 'fly'), (\"let's\", 'china'), (\"let's\", 'try'), ('fly', 'china'), ('fly', 'try'), ('china', 'try')] \n",
            "\n",
            "70000 tweets iterated\n",
            "\n",
            "Just a glimpse so you can see what the cooccurrences for a tweet look like:\n",
            "[('sneakerscouts', 'ad'), ('sneakerscouts', 'nike'), ('sneakerscouts', 'air'), ('sneakerscouts', 'force'), ('sneakerscouts', 'available'), ('sneakerscouts', 'finishline'), ('sneakerscouts', 'sneakerscouts'), ('sneakerscouts', 'nike'), ('ad', 'nike'), ('ad', 'air'), ('ad', 'force'), ('ad', 'available'), ('ad', 'finishline'), ('ad', 'sneakerscouts'), ('ad', 'nike'), ('nike', 'air'), ('nike', 'force'), ('nike', 'available'), ('nike', 'finishline'), ('nike', 'sneakerscouts'), ('nike', 'nike'), ('air', 'force'), ('air', 'available'), ('air', 'finishline'), ('air', 'sneakerscouts'), ('air', 'nike'), ('force', 'available'), ('force', 'finishline'), ('force', 'sneakerscouts'), ('force', 'nike'), ('available', 'finishline'), ('available', 'sneakerscouts'), ('available', 'nike'), ('finishline', 'sneakerscouts'), ('finishline', 'nike'), ('sneakerscouts', 'nike')] \n",
            "\n",
            "80000 tweets iterated\n",
            "\n",
            "Just a glimpse so you can see what the cooccurrences for a tweet look like:\n",
            "[('sneakerscouts', 'ad'), ('sneakerscouts', 'nike'), ('sneakerscouts', \"women's\"), ('sneakerscouts', 'air'), ('sneakerscouts', 'vapormax'), ('sneakerscouts', 'red'), ('sneakerscouts', 'white'), ('sneakerscouts', 'available'), ('sneakerscouts', 'footlocker'), ('sneakerscouts', 'sneakerscouts'), ('sneakerscouts', 'nike'), ('sneakerscouts', 'http'), ('ad', 'nike'), ('ad', \"women's\"), ('ad', 'air'), ('ad', 'vapormax'), ('ad', 'red'), ('ad', 'white'), ('ad', 'available'), ('ad', 'footlocker'), ('ad', 'sneakerscouts'), ('ad', 'nike'), ('ad', 'http'), ('nike', \"women's\"), ('nike', 'air'), ('nike', 'vapormax'), ('nike', 'red'), ('nike', 'white'), ('nike', 'available'), ('nike', 'footlocker'), ('nike', 'sneakerscouts'), ('nike', 'nike'), ('nike', 'http'), (\"women's\", 'air'), (\"women's\", 'vapormax'), (\"women's\", 'red'), (\"women's\", 'white'), (\"women's\", 'available'), (\"women's\", 'footlocker'), (\"women's\", 'sneakerscouts'), (\"women's\", 'nike'), (\"women's\", 'http'), ('air', 'vapormax'), ('air', 'red'), ('air', 'white'), ('air', 'available'), ('air', 'footlocker'), ('air', 'sneakerscouts'), ('air', 'nike'), ('air', 'http'), ('vapormax', 'red'), ('vapormax', 'white'), ('vapormax', 'available'), ('vapormax', 'footlocker'), ('vapormax', 'sneakerscouts'), ('vapormax', 'nike'), ('vapormax', 'http'), ('red', 'white'), ('red', 'available'), ('red', 'footlocker'), ('red', 'sneakerscouts'), ('red', 'nike'), ('red', 'http'), ('white', 'available'), ('white', 'footlocker'), ('white', 'sneakerscouts'), ('white', 'nike'), ('white', 'http'), ('available', 'footlocker'), ('available', 'sneakerscouts'), ('available', 'nike'), ('available', 'http'), ('footlocker', 'sneakerscouts'), ('footlocker', 'nike'), ('footlocker', 'http'), ('sneakerscouts', 'nike'), ('sneakerscouts', 'http'), ('nike', 'http')] \n",
            "\n",
            "90000 tweets iterated\n",
            "\n",
            "Just a glimpse so you can see what the cooccurrences for a tweet look like:\n",
            "[('nike', 'woman'), ('nike', 'team'), ('nike', 'get'), ('woman', 'team'), ('woman', 'get'), ('team', 'get')] \n",
            "\n",
            "100000 tweets iterated\n",
            "\n",
            "Just a glimpse so you can see what the cooccurrences for a tweet look like:\n",
            "[('nike', 'partnership'), ('nike', 'deal'), ('partnership', 'deal')] \n",
            "\n",
            "110000 tweets iterated\n",
            "\n",
            "Just a glimpse so you can see what the cooccurrences for a tweet look like:\n",
            "[('get', 'show'), ('get', 'happy'), ('get', 'nike'), ('get', 'kid'), ('show', 'happy'), ('show', 'nike'), ('show', 'kid'), ('happy', 'nike'), ('happy', 'kid'), ('nike', 'kid')] \n",
            "\n",
            "120000 tweets iterated\n",
            "\n",
            "Just a glimpse so you can see what the cooccurrences for a tweet look like:\n",
            "[('kingjames', 'slavery'), ('kingjames', 'china'), ('kingjames', 'lebron'), ('slavery', 'china'), ('slavery', 'lebron'), ('china', 'lebron')] \n",
            "\n",
            "130000 tweets iterated\n",
            "\n",
            "Just a glimpse so you can see what the cooccurrences for a tweet look like:\n",
            "[('nike', 'air'), ('nike', 'vapormax'), ('nike', 'flyknit'), ('nike', 'logo'), ('nike', 'pack'), ('nike', 'available'), ('nike', 'finishline'), ('nike', 'sneakerscouts'), ('nike', 'nike'), ('air', 'vapormax'), ('air', 'flyknit'), ('air', 'logo'), ('air', 'pack'), ('air', 'available'), ('air', 'finishline'), ('air', 'sneakerscouts'), ('air', 'nike'), ('vapormax', 'flyknit'), ('vapormax', 'logo'), ('vapormax', 'pack'), ('vapormax', 'available'), ('vapormax', 'finishline'), ('vapormax', 'sneakerscouts'), ('vapormax', 'nike'), ('flyknit', 'logo'), ('flyknit', 'pack'), ('flyknit', 'available'), ('flyknit', 'finishline'), ('flyknit', 'sneakerscouts'), ('flyknit', 'nike'), ('logo', 'pack'), ('logo', 'available'), ('logo', 'finishline'), ('logo', 'sneakerscouts'), ('logo', 'nike'), ('pack', 'available'), ('pack', 'finishline'), ('pack', 'sneakerscouts'), ('pack', 'nike'), ('available', 'finishline'), ('available', 'sneakerscouts'), ('available', 'nike'), ('finishline', 'sneakerscouts'), ('finishline', 'nike'), ('sneakerscouts', 'nike')] \n",
            "\n",
            "140000 tweets iterated\n",
            "\n",
            "Just a glimpse so you can see what the cooccurrences for a tweet look like:\n",
            "[('nike', 'jumpman23'), ('nike', 'hit'), ('nike', 'put'), ('nike', 'cool'), ('nike', 'grey'), ('nike', 'snkrs'), ('nike', 'app'), ('nike', 'give'), ('nike', 'come'), ('nike', 'better'), ('nike', 'way'), ('nike', 'get'), ('nike', 'pair'), ('nike', 'order'), ('jumpman23', 'hit'), ('jumpman23', 'put'), ('jumpman23', 'cool'), ('jumpman23', 'grey'), ('jumpman23', 'snkrs'), ('jumpman23', 'app'), ('jumpman23', 'give'), ('jumpman23', 'come'), ('jumpman23', 'better'), ('jumpman23', 'way'), ('jumpman23', 'get'), ('jumpman23', 'pair'), ('jumpman23', 'order'), ('hit', 'put'), ('hit', 'cool'), ('hit', 'grey'), ('hit', 'snkrs'), ('hit', 'app'), ('hit', 'give'), ('hit', 'come'), ('hit', 'better'), ('hit', 'way'), ('hit', 'get'), ('hit', 'pair'), ('hit', 'order'), ('put', 'cool'), ('put', 'grey'), ('put', 'snkrs'), ('put', 'app'), ('put', 'give'), ('put', 'come'), ('put', 'better'), ('put', 'way'), ('put', 'get'), ('put', 'pair'), ('put', 'order'), ('cool', 'grey'), ('cool', 'snkrs'), ('cool', 'app'), ('cool', 'give'), ('cool', 'come'), ('cool', 'better'), ('cool', 'way'), ('cool', 'get'), ('cool', 'pair'), ('cool', 'order'), ('grey', 'snkrs'), ('grey', 'app'), ('grey', 'give'), ('grey', 'come'), ('grey', 'better'), ('grey', 'way'), ('grey', 'get'), ('grey', 'pair'), ('grey', 'order'), ('snkrs', 'app'), ('snkrs', 'give'), ('snkrs', 'come'), ('snkrs', 'better'), ('snkrs', 'way'), ('snkrs', 'get'), ('snkrs', 'pair'), ('snkrs', 'order'), ('app', 'give'), ('app', 'come'), ('app', 'better'), ('app', 'way'), ('app', 'get'), ('app', 'pair'), ('app', 'order'), ('give', 'come'), ('give', 'better'), ('give', 'way'), ('give', 'get'), ('give', 'pair'), ('give', 'order'), ('come', 'better'), ('come', 'way'), ('come', 'get'), ('come', 'pair'), ('come', 'order'), ('better', 'way'), ('better', 'get'), ('better', 'pair'), ('better', 'order'), ('way', 'get'), ('way', 'pair'), ('way', 'order'), ('get', 'pair'), ('get', 'order'), ('pair', 'order')] \n",
            "\n",
            "150000 tweets iterated\n",
            "160000 tweets iterated\n",
            "\n",
            "Just a glimpse so you can see what the cooccurrences for a tweet look like:\n",
            "[('gear', 'nike'), ('gear', 'jumpman23'), ('gear', 'nike'), ('nike', 'jumpman23'), ('nike', 'nike'), ('jumpman23', 'nike')] \n",
            "\n",
            "170000 tweets iterated\n",
            "\n",
            "Just a glimpse so you can see what the cooccurrences for a tweet look like:\n",
            "[('adidas', 'win'), ('adidas', 'dunk'), ('adidas', 'lol'), ('adidas', 'think'), ('adidas', 'donovan'), ('adidas', 'done'), ('adidas', 'take'), ('adidas', 'anything'), ('win', 'dunk'), ('win', 'lol'), ('win', 'think'), ('win', 'donovan'), ('win', 'done'), ('win', 'take'), ('win', 'anything'), ('dunk', 'lol'), ('dunk', 'think'), ('dunk', 'donovan'), ('dunk', 'done'), ('dunk', 'take'), ('dunk', 'anything'), ('lol', 'think'), ('lol', 'donovan'), ('lol', 'done'), ('lol', 'take'), ('lol', 'anything'), ('think', 'donovan'), ('think', 'done'), ('think', 'take'), ('think', 'anything'), ('donovan', 'done'), ('donovan', 'take'), ('donovan', 'anything'), ('done', 'take'), ('done', 'anything'), ('take', 'anything')] \n",
            "\n",
            "175077 total tweets processed\n"
          ]
        }
      ],
      "source": [
        "# Identify unique users in the semantic network\n",
        "for i, line in enumerate(json_file):\n",
        "    #provide an update on processing progress\n",
        "    if i % 10000 == 0: # Show a periodic status\n",
        "      print(\"%s tweets iterated\" % i)\n",
        "    #load a single tweet and its text\n",
        "          # convert the json list to a dict\n",
        "    if not isinstance(line, dict):\n",
        "        tweet_json = json.loads(line)\n",
        "    else:\n",
        "        tweet_json = line\n",
        "    # get the text from the tweet\n",
        "    text = tweet_json.get(\"full_text\") or tweet_json.get(\"text\")\n",
        "    #natural language pre processing : clean the tweet\n",
        "    tokens = data_prep(text)\n",
        "    #reduce the tweet to terms in the 1000 word network and add the\n",
        "    nodes = [t for t in tokens if t in top_terms]\n",
        "    if len(nodes) > 0:\n",
        "      # term relationships to the graph\n",
        "      cooccurrences = itertools.combinations(nodes, 2)\n",
        "      #peek under the hood at what is being added to the graph\n",
        "      if i % 10000 == 0:\n",
        "          print(\"\\nJust a glimpse so you can see what the cooccurrences for a tweet look like:\")\n",
        "          cooccurrences = list(cooccurrences)\n",
        "          print(cooccurrences,'\\n')\n",
        "      #iterate through all the combinations\n",
        "      for c in cooccurrences:\n",
        "        if c[0] != c[1]:\n",
        "          #add the tuples of words as edges to the graph\n",
        "          if SEM_Graph.has_edge(c[0], c[1]):\n",
        "            # If the edge exists, increment its weight\n",
        "            SEM_Graph[c[0]][c[1]]['weight'] += 1\n",
        "          else:\n",
        "            # If the edge doesn't exist, add it with weight=1\n",
        "            SEM_Graph.add_edge(c[0], c[1], weight=1)\n",
        "print(f\"{i} total tweets processed\")"
      ]
    },
    {
      "cell_type": "code",
      "execution_count": null,
      "metadata": {
        "colab": {
          "base_uri": "https://localhost:8080/"
        },
        "id": "N9PmNIZCSxBJ",
        "outputId": "6448ccdf-ffbd-46d7-9d71-023a71215d81"
      },
      "outputs": [
        {
          "output_type": "stream",
          "name": "stdout",
          "text": [
            "----------------------------------------\n",
            "##### Graph Summary #####\n",
            "number of nodes: 300\n",
            "number of edges: 33553\n",
            "\n",
            "nodes: ['nike', \"women's\", 'air', 'white', 'available', 'footlocker', 'sneakerscouts', 'adidas', 'lasership', 'work', 'next', 'ad', 'space', 'low', 'snipes_usa', 'snkrs', 'get', 'nikebasketball', 'partnership', 'team', 'release', 'jordan', 'real', 'support', 'friend', 'family', 'kaya_alexander5', 'nikestore', 'sneakeradmirals', 'pair', 'lot', 'wait', 'game', 'jumpman23', 'cnn', 'instagram', 'ebay', 'amazon', 'business', 'max', 'ht', 'dunk', 'adidasoriginals', 'look', 'wearing', 'say', 'drop', 'time', 'vapormax', 'flyknit', 'finishline', 'much', 'people', 'nicekicks', 'snkr_twitr', 'good', 'sport', 'week', 'take', 'black', 'lol', 'think', 'care', 'deal', 'run', 'company', 'win', 'guy', 'see', 'way', 'keep', 'play', 'top', 'going', 'year', 'thank', 'great', 'getting', 'show', 'making', 'want', 'kingjames', 'start', 'blazer', 'red', 'need', 'jersey', 'sneaker', 'day', 'date', 'fashion', 'know', 'thanks', 'something', 'trying', 'issue', 'let', 'make', 'sure', 'love', 'buy', 'everyone', 'theestallion', 'thee', 'app', 'go', 'shoe', 'part', 'grey', 'hey', 'cool', 'exclusive', 'got', 'brand', 'new', 'customer', 'bought', 'blue', 'month', 'turn', 'please', 'use', 'package', 'put', 'lululemon', 'happy', \"we're\", 'giving', 'store', 'running', 'force', 'thing', \"i'm\", 'woman', 'service', 'night', 'gonna', 'first', 'help', 'change', 'bro', 'best', 'right', 'order', 'congrats', 'se', 'gear', 'http', 'season', 'one', 'kit', 'lfc', 'looking', 'man', 'many', 'size', 'last', 'chance', 'said', 'tell', 'campaign', 'link', 'story', 'today', 'nikenyc', 'girl', 'point', 'stay', 'em', 'hit', 'nice', 'product', 'stop', 'adidasfballus', 'shit', 'money', 'fly', 'atmos_usa', 'ticket', 'dick', 'big', 'pink', 'find', 'lebron', 'james', 'athlete', 'kick', 'fan', 'wear', 'check', 'icon', 'follow', 'done', 'community', 'try', 'amazing', 'life', 'send', 'favorite', 'congratulation', 'feel', 'crazy', 'world', 'bring', 'christmas', 'report', 'high', 'forced', 'watch', 'made', 'modern', 'phil', 'knight', 'name', 'welcome', 'slave', 'labor', 'number', 'innovation', 'mean', 'come', 'better', 'purple', 'fedex', 'logo', 'pack', 'give', 'card', 'true', 'hope', 'fuck', 'future', 'passing', 'someone', 'lexxdaturtle', 'damn', 'kid', 'prize', 'nfl', 'chose', 'nothing', 'player', \"let's\", 'dear', 'course', 'using', 'book', 'nikesb', 'ya', 'nft', 'anything', 'call', 'went', 'coming', 'solefed', 'excited', 'china', 'listen', 'michael', 'nba', 'celtic', 'proud', 'including', 'launch', 'impossibleisnothing', 'xbox', 'inspire', 'slavery', 'inspired', 'news', 'owner', 'brilliant', 'baseball', 'metaverse', 'centre', 'giannis_an34', 'roblox', 'donovan', 'mitchell', 'austinekeler', 'yardrunner', 'generation', 'heartbroken', 'xboxsweepstakes', 'hyperkin', 'plane', 'eneskanter', 'kanter', 'rtfktstudios', 'ene', 'enduyghurforcedlabor', 'boredapeyc', 'graduation', 'scctradingcards', 'topps', 'virgil', \"abloh's\", 'nba_newyork', 'ronwyden', 'maybes']\n",
            "\n",
            "neighbors of adidas: ['available', 'partnership', 'nike', 'real', 'get', 'support', 'friend', 'family', 'adidasoriginals', 'look', 'wearing', 'say', 'drop', 'much', 'people', 'lol', 'deal', 'black', 'run', 'company', 'thank', 'great', 'team', 'getting', 'red', 'need', 'jersey', 'start', 'know', 'play', 'bought', 'pair', 'blue', 'month', 'please', 'next', 'sneaker', 'love', 'new', 'grey', 'year', 'thanks', 'service', 'shoe', 'keep', 'night', 'gonna', 'right', 'brand', 'make', 'sure', 'gear', 'see', 'got', 'one', 'good', 'day', 'top', 'trying', 'tell', 'let', 'think', 'today', 'way', 'snkr_twitr', 'adidasfballus', \"we're\", 'em', 'want', 'man', 'show', 'first', 'athlete', 'size', 'check', 'icon', 'done', 'kit', 'follow', 'instagram', 'http', 'try', 'amazing', 'help', 'life', 'fan', 'order', 'wait', 'work', 'watch', 'looking', 'fly', 'season', 'modern', 'time', 'store', 'win', 'point', 'world', 'better', 'hey', 'going', 'big', 'welcome', 'many', \"i'm\", 'hope', 'take', 'care', 'find', 'white', 'give', 'future', 'passing', 'guy', 'girl', 'card', 'prize', 'nice', 'feel', \"women's\", 'lasership', 'package', 'customer', 'money', 'nft', 'favorite', 'sport', 'bring', 'happy', 'last', 'everyone', 'put', 'excited', \"let's\", 'buy', 'stop', 'something', 'thing', 'made', 'player', 'high', 'app', 'china', 'campaign', 'ad', 'snipes_usa', 'running', 'release', 'bro', 'stay', 'using', 'kick', 'impossibleisnothing', 'best', 'jumpman23', 'nfl', 'nba', 'said', 'wear', 'product', 'game', 'pack', 'send', 'kid', 'mean', 'shit', 'someone', 'crazy', 'cool', 'week', 'part', 'come', 'call', 'inspire', 'congrats', 'use', 'lot', 'go', 'change', 'nothing', 'name', 'anything', 'exclusive', 'went', 'congratulation', 'turn', 'amazon', 'proud', 'number', 'damn', 'true', 'giving', 'link', 'course', 'nikebasketball', 'woman', 'fedex', 'nikestore', 'owner', 'date', 'low', 'making', 'business', 'pink', 'footlocker', 'story', 'xbox', 'news', 'community', 'book', 'innovation', 'brilliant', 'report', 'sneakeradmirals', 'chose', 'nikenyc', 'issue', 'lululemon', 'james', 'fuck', 'ebay', 'coming', 'inspired', 'launch', 'ticket', 'nicekicks', 'including', 'air', 'logo', 'jordan', 'force', 'fashion', 'michael', 'hit', 'slave', 'labor', 'dear', 'purple', 'space', 'chance', 'forced', 'baseball', 'dick', 'theestallion', 'cnn', 'max', 'christmas', 'snkrs', 'dunk', 'knight', 'phil', 'ya', 'donovan', 'mitchell', 'austinekeler', 'atmos_usa', 'solefed', 'generation', 'kingjames', 'se', 'xboxsweepstakes', 'hyperkin', 'roblox', 'plane', 'lexxdaturtle', 'finishline', 'celtic', 'blazer', 'heartbroken', 'ht', 'eneskanter', 'nikesb', 'kanter', 'giannis_an34', 'lfc', 'topps', 'listen', 'boredapeyc', 'centre', 'lebron', 'metaverse', 'flyknit', 'rtfktstudios', 'kaya_alexander5', 'scctradingcards', 'thee', 'graduation', 'slavery', 'maybes']\n",
            "neighbors of nike: [\"women's\", 'air', 'white', 'available', 'footlocker', 'sneakerscouts', 'lasership', 'work', 'next', 'snkrs', 'get', 'nikebasketball', 'partnership', 'adidas', 'team', 'release', 'jordan', 'lot', 'wait', 'cnn', 'instagram', 'ebay', 'amazon', 'business', 'ad', 'max', 'snipes_usa', 'ht', 'dunk', 'time', 'vapormax', 'flyknit', 'finishline', 'jumpman23', 'sneakeradmirals', 'nicekicks', 'snkr_twitr', 'look', 'good', 'black', 'think', 'people', 'care', 'win', 'guy', 'see', 'way', 'keep', 'play', 'say', 'top', 'going', 'year', 'show', 'making', 'want', 'space', 'low', 'kingjames', 'start', 'blazer', 'getting', 'thanks', 'something', 'trying', 'issue', 'go', 'shoe', 'part', 'support', 'grey', 'turn', 'new', 'use', 'company', 'package', 'put', 'week', 'know', 'thing', \"i'm\", 'woman', 'day', 'red', 'let', 'order', 'congrats', 'customer', 'force', 'se', 'happy', 'http', 'season', 'lol', 'store', 'kit', 'lfc', 'real', 'game', 'jersey', 'man', 'many', 'pair', 'size', 'last', 'chance', 'said', 'please', 'app', 'nikenyc', 'girl', 'point', 'blue', 'night', 'love', 'today', 'make', 'money', 'take', 'link', 'right', 'atmos_usa', 'great', 'nikestore', 'dick', 'sure', 'brand', 'pink', 'need', 'stop', 'giving', 'kick', 'buy', 'sport', 'story', 'check', 'sneaker', 'thank', 'got', 'send', 'favorite', 'product', 'world', 'bring', 'christmas', 'report', 'high', 'forced', 'best', 'made', 'big', 'phil', 'knight', 'athlete', 'name', 'much', 'kaya_alexander5', 'welcome', 'slave', 'labor', 'number', 'innovation', 'mean', 'come', 'em', 'lebron', 'run', 'purple', 'fan', 'fedex', 'help', 'bro', 'service', 'logo', 'pack', 'true', 'watch', 'looking', 'give', 'fuck', 'shit', 'tell', 'campaign', 'lexxdaturtle', 'gonna', 'community', 'one', 'nice', 'damn', 'amazing', 'month', 'done', 'theestallion', 'player', 'nothing', 'fashion', 'follow', 'gear', 'nfl', 'first', 'icon', 'book', 'cool', 'nikesb', 'bought', 'try', 'wearing', 'anything', 'call', 'feel', 'deal', 'hit', \"we're\", 'life', 'hey', 'wear', 'went', 'better', 'coming', 'solefed', 'kid', 'excited', 'change', 'everyone', 'china', 'crazy', 'find', 'running', 'modern', 'listen', 'michael', 'nba', 'celtic', 'including', 'someone', 'hope', 'future', 'launch', 'exclusive', 'course', 'family', 'using', 'drop', 'xbox', 'dear', 'friend', 'stay', 'thee', 'date', 'card', 'congratulation', 'inspire', 'james', 'prize', 'inspired', \"let's\", 'news', 'ya', 'owner', 'brilliant', 'adidasoriginals', 'baseball', 'nft', 'proud', 'fly', 'lululemon', 'passing', 'slavery', 'giannis_an34', 'ticket', 'metaverse', 'roblox', 'yardrunner', 'heartbroken', 'chose', 'centre', 'hyperkin', 'xboxsweepstakes', 'mitchell', 'eneskanter', 'kanter', 'rtfktstudios', 'ene', 'plane', 'enduyghurforcedlabor', 'boredapeyc', 'generation', 'impossibleisnothing', 'scctradingcards', 'topps', 'virgil', 'graduation', \"abloh's\", 'adidasfballus', 'nba_newyork', 'ronwyden']\n",
            "neighbors of lululemon: ['thank', 'happy', 'let', 'week', 'great', 'nice', 'running', 'thanks', 'top', 'follow', 'congratulation', 'feel', 'please', 'make', 'brand', 'fashion', 'hey', 'order', 'life', 'new', 'got', 'good', 'friend', 'put', 'everyone', 'love', 'need', 'give', 'card', 'buy', 'day', 'try', 'store', 'get', 'know', 'best', 'thing', 'customer', 'service', 'said', 'run', 'size', 'pair', 'one', 'find', 'something', 'product', 'way', 'app', 'keep', 'lol', 'course', 'wearing', 'business', 'see', 'stay', 'made', 'time', 'season', \"i'm\", 'guy', 'think', 'ya', 'chance', 'pack', 'favorite', 'deal', 'space', 'force', 'look', 'show', 'package', 'say', 'help', 'kid', 'tell', 'mean', 'many', 'work', 'take', 'shoe', 'coming', 'come', 'gear', 'hit', 'people', 'man', 'team', 'last', 'night', 'going', 'right', 'fan', 'money', 'point', 'real', 'better', 'lot', 'year', 'want', 'stop', 'community', 'getting', 'hope', 'family', 'send', 'pink', 'go', 'call', 'amazing', 'world', 'today', 'high', 'check', \"we're\", 'kick', 'change', 'woman', 'wear', 'company', 'first', 'wait', 'next', 'excited', 'ticket', 'part', 'using', 'including', 'release', 'nothing', 'anything', 'gonna', 'use', 'news', 'campaign', 'name', 'start', 'someone', 'trying', 'support', 'done', 'went', 'sure', 'china', 'bought', 'game', 'blazer', \"women's\", 'white', 'black', 'grey', 'partnership', 'much', 'turn', 'cool', 'adidas', 'jumpman23', 'girl', 'ad', 'looking', 'nike', 'number', 'damn', 'athlete', 'prize', 'care', 'report', 'big', 'shit', 'adidasoriginals', 'sport', 'proud', 'fedex', 'james', 'welcome', 'month', 'available', 'launch', 'blue', 'making', 'story', 'giving', 'date', 'inspired', 'issue', 'inspire', 'centre', 'link', 'dear', 'true', 'fly', 'book', 'drop', 'win', 'congrats', 'play', 'watch', 'instagram', 'exclusive', 'future', 'crazy', 'bring', 'knight', 'owner', 'fuck', 'nba', 'nfl', 'amazon', 'nft', 'logo', 'christmas', 'listen', 'plane', 'nikestore', 'jordan', 'player', 'slavery', 'air', 'nicekicks', 'ht', 'low', 'bro', 'red', 'kit', 'brilliant', 'jersey', 'modern', 'http', 'celtic', 'footlocker', 'innovation', 'forced', 'labor', 'sneaker', \"let's\", 'max', 'em', 'metaverse', 'dick', 'generation', 'nikenyc', 'atmos_usa', 'sneakeradmirals', 'snkr_twitr', 'ebay', 'baseball', 'purple', 'thee']\n",
            "----------------------------------------\n",
            "\n"
          ]
        }
      ],
      "source": [
        "#display a summary of the graph object created\n",
        "graph_summary_stats(G = SEM_Graph)"
      ]
    },
    {
      "cell_type": "code",
      "source": [
        "#SEM_Graph.edges(data=True)"
      ],
      "metadata": {
        "id": "H3RxA_HUjZlQ"
      },
      "execution_count": null,
      "outputs": []
    },
    {
      "cell_type": "code",
      "source": [
        "#extract edge weights\n",
        "hist_data_edge_weights = [SEM_Graph[u][v]['weight'] for u, v in SEM_Graph.edges()]\n",
        "\n",
        "#determine bin edges based on desired bin width\n",
        "bin_width = 1000\n",
        "min_edge_weight = min(hist_data_edge_weights)\n",
        "max_edge_weight = max(hist_data_edge_weights)\n",
        "bins = np.arange(min_edge_weight, max_edge_weight + bin_width, bin_width)\n",
        "\n",
        "#plot histogram\n",
        "plt.hist(hist_data_edge_weights, bins=bins, color='blue', edgecolor='black', alpha=0.7)\n",
        "plt.title('Histogram of Edge Weights')\n",
        "plt.xlabel('Weight')\n",
        "plt.ylabel('Number of Edges')\n",
        "plt.show()"
      ],
      "metadata": {
        "colab": {
          "base_uri": "https://localhost:8080/",
          "height": 472
        },
        "id": "MSlFQYlDaQaR",
        "outputId": "f952f18d-38e6-4a76-bdd7-b852b626e2b7"
      },
      "execution_count": null,
      "outputs": [
        {
          "output_type": "display_data",
          "data": {
            "text/plain": [
              "<Figure size 640x480 with 1 Axes>"
            ],
            "image/png": "[encoded data removed]"
          },
          "metadata": {}
        }
      ]
    },
    {
      "cell_type": "code",
      "source": [
        "SEM_Graph_clean = focus_edges(G = SEM_Graph,\n",
        "                            brand_nodes = None,\n",
        "                            weight_min = 125,\n",
        "                            weight_max = 35000)"
      ],
      "metadata": {
        "id": "oYRhj0pAbRcV"
      },
      "execution_count": null,
      "outputs": []
    },
    {
      "cell_type": "code",
      "source": [
        "#display a summary of the graph object created\n",
        "graph_summary_stats(G = SEM_Graph_clean)"
      ],
      "metadata": {
        "colab": {
          "base_uri": "https://localhost:8080/"
        },
        "id": "VL6r2_uubRtO",
        "outputId": "7893cd46-ef40-48a2-9f99-7a69b20db6db"
      },
      "execution_count": null,
      "outputs": [
        {
          "output_type": "stream",
          "name": "stdout",
          "text": [
            "----------------------------------------\n",
            "##### Graph Summary #####\n",
            "number of nodes: 300\n",
            "number of edges: 1766\n",
            "\n",
            "nodes: ['nike', \"women's\", 'air', 'white', 'available', 'footlocker', 'sneakerscouts', 'adidas', 'lasership', 'work', 'next', 'ad', 'space', 'low', 'snipes_usa', 'snkrs', 'get', 'nikebasketball', 'partnership', 'team', 'release', 'jordan', 'real', 'support', 'friend', 'family', 'kaya_alexander5', 'nikestore', 'sneakeradmirals', 'pair', 'lot', 'wait', 'game', 'jumpman23', 'cnn', 'instagram', 'ebay', 'amazon', 'business', 'max', 'ht', 'dunk', 'adidasoriginals', 'look', 'wearing', 'say', 'drop', 'time', 'vapormax', 'flyknit', 'finishline', 'much', 'people', 'nicekicks', 'snkr_twitr', 'good', 'sport', 'week', 'take', 'black', 'lol', 'think', 'care', 'deal', 'run', 'company', 'win', 'guy', 'see', 'way', 'keep', 'play', 'top', 'going', 'year', 'thank', 'great', 'getting', 'show', 'making', 'want', 'kingjames', 'start', 'blazer', 'red', 'need', 'jersey', 'sneaker', 'day', 'date', 'fashion', 'know', 'thanks', 'something', 'trying', 'issue', 'let', 'make', 'sure', 'love', 'buy', 'everyone', 'theestallion', 'thee', 'app', 'go', 'shoe', 'part', 'grey', 'hey', 'cool', 'exclusive', 'got', 'brand', 'new', 'customer', 'bought', 'blue', 'month', 'turn', 'please', 'use', 'package', 'put', 'lululemon', 'happy', \"we're\", 'giving', 'store', 'running', 'force', 'thing', \"i'm\", 'woman', 'service', 'night', 'gonna', 'first', 'help', 'change', 'bro', 'best', 'right', 'order', 'congrats', 'se', 'gear', 'http', 'season', 'one', 'kit', 'lfc', 'looking', 'man', 'many', 'size', 'last', 'chance', 'said', 'tell', 'campaign', 'link', 'story', 'today', 'nikenyc', 'girl', 'point', 'stay', 'em', 'hit', 'nice', 'product', 'stop', 'adidasfballus', 'shit', 'money', 'fly', 'atmos_usa', 'ticket', 'dick', 'big', 'pink', 'find', 'lebron', 'james', 'athlete', 'kick', 'fan', 'wear', 'check', 'icon', 'follow', 'done', 'community', 'try', 'amazing', 'life', 'send', 'favorite', 'congratulation', 'feel', 'crazy', 'world', 'bring', 'christmas', 'report', 'high', 'forced', 'watch', 'made', 'modern', 'phil', 'knight', 'name', 'welcome', 'slave', 'labor', 'number', 'innovation', 'mean', 'come', 'better', 'purple', 'fedex', 'logo', 'pack', 'give', 'card', 'true', 'hope', 'fuck', 'future', 'passing', 'someone', 'lexxdaturtle', 'damn', 'kid', 'prize', 'nfl', 'chose', 'nothing', 'player', \"let's\", 'dear', 'course', 'using', 'book', 'nikesb', 'ya', 'nft', 'anything', 'call', 'went', 'coming', 'solefed', 'excited', 'china', 'listen', 'michael', 'nba', 'celtic', 'proud', 'including', 'launch', 'impossibleisnothing', 'xbox', 'inspire', 'slavery', 'inspired', 'news', 'owner', 'brilliant', 'baseball', 'metaverse', 'centre', 'giannis_an34', 'roblox', 'donovan', 'mitchell', 'austinekeler', 'yardrunner', 'generation', 'heartbroken', 'xboxsweepstakes', 'hyperkin', 'plane', 'eneskanter', 'kanter', 'rtfktstudios', 'ene', 'enduyghurforcedlabor', 'boredapeyc', 'graduation', 'scctradingcards', 'topps', 'virgil', \"abloh's\", 'nba_newyork', 'ronwyden', 'maybes']\n",
            "\n",
            "neighbors of adidas: ['available', 'partnership', 'nike', 'real', 'get', 'support', 'friend', 'family', 'adidasoriginals', 'look', 'wearing', 'say', 'drop', 'much', 'people', 'lol', 'deal', 'black', 'run', 'company', 'thank', 'great', 'team', 'getting', 'need', 'jersey', 'start', 'know', 'play', 'pair', 'month', 'please', 'next', 'sneaker', 'love', 'new', 'year', 'thanks', 'service', 'shoe', 'keep', 'gonna', 'right', 'brand', 'make', 'sure', 'gear', 'see', 'got', 'one', 'good', 'day', 'top', 'trying', 'let', 'think', 'today', 'way', 'snkr_twitr', 'adidasfballus', 'want', 'man', 'show', 'first', 'size', 'check', 'icon', 'kit', 'follow', 'amazing', 'help', 'life', 'fan', 'order', 'wait', 'work', 'looking', 'season', 'time', 'store', 'win', 'point', 'world', 'better', 'hey', 'going', 'big', 'many', \"i'm\", 'hope', 'take', 'find', 'white', 'give', 'guy', 'card', 'nice', 'lasership', 'package', 'customer', 'money', 'nft', 'sport', 'happy', 'last', 'everyone', 'put', 'excited', 'buy', 'stop', 'something', 'thing', 'made', 'player', 'app', 'ad', 'running', 'release', 'stay', 'kick', 'impossibleisnothing', 'best', 'jumpman23', 'nfl', 'nba', 'wear', 'product', 'game', 'send', 'shit', 'crazy', 'cool', 'week', 'come', 'call', 'inspire', 'congrats', 'use', 'go', 'nothing', 'anything', 'exclusive', 'went', 'amazon', 'number', 'fedex', 'making', 'xbox', 'news', 'community', 'sneakeradmirals', 'chose', 'nicekicks', 'including', 'fashion', 'chance', 'christmas', 'donovan', 'mitchell', 'austinekeler', 'generation', 'xboxsweepstakes', 'hyperkin', 'lfc', 'listen', 'boredapeyc', 'metaverse', 'maybes']\n",
            "neighbors of nike: [\"women's\", 'air', 'white', 'available', 'footlocker', 'lasership', 'work', 'next', 'snkrs', 'get', 'nikebasketball', 'partnership', 'adidas', 'team', 'release', 'jordan', 'lot', 'wait', 'cnn', 'instagram', 'ebay', 'amazon', 'business', 'ad', 'max', 'snipes_usa', 'ht', 'dunk', 'time', 'vapormax', 'flyknit', 'finishline', 'jumpman23', 'sneakeradmirals', 'nicekicks', 'snkr_twitr', 'look', 'good', 'black', 'think', 'people', 'care', 'win', 'guy', 'see', 'way', 'keep', 'play', 'say', 'top', 'going', 'year', 'show', 'making', 'want', 'space', 'low', 'kingjames', 'start', 'blazer', 'getting', 'thanks', 'something', 'trying', 'issue', 'go', 'shoe', 'part', 'support', 'grey', 'turn', 'new', 'use', 'company', 'package', 'put', 'week', 'know', 'thing', \"i'm\", 'woman', 'day', 'red', 'let', 'order', 'congrats', 'customer', 'force', 'se', 'happy', 'http', 'season', 'lol', 'store', 'lfc', 'real', 'game', 'jersey', 'man', 'many', 'pair', 'size', 'last', 'chance', 'said', 'please', 'app', 'nikenyc', 'girl', 'point', 'blue', 'night', 'love', 'today', 'make', 'money', 'take', 'link', 'right', 'atmos_usa', 'great', 'nikestore', 'dick', 'sure', 'brand', 'pink', 'need', 'stop', 'giving', 'kick', 'buy', 'sport', 'story', 'check', 'sneaker', 'thank', 'got', 'send', 'favorite', 'product', 'world', 'bring', 'christmas', 'report', 'high', 'forced', 'best', 'made', 'big', 'phil', 'knight', 'athlete', 'name', 'much', 'kaya_alexander5', 'welcome', 'slave', 'labor', 'number', 'innovation', 'mean', 'come', 'em', 'lebron', 'run', 'purple', 'fan', 'fedex', 'help', 'bro', 'service', 'logo', 'pack', 'true', 'watch', 'looking', 'give', 'fuck', 'shit', 'tell', 'campaign', 'lexxdaturtle', 'gonna', 'community', 'one', 'nice', 'damn', 'amazing', 'month', 'done', 'theestallion', 'player', 'nothing', 'fashion', 'follow', 'gear', 'nfl', 'first', 'book', 'cool', 'nikesb', 'bought', 'try', 'wearing', 'anything', 'call', 'feel', 'deal', 'hit', \"we're\", 'life', 'hey', 'wear', 'went', 'better', 'coming', 'solefed', 'kid', 'excited', 'change', 'everyone', 'china', 'crazy', 'find', 'running', 'nba', 'celtic', 'including', 'someone', 'hope', 'future', 'launch', 'exclusive', 'course', 'family', 'using', 'drop', 'xbox', 'dear', 'friend', 'stay', 'thee', 'date', 'card', 'congratulation', 'james', 'prize', 'inspired', \"let's\", 'news', 'ya', 'owner', 'brilliant', 'adidasoriginals', 'baseball', 'nft', 'proud', 'fly', 'passing', 'slavery', 'giannis_an34', 'ticket', 'metaverse', 'roblox', 'yardrunner', 'heartbroken', 'centre', 'eneskanter', 'kanter', 'rtfktstudios', 'ene', 'plane', 'boredapeyc', 'generation', 'scctradingcards', 'topps', 'virgil', 'graduation', \"abloh's\", 'nba_newyork', 'ronwyden']\n",
            "neighbors of lululemon: ['thank', 'great', 'thanks', 'please', 'make', 'brand', 'order', 'new', 'got', 'good', 'love', 'need', 'day', 'store', 'get', 'know', 'best', 'customer', 'service', 'see', 'time', 'look', 'work', 'take', 'team', 'year', 'want', 'go', 'today', 'company', 'first', 'excited']\n",
            "----------------------------------------\n",
            "\n"
          ]
        }
      ]
    },
    {
      "cell_type": "code",
      "source": [
        "#extract edge weights\n",
        "hist_data_edge_weights = [SEM_Graph_clean[u][v]['weight'] for u, v in SEM_Graph_clean.edges()]\n",
        "\n",
        "#plot histogram\n",
        "plt.hist(hist_data_edge_weights, bins='auto', color='blue', edgecolor='black', alpha=0.7)\n",
        "plt.title('Histogram of Edge Weights')\n",
        "plt.xlabel('Weight')\n",
        "plt.ylabel('Number of Edges')\n",
        "plt.show()"
      ],
      "metadata": {
        "colab": {
          "base_uri": "https://localhost:8080/",
          "height": 472
        },
        "id": "9yTjoRvEbpXj",
        "outputId": "61f0debe-d91c-4593-dd59-293fdf75dd2d"
      },
      "execution_count": null,
      "outputs": [
        {
          "output_type": "display_data",
          "data": {
            "text/plain": [
              "<Figure size 640x480 with 1 Axes>"
            ],
            "image/png": "[encoded data removed]"
          },
          "metadata": {}
        }
      ]
    },
    {
      "cell_type": "code",
      "source": [
        "#SEM_Graph_clean.edges(data=True)"
      ],
      "metadata": {
        "id": "cu6iCMBBE-s2"
      },
      "execution_count": null,
      "outputs": []
    },
    {
      "cell_type": "markdown",
      "source": [
        "## Create Subgraphs for Analysis"
      ],
      "metadata": {
        "id": "y26WUgSJFJ1X"
      }
    },
    {
      "cell_type": "code",
      "source": [
        "##### Shared Sets of Node Intersetions #####\n",
        "\n",
        "# Define key nodes\n",
        "key_nodes_all = ['nike', 'lululemon', 'adidas']\n",
        "key_nodes_nl = ['nike', 'lululemon']\n",
        "key_nodes_na = ['nike', 'adidas']\n",
        "key_nodes_al = ['adidas', 'lululemon']\n",
        "\n",
        "# Find neighbors of the key nodes\n",
        "neighbors_sets_all = [set(nx.all_neighbors(SEM_Graph_clean, node)) for node in key_nodes_all]\n",
        "neighbors_sets_nl = [set(nx.all_neighbors(SEM_Graph_clean, node)) for node in key_nodes_nl]\n",
        "neighbors_sets_na = [set(nx.all_neighbors(SEM_Graph_clean, node)) for node in key_nodes_na]\n",
        "neighbors_sets_al = [set(nx.all_neighbors(SEM_Graph_clean, node)) for node in key_nodes_al]\n",
        "\n",
        "# Intersect the sets to get nodes connected to all key nodes\n",
        "common_neighbors_all = set.intersection(*neighbors_sets_all)\n",
        "\n",
        "# Intersect the sets to get nodes connected to only 2 key nodes\n",
        "\n",
        "common_neighbors_nl = set.intersection(*neighbors_sets_nl) - common_neighbors_all\n",
        "common_neighbors_na = set.intersection(*neighbors_sets_na) - common_neighbors_all\n",
        "common_neighbors_al = set.intersection(*neighbors_sets_al) - common_neighbors_all\n",
        "\n",
        "# Get nodes connected to any one of the key nodes but not all of them\n",
        "union_neighbors = set.union(*neighbors_sets_all)\n",
        "\n",
        "# Get nodes connected to only 1 brand\n",
        "exclusive_neighbors = (union_neighbors - common_neighbors_all\n",
        "                       - common_neighbors_nl - common_neighbors_na - common_neighbors_al)"
      ],
      "metadata": {
        "id": "q6-OS9X_FJ9d"
      },
      "execution_count": null,
      "outputs": []
    },
    {
      "cell_type": "code",
      "source": [
        "##### Bridging to All Brands Nodes #####\n",
        "# Create a subgraph\n",
        "nodes_to_keep = list(common_neighbors_all) + key_nodes_all\n",
        "SEM_Graph_bridge_3 = SEM_Graph_clean.subgraph(nodes_to_keep)\n",
        "#display a summary of the subgraph\n",
        "graph_summary_stats(G = SEM_Graph_bridge_3, title='Bridging to All Brands Nodes')\n",
        "\n",
        "##### Nike to Adidas Bridges #####\n",
        "# Create a subgraph\n",
        "nodes_to_keep = list(common_neighbors_na) + key_nodes_all\n",
        "SEM_Graph_bridge_na = SEM_Graph_clean.subgraph(nodes_to_keep)\n",
        "#SEM_Graph_bridge_na = focus_edges(G = SEM_Graph_bridge_na, weight_min = 1000)\n",
        "#display a summary of the subgraph\n",
        "graph_summary_stats(G = SEM_Graph_bridge_na, title='Nike to Adidas Bridges')\n",
        "\n",
        "##### Nike to Lululemon Bridges #####\n",
        "# Create a subgraph\n",
        "nodes_to_keep = list(common_neighbors_nl) + key_nodes_all\n",
        "SEM_Graph_bridge_nl = SEM_Graph_clean.subgraph(nodes_to_keep)\n",
        "#display a summary of the subgraph\n",
        "graph_summary_stats(G = SEM_Graph_bridge_nl, title='Nike to Lululemon Bridges')\n",
        "\n",
        "##### Adidas to Lululemon Bridges #####\n",
        "# Create a subgraph\n",
        "nodes_to_keep = list(common_neighbors_al) + key_nodes_all\n",
        "SEM_Graph_bridge_al = SEM_Graph_clean.subgraph(nodes_to_keep)\n",
        "#display a summary of the subgraph\n",
        "graph_summary_stats(G = SEM_Graph_bridge_al, title='Adidas to Lululemon Bridges')"
      ],
      "metadata": {
        "colab": {
          "base_uri": "https://localhost:8080/"
        },
        "id": "UXiomdKYV2b1",
        "outputId": "984fde1c-27ae-4d80-8520-d43f9ab304ed"
      },
      "execution_count": null,
      "outputs": [
        {
          "output_type": "stream",
          "name": "stdout",
          "text": [
            "----------------------------------------\n",
            "##### Bridging to All Brands Nodes #####\n",
            "number of nodes: 35\n",
            "number of edges: 164\n",
            "\n",
            "nodes: ['lululemon', 'want', 'thank', 'order', 'time', 'store', 'make', 'great', 'nike', 'work', 'first', 'year', 'today', 'service', 'go', 'brand', 'get', 'please', 'adidas', 'best', 'see', 'take', 'day', 'new', 'look', 'know', 'customer', 'company', 'thanks', 'got', 'need', 'good', 'excited', 'love', 'team']\n",
            "\n",
            "neighbors of adidas: ['nike', 'get', 'look', 'company', 'thank', 'great', 'team', 'need', 'know', 'please', 'love', 'new', 'year', 'thanks', 'service', 'brand', 'make', 'see', 'got', 'good', 'day', 'today', 'want', 'first', 'order', 'work', 'time', 'store', 'take', 'customer', 'excited', 'best', 'go']\n",
            "neighbors of nike: ['work', 'get', 'adidas', 'team', 'time', 'look', 'good', 'see', 'year', 'want', 'thanks', 'go', 'new', 'company', 'know', 'day', 'order', 'customer', 'store', 'please', 'love', 'today', 'make', 'take', 'great', 'brand', 'need', 'thank', 'got', 'best', 'service', 'first', 'excited']\n",
            "neighbors of lululemon: ['thank', 'great', 'thanks', 'please', 'make', 'brand', 'order', 'new', 'got', 'good', 'love', 'need', 'day', 'store', 'get', 'know', 'best', 'customer', 'service', 'see', 'time', 'look', 'work', 'take', 'team', 'year', 'want', 'go', 'today', 'company', 'first', 'excited']\n",
            "----------------------------------------\n",
            "\n",
            "----------------------------------------\n",
            "##### Nike to Adidas Bridges #####\n",
            "number of nodes: 125\n",
            "number of edges: 381\n",
            "\n",
            "nodes: ['metaverse', 'kick', 'happy', 'sure', 'fedex', 'app', 'fan', 'wait', 'buy', 'put', 'black', 'running', \"i'm\", 'give', 'hey', 'jersey', 'point', 'went', 'cool', 'product', 'man', 'start', 'send', 'white', 'follow', 'nba', 'nfl', 'world', 'player', 'made', 'real', 'come', 'friend', 'family', 'release', 'lululemon', 'support', 'gear', 'looking', 'partnership', 'shit', 'exclusive', 'play', 'find', 'lol', 'jumpman23', 'wear', 'people', 'life', 'trying', 'news', 'big', 'check', 'fashion', 'available', 'use', 'shoe', 'right', 'drop', 'week', 'making', 'chance', 'wearing', 'community', 'adidasoriginals', 'way', 'amazing', 'something', 'lfc', 'next', 'package', 'nike', 'christmas', 'gonna', 'snkr_twitr', 'congrats', 'let', 'sneakeradmirals', 'lasership', 'amazon', 'number', 'sneaker', 'getting', 'size', 'money', 'win', 'generation', 'ad', 'much', 'nicekicks', 'stay', 'nothing', 'one', 'anything', 'including', 'guy', 'better', 'going', 'top', 'pair', 'game', 'month', 'call', 'say', 'sport', 'deal', 'stop', 'nft', 'card', 'hope', 'everyone', 'show', 'thing', 'boredapeyc', 'keep', 'adidas', 'crazy', 'last', 'think', 'xbox', 'help', 'season', 'nice', 'run', 'many']\n",
            "\n",
            "neighbors of adidas: ['available', 'partnership', 'nike', 'real', 'support', 'friend', 'family', 'adidasoriginals', 'wearing', 'say', 'drop', 'much', 'people', 'lol', 'deal', 'black', 'run', 'getting', 'jersey', 'start', 'play', 'pair', 'month', 'next', 'sneaker', 'shoe', 'keep', 'gonna', 'right', 'sure', 'gear', 'one', 'top', 'trying', 'let', 'think', 'way', 'snkr_twitr', 'man', 'show', 'size', 'check', 'follow', 'amazing', 'help', 'life', 'fan', 'wait', 'looking', 'season', 'win', 'point', 'world', 'better', 'hey', 'going', 'big', 'many', \"i'm\", 'hope', 'find', 'white', 'give', 'guy', 'card', 'nice', 'lasership', 'package', 'money', 'nft', 'sport', 'happy', 'last', 'everyone', 'put', 'buy', 'stop', 'something', 'thing', 'made', 'player', 'app', 'ad', 'running', 'release', 'stay', 'kick', 'jumpman23', 'nfl', 'nba', 'wear', 'product', 'game', 'send', 'shit', 'crazy', 'cool', 'week', 'come', 'call', 'congrats', 'use', 'nothing', 'anything', 'exclusive', 'went', 'amazon', 'number', 'fedex', 'making', 'xbox', 'news', 'community', 'sneakeradmirals', 'nicekicks', 'including', 'fashion', 'chance', 'christmas', 'generation', 'lfc', 'boredapeyc', 'metaverse']\n",
            "neighbors of nike: ['white', 'available', 'lasership', 'next', 'partnership', 'adidas', 'release', 'wait', 'amazon', 'ad', 'jumpman23', 'sneakeradmirals', 'nicekicks', 'snkr_twitr', 'black', 'think', 'people', 'win', 'guy', 'way', 'keep', 'play', 'say', 'top', 'going', 'show', 'making', 'start', 'getting', 'something', 'trying', 'shoe', 'support', 'use', 'package', 'put', 'week', 'thing', \"i'm\", 'let', 'congrats', 'happy', 'season', 'lol', 'lfc', 'real', 'game', 'jersey', 'man', 'many', 'pair', 'size', 'last', 'chance', 'app', 'point', 'money', 'right', 'sure', 'stop', 'kick', 'buy', 'sport', 'check', 'sneaker', 'send', 'product', 'world', 'christmas', 'made', 'big', 'much', 'number', 'come', 'run', 'fan', 'fedex', 'help', 'looking', 'give', 'shit', 'gonna', 'community', 'one', 'nice', 'amazing', 'month', 'player', 'nothing', 'fashion', 'follow', 'gear', 'nfl', 'cool', 'wearing', 'anything', 'call', 'deal', 'life', 'hey', 'wear', 'went', 'better', 'everyone', 'crazy', 'find', 'running', 'nba', 'including', 'hope', 'exclusive', 'family', 'drop', 'xbox', 'friend', 'stay', 'card', 'news', 'adidasoriginals', 'nft', 'metaverse', 'boredapeyc', 'generation']\n",
            "neighbors of lululemon: []\n",
            "----------------------------------------\n",
            "\n",
            "----------------------------------------\n",
            "##### Nike to Lululemon Bridges #####\n",
            "number of nodes: 3\n",
            "number of edges: 1\n",
            "\n",
            "nodes: ['lululemon', 'adidas', 'nike']\n",
            "\n",
            "neighbors of adidas: ['nike']\n",
            "neighbors of nike: ['adidas']\n",
            "neighbors of lululemon: []\n",
            "----------------------------------------\n",
            "\n",
            "----------------------------------------\n",
            "##### Adidas to Lululemon Bridges #####\n",
            "number of nodes: 3\n",
            "number of edges: 1\n",
            "\n",
            "nodes: ['lululemon', 'adidas', 'nike']\n",
            "\n",
            "neighbors of adidas: ['nike']\n",
            "neighbors of nike: ['adidas']\n",
            "neighbors of lululemon: []\n",
            "----------------------------------------\n",
            "\n"
          ]
        }
      ]
    },
    {
      "cell_type": "code",
      "source": [
        "##### Exclusive Nodes: Unique to Only 1 Brand #####\n",
        "\n",
        "# Create a subgraph\n",
        "nodes_to_keep_exc = list(exclusive_neighbors) + key_nodes_all\n",
        "SEM_Graph_exc = SEM_Graph_clean.subgraph(nodes_to_keep_exc)\n",
        "\n",
        "#filter the graph edges to focus on influential to brands\n",
        "SEM_Graph_exc = focus_edges(G = SEM_Graph_exc,\n",
        "                            #brand_nodes = key_nodes_all,\n",
        "                            weight_min = 500)\n",
        "\n",
        "#display a summary of the subgraph\n",
        "graph_summary_stats(G = SEM_Graph_exc, title='Exclusive Nodes: Unique to Only 1 Brand')"
      ],
      "metadata": {
        "colab": {
          "base_uri": "https://localhost:8080/"
        },
        "id": "HiLTBTg_V2e2",
        "outputId": "83fd232e-95c4-4542-a122-8d7d80b3f1b7"
      },
      "execution_count": null,
      "outputs": [
        {
          "output_type": "stream",
          "name": "stdout",
          "text": [
            "----------------------------------------\n",
            "##### Exclusive Nodes: Unique to Only 1 Brand #####\n",
            "number of nodes: 118\n",
            "number of edges: 323\n",
            "\n",
            "nodes: ['ene', \"we're\", 'business', 'knight', 'http', 'report', 'giannis_an34', 'launch', 'nikesb', 'kaya_alexander5', 'adidasfballus', 'dunk', 'inspired', 'china', 'slavery', 'topps', 'coming', 'campaign', 'phil', 'rtfktstudios', 'eneskanter', 'book', 'dick', 'nikebasketball', 'max', 'pink', 'kingjames', 'mitchell', 'blazer', 'air', 'listen', 'austinekeler', 'watch', 'heartbroken', 'roblox', 'inspire', 'fly', 'slave', 'cnn', 'xboxsweepstakes', 'james', 'atmos_usa', 'using', \"women's\", 'theestallion', 'brilliant', 'ticket', 'prize', 'low', 'snipes_usa', 'kit', 'course', 'donovan', 'feel', 'athlete', 'instagram', 'grey', \"abloh's\", 'owner', 'said', 'fuck', 'chose', 'ya', 'celtic', 'jordan', 'space', 'girl', 'icon', 'giving', 'snkrs', 'thee', 'nike', 'graduation', 'plane', 'date', 'virgil', 'scctradingcards', 'night', 'lexxdaturtle', 'se', 'pack', 'ronwyden', 'care', 'force', 'innovation', 'yardrunner', 'nikestore', 'dear', 'baseball', 'try', 'nikenyc', 'maybes', 'impossibleisnothing', 'bought', 'nba_newyork', 'congratulation', 'footlocker', \"let's\", 'forced', 'solefed', 'high', 'welcome', 'finishline', 'logo', 'ht', 'ebay', 'purple', 'centre', 'passing', 'future', 'adidas', 'flyknit', 'labor', 'red', 'lebron', 'blue', 'hyperkin', 'vapormax']\n",
            "\n",
            "neighbors of adidas: ['nike', 'adidasfballus', 'icon', 'kit', 'impossibleisnothing', 'inspire', 'chose', 'donovan', 'mitchell', 'austinekeler', 'xboxsweepstakes', 'hyperkin', 'listen', 'maybes']\n",
            "neighbors of nike: [\"women's\", 'air', 'footlocker', 'snkrs', 'nikebasketball', 'adidas', 'jordan', 'cnn', 'instagram', 'ebay', 'business', 'max', 'snipes_usa', 'ht', 'dunk', 'vapormax', 'flyknit', 'finishline', 'care', 'space', 'low', 'kingjames', 'blazer', 'grey', 'red', 'force', 'se', 'http', 'said', 'nikenyc', 'girl', 'blue', 'night', 'atmos_usa', 'nikestore', 'dick', 'pink', 'giving', 'report', 'high', 'forced', 'phil', 'knight', 'athlete', 'kaya_alexander5', 'welcome', 'slave', 'labor', 'innovation', 'lebron', 'purple', 'logo', 'pack', 'watch', 'fuck', 'campaign', 'lexxdaturtle', 'theestallion', 'book', 'nikesb', 'bought', 'try', 'feel', \"we're\", 'coming', 'solefed', 'china', 'celtic', 'future', 'launch', 'course', 'using', 'thee', 'date', 'congratulation', 'james', 'prize', 'inspired', \"let's\", 'ya', 'owner', 'brilliant', 'baseball', 'fly', 'passing', 'giannis_an34', 'ticket', 'roblox', 'yardrunner', 'heartbroken', 'centre', 'eneskanter', 'rtfktstudios', 'plane', 'scctradingcards', 'topps', 'virgil', 'graduation', \"abloh's\", 'nba_newyork', 'ronwyden']\n",
            "----------------------------------------\n",
            "\n"
          ]
        }
      ]
    },
    {
      "cell_type": "markdown",
      "metadata": {
        "id": "Ah6D4FI-RDtl"
      },
      "source": [
        "## Plot All the Graphs"
      ]
    },
    {
      "cell_type": "code",
      "execution_count": null,
      "metadata": {
        "id": "hrgKXbHvSVIr"
      },
      "outputs": [],
      "source": [
        "#plot the baseline graph\n",
        "plot_graph(G = SEM_Graph_clean, file_path='semantic_network', use_edge_weight=False)"
      ]
    },
    {
      "cell_type": "markdown",
      "source": [
        "![picture](https://drive.google.com/uc?id=13Gw10LpnQ_te6xysy4wz82xzzZ4TEzAq)"
      ],
      "metadata": {
        "id": "PHAKyyyOWQJv"
      }
    },
    {
      "cell_type": "code",
      "source": [
        "#plot the graph\n",
        "plot_graph(G = SEM_Graph_bridge_3, file_path='semantic_network_bridge_all_3', use_edge_weight=False)\n",
        "\n",
        "#plot the graph\n",
        "plot_graph(G = SEM_Graph_bridge_na, file_path='semantic_network_bridge_nike_adidas', use_edge_weight=False)\n",
        "\n",
        "#plot the graph\n",
        "plot_graph(G = SEM_Graph_bridge_nl, file_path='semantic_network_bridge_nike_lululemon', use_edge_weight=False)\n",
        "\n",
        "#plot the graph\n",
        "plot_graph(G = SEM_Graph_bridge_al, file_path='semantic_network_bridge_adidas_lululemon', use_edge_weight=False)\n",
        "\n",
        "#plot the exclusive node graph\n",
        "plot_graph(G = SEM_Graph_exc, file_path='semantic_network_exclusive', use_edge_weight=False)"
      ],
      "metadata": {
        "id": "ISDi55rNYUBn"
      },
      "execution_count": null,
      "outputs": []
    },
    {
      "cell_type": "markdown",
      "metadata": {
        "id": "gSYya309LXz5"
      },
      "source": [
        "# 5.&nbsp;Graph with Pyvis\n"
      ]
    },
    {
      "cell_type": "code",
      "source": [
        "#https://pyvis.readthedocs.io/en/latest/tutorial.html\n",
        "# create a network model in pyviz\n",
        "nt = Network(height=\"600px\", width=\"100%\", directed=True, notebook=True, layout='force_atlas_2based', cdn_resources='remote')\n",
        "# populates the nodes and edges data structures\n",
        "nt.from_nx(MEN_Graph)\n",
        "nt.show_buttons(filter_=['physics'])\n",
        "nt.show('nx.html')\n",
        "from IPython.core.display import display, HTML\n",
        "display(HTML('nx.html'))"
      ],
      "metadata": {
        "id": "6x7T0rbQs1P_"
      },
      "execution_count": null,
      "outputs": []
    },
    {
      "cell_type": "markdown",
      "metadata": {
        "id": "CyfU6dVbLX-S"
      },
      "source": [
        "# 6.&nbsp;Analysis of Graphs"
      ]
    },
    {
      "cell_type": "markdown",
      "source": [
        "**Mention Networks: Who are the Most Central Users?**\n",
        "\n",
        "In looking at your directed, valued network of mentions, what users are most central for each brand? Inspect at least the top 10 most central for each brand. Who are they? Why do you think they're so engaged with your brand on Twitter?\n",
        "\n",
        "From an advertising/marketing perspective, these are our loyal brand ambassadors. A good social media manager should know who these people are and give them preferential treatment, such as sending them swag, sending them early access to new products/content, and generally engaging with them on the platform to show reciprocity in the relationship.\n"
      ],
      "metadata": {
        "id": "0uCRGINwtDM7"
      }
    },
    {
      "cell_type": "markdown",
      "source": [
        "![picture](https://drive.google.com/uc?id=13BLksm_2IGi0FKJ6ucZ38Y7658jcVUfP)"
      ],
      "metadata": {
        "id": "oOa6B-BBMxgh"
      }
    },
    {
      "cell_type": "markdown",
      "source": [
        "After reviewing the mention network and using a sub-graph to better focus in on the unique users related to teach brand, I selected the following users as an example of central user to each brand.\n",
        "\n",
        "1. [Solefed](https://twitter.com/solefed) (Nike): This user focuses on sneakers, restocks, releases, and deals. He does a lot of tweeting about the nike brand and appears to be an influencer, on a moderate scale.\n",
        "2. [KatGraham](https://twitter.com/KatGraham) (Adidas): Kate Graham appears to be a celebrity that talks about the Adidas brand alot.\n",
        "3. [GolfDigest](https://twitter.com/GolfDigest) (Lululemon): Golf Digest is a magazine an is one the largest conversation leaders about Lululemon. They likely have a marketing agreement with the brand."
      ],
      "metadata": {
        "id": "qR42sfivMxol"
      }
    },
    {
      "cell_type": "markdown",
      "metadata": {
        "id": "ZpYaDGfFLYJD"
      },
      "source": [
        "**Mention Networks: Who are the Most Important Bridgers?**\n",
        "\n",
        "Some users will mention multiple (or all three) brands. Who are those people? If bridge users (bridgers) exist, who are they? Why are they interested in this product so much? From an advertising/marketing perspective, these are people who are \"pro users\" of your category, and their hyper interest is something that you can use to engage with them, that is, they'll always be interested in your new product/services before others are.\n",
        "\n",
        "\n",
        "\n"
      ]
    },
    {
      "cell_type": "markdown",
      "source": [
        "![picture](https://drive.google.com/uc?id=13Bjjbjai2G_tuNEVqLtZO49oiSL9Xo3q)"
      ],
      "metadata": {
        "id": "yEvV2VS7M4OL"
      }
    },
    {
      "cell_type": "markdown",
      "source": [
        "While limited, I decided to focus on the 3 user accounts that bridge between all 3 brands have a significant amount of mentions. These brands are highlighted below.\n",
        "\n",
        "1. [Wwd](https://twitter.com/wwd): An account focused on fashion, beauty, and business. Their scope of conversation includes Nike, Adidas, and Lululemon. Given their 2.7M follwes, they can be considered a media outlet that is working to set trends.\n",
        "2. [Uniwatch](https://twitter.com/UniWatch): An influencer with 138.8K followers. They focusing on athletic asthetics, so they would be a good point of contact to engage on a regular basis.\n",
        "3. [deezefi](https://twitter.com/DeeZeFi): An influencer that appears to be from the definance space. It would be worth investigating why your brand is a topic of conversation related to blockchain and other defi topics."
      ],
      "metadata": {
        "id": "AHitaQ8tM4cK"
      }
    },
    {
      "cell_type": "markdown",
      "source": [
        "**Semantic Networks: What are Key Clusters of Activity?**\n",
        "\n",
        "Look at the word clusters. Interpret them. Identify the key clusters of activity. What's going on in each cluster?"
      ],
      "metadata": {
        "id": "s8e-qgFQs0sL"
      }
    },
    {
      "cell_type": "markdown",
      "source": [
        "![picture](https://drive.google.com/uc?id=13E70-AskbctaNo-29oUveQUlPkUpGA8h)"
      ],
      "metadata": {
        "id": "J_2LycpHPULQ"
      }
    },
    {
      "cell_type": "markdown",
      "source": [
        "While there are many cluster of actvity, I found the following five to be most interesting and having the tightest clustering.\n",
        "\n",
        "1. Jordan's and Lebron James Shoe Releases\n",
        "2. Xbox Promotion Where You Can Win Exclusive Gear\n",
        "3. Booking Airline Tickets to China\n",
        "4. Negative Sentiment About Forced Labor Practices\n",
        "5. Postive Sentiment and General Lust for Athletic Shoes"
      ],
      "metadata": {
        "id": "7KnsV824PURW"
      }
    },
    {
      "cell_type": "markdown",
      "source": [
        "**Semantic Networks: What Word Clusters Does Each Brand Own?**\n",
        "\n",
        "What attributes (words, or cluster of words) does each brand uniquely own? That is, what attributes are uniquely linked to each brand? From a marketing perspective, the most central nodes are the attributes that each brand most \"owns.\" These are implicit to the consumer, and therefore our strengths. Practically, this means that the brand doesn't need to do work advertising/marketing these perceptions, instead it should focus on reinforcing things that aren't as central, or missing from this semantic network completely."
      ],
      "metadata": {
        "id": "2NhJI7EKtTvb"
      }
    },
    {
      "cell_type": "markdown",
      "source": [
        "![picture](https://drive.google.com/uc?id=13DAxHMQ-DKMcHhKW3WFoN5uziYtO6PF_)"
      ],
      "metadata": {
        "id": "ypmJm2-jPcrw"
      }
    },
    {
      "cell_type": "markdown",
      "source": [
        "The Nike Brand had very strong clusters of words that they owned. These included:\n",
        "1. The Launch of New Lebron James Shoe that is Praised as Brilliant and Innovative\n",
        "2. Trademarked and Brand Specific Shoe and Clothing Technologies\n",
        "3. A Propotion to Win Baseball Trading Cards"
      ],
      "metadata": {
        "id": "nNjxqiYLPc08"
      }
    },
    {
      "cell_type": "markdown",
      "source": [
        "**Semantic Networks: What are the Most Important Bridging Words?**\n",
        "\n",
        "Brands will likely share some key attributes (words). If so, what are they? What commonalities do brands have with each other? These commonalities can be thought of as product differentiation things to avoid. That is, we'd never create advertising or marketing materials that reflect non-unique attributes about our products. Knowing that we share things with our competitors also can tell us how we better need to differentiate our products."
      ],
      "metadata": {
        "id": "j7P5Enhxtv54"
      }
    },
    {
      "cell_type": "markdown",
      "source": [
        "Across the 3 brands, the most common bridging words focused on:\n",
        "1. Positive sentiment words\n",
        "2. Temporal (time) related words\n",
        "3. Store and shopping words\n",
        "4. Customer service related words\n",
        "\n",
        "Overall, the shared words across the 3 brands were fairly generic.\n",
        "\n",
        "When looking at Nike and Adidas, they shared words related to shoes and types of sports. In general, Lululemon was talked about much less on Twitter and seemed have fewer commonalities with Adidas and Nike."
      ],
      "metadata": {
        "id": "y1gcPDAcSfKu"
      }
    }
  ],
  "metadata": {
    "colab": {
      "machine_shape": "hm",
      "toc_visible": true,
      "provenance": [],
      "authorship_tag": "ABX9TyMpFdUp/6tY3ySulW6Dx0VA",
      "include_colab_link": true
    },
    "kernelspec": {
      "display_name": "Python 3",
      "name": "python3"
    },
    "language_info": {
      "name": "python"
    }
  },
  "nbformat": 4,
  "nbformat_minor": 0
}